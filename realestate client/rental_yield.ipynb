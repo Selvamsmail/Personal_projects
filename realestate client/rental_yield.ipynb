{
  "nbformat": 4,
  "nbformat_minor": 0,
  "metadata": {
    "colab": {
      "provenance": []
    },
    "kernelspec": {
      "name": "python3",
      "display_name": "Python 3"
    },
    "language_info": {
      "name": "python"
    }
  },
  "cells": [
    {
      "cell_type": "code",
      "execution_count": null,
      "metadata": {
        "id": "me9azVMunjjh"
      },
      "outputs": [],
      "source": [
        "import pandas as pd\n",
        "import gdown\n",
        "import re\n",
        "import requests\n",
        "from bs4 import BeautifulSoup\n",
        "import json\n",
        "import pandas as pd\n",
        "import os\n",
        "import gc\n",
        "import time\n",
        "import pytz\n",
        "import datetime\n",
        "import logging\n",
        "from tqdm import tqdm\n",
        "import traceback\n",
        "import numpy as np"
      ]
    },
    {
      "cell_type": "code",
      "source": [
        "df = pd.read_excel('/content/DomainExtract_20230616.xlsx')"
      ],
      "metadata": {
        "id": "T4zjOikinzNV"
      },
      "execution_count": null,
      "outputs": []
    },
    {
      "cell_type": "code",
      "source": [
        "df['postcode'] = df['postcode'].apply(lambda x: f\"0{x}\" if len(str(x)) == 3 else str(x))"
      ],
      "metadata": {
        "id": "-onarwPmoA7j"
      },
      "execution_count": null,
      "outputs": []
    },
    {
      "cell_type": "code",
      "source": [
        "df['median_price_int'] = df['median_price'].apply(lambda x: NaN if x == '-' else str(x))\n",
        "df['median_price_int'] = df['median_price_int'].astype('str')"
      ],
      "metadata": {
        "id": "7MZnCJQmxHVo"
      },
      "execution_count": null,
      "outputs": []
    },
    {
      "cell_type": "code",
      "source": [
        "def convert_to_int(value):\n",
        "\n",
        "    multiplier = 1\n",
        "    if value.endswith('k'):\n",
        "        multiplier = 1000\n",
        "    elif value.endswith('m'):\n",
        "        multiplier = 1000000\n",
        "    value = re.sub('[^\\d.]', '', value)\n",
        "    return int(float(value) * multiplier)\n",
        "\n",
        "df['median_price_int'] = [convert_to_int(value) for value in df['median_price_int']]"
      ],
      "metadata": {
        "id": "ZOCxsj5exnMP"
      },
      "execution_count": null,
      "outputs": []
    },
    {
      "cell_type": "code",
      "source": [
        "df['median_price_int'].unique()"
      ],
      "metadata": {
        "colab": {
          "base_uri": "https://localhost:8080/"
        },
        "id": "QvZ_gL3Zx2EY",
        "outputId": "dc2edec5-7ced-427c-ff66-b23fb91d08f6"
      },
      "execution_count": null,
      "outputs": [
        {
          "output_type": "execute_result",
          "data": {
            "text/plain": [
              "array([     0, 261000, 415000, ..., 103000, 125000, 644000])"
            ]
          },
          "metadata": {},
          "execution_count": 70
        }
      ]
    },
    {
      "cell_type": "code",
      "source": [
        "df['rental_median_price'] = df['rental_median_price'].replace('-', np.nan)\n",
        "df['rental_median_price'] = df['rental_median_price'].str.replace('$', '')\n",
        "df['rental_median_price'] = pd.to_numeric(df['rental_median_price'], errors='coerce').fillna(0).astype(int)\n",
        "\n",
        "print(df['rental_median_price'])"
      ],
      "metadata": {
        "colab": {
          "base_uri": "https://localhost:8080/"
        },
        "id": "KMNtqTWF0lof",
        "outputId": "c8eac129-bf69-4c0a-bea5-e4b4a3015b1e"
      },
      "execution_count": null,
      "outputs": [
        {
          "output_type": "stream",
          "name": "stdout",
          "text": [
            "0        0\n",
            "1        0\n",
            "2        0\n",
            "3        0\n",
            "4        0\n",
            "        ..\n",
            "25126    0\n",
            "25127    0\n",
            "25128    0\n",
            "25129    0\n",
            "25130    0\n",
            "Name: rental_median_price, Length: 25131, dtype: int64\n"
          ]
        },
        {
          "output_type": "stream",
          "name": "stderr",
          "text": [
            "<ipython-input-69-0b28763cbbf4>:2: FutureWarning: The default value of regex will change from True to False in a future version. In addition, single character regular expressions will *not* be treated as literal strings when regex=True.\n",
            "  df['rental_median_price'] = df['rental_median_price'].str.replace('$', '')\n"
          ]
        }
      ]
    },
    {
      "cell_type": "code",
      "source": [
        "df['rental_yield'] = (df['rental_median_price'] * 12 / df['median_price_int']) * 100\n",
        "df['rental_yield'] = df['rental_yield'].replace([np.inf, -np.inf, np.nan], 0).astype(int).astype(str) + '%'\n",
        "df['rental_yield'].unique()"
      ],
      "metadata": {
        "colab": {
          "base_uri": "https://localhost:8080/"
        },
        "id": "9cgC-6rx6PVR",
        "outputId": "339a14a0-8ca5-4fa1-b235-87b885b11540"
      },
      "execution_count": null,
      "outputs": [
        {
          "output_type": "execute_result",
          "data": {
            "text/plain": [
              "array(['0%', '1%', '2%', '3%', '4%', '7%', '6%'], dtype=object)"
            ]
          },
          "metadata": {},
          "execution_count": 78
        }
      ]
    },
    {
      "cell_type": "code",
      "source": [
        "custom_order = ['postcode', 'state', 'suburb_name', 'bedrooms', 'type', 'median_price','median_price_int','rental_median_price','rental_yield',\n",
        "       'avg_days_on_market', 'clearance_rate', 'sold_this_year', 'population',\n",
        "       'average_age', 'owner', 'renter', 'family', 'single', 'suburb',\n",
        "       'time_stamp', 'auction_clearance',\n",
        "       'average_days_on_market', 'median_price_2023', 'growth_rate_2023',\n",
        "       'no_of_sales_2023', 'median_price_2022', 'growth_rate_2022',\n",
        "       'no_of_sales_2022', 'median_price_2021', 'growth_rate_2021',\n",
        "       'no_of_sales_2021', 'median_price_2020', 'growth_rate_2020',\n",
        "       'no_of_sales_2020', 'median_price_2019', 'growth_rate_2019',\n",
        "       'no_of_sales_2019']\n",
        "df = df.reindex(columns=custom_order)"
      ],
      "metadata": {
        "id": "qSy-abnx9HPo"
      },
      "execution_count": null,
      "outputs": []
    },
    {
      "cell_type": "code",
      "source": [
        "df.to_excel('DomainExtract_20230616.xlsx',index = False)"
      ],
      "metadata": {
        "id": "HOKOu_bU9YQP"
      },
      "execution_count": null,
      "outputs": []
    }
  ]
}