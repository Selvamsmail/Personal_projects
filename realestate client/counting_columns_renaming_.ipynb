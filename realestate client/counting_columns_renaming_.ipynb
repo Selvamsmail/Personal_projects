{
  "nbformat": 4,
  "nbformat_minor": 0,
  "metadata": {
    "colab": {
      "provenance": []
    },
    "kernelspec": {
      "name": "python3",
      "display_name": "Python 3"
    },
    "language_info": {
      "name": "python"
    }
  },
  "cells": [
    {
      "cell_type": "code",
      "execution_count": 9,
      "metadata": {
        "id": "fniAT6vHc4cs"
      },
      "outputs": [],
      "source": [
        "\n",
        "import pandas as pd\n",
        "import gdown\n",
        "import numpy as np\n",
        "import re\n",
        ""
      ]
    },
    {
      "cell_type": "code",
      "source": [
        "df = pd.read_excel('/content/DomainExtract.xlsx')\n",
        "df1 = pd.read_csv('/content/DomainData_20230616.csv')"
      ],
      "metadata": {
        "id": "BAJX15kxdMOH"
      },
      "execution_count": 10,
      "outputs": []
    },
    {
      "cell_type": "code",
      "source": [
        "df"
      ],
      "metadata": {
        "colab": {
          "base_uri": "https://localhost:8080/",
          "height": 659
        },
        "id": "uavy2Jt6d4-N",
        "outputId": "0d5b49e8-19d1-4440-be29-c077bb336a93"
      },
      "execution_count": 11,
      "outputs": [
        {
          "output_type": "execute_result",
          "data": {
            "text/plain": [
              "       Postcode               State  Suburb Name  Bedrooms   Type  \\\n",
              "0           800  Northern Territory  Darwin City         2  House   \n",
              "1           800  Northern Territory  Darwin City         3  House   \n",
              "2           800  Northern Territory  Darwin City         4  House   \n",
              "3           800  Northern Territory  Darwin City         1   Unit   \n",
              "4           800  Northern Territory  Darwin City         2   Unit   \n",
              "...         ...                 ...          ...       ...    ...   \n",
              "25114      7470            Tasmania     Rosebery         3  House   \n",
              "25115      7470            Tasmania     Rosebery         4  House   \n",
              "25116      7470            Tasmania     Rosebery         5  House   \n",
              "25117      7470            Tasmania     Rosebery         2   Unit   \n",
              "25118      7470            Tasmania     Rosebery         3   Unit   \n",
              "\n",
              "      Median Price  Avg Days On Market Clearance Rate  Sold This Year  \\\n",
              "0                -                   0              -               2   \n",
              "1                -                   0              -               2   \n",
              "2                -                   0              -               1   \n",
              "3            $261k                 161              -              62   \n",
              "4            $415k                 213              -             110   \n",
              "...            ...                 ...            ...             ...   \n",
              "25114        $161k                  50              -              25   \n",
              "25115            -                   0              -               1   \n",
              "25116            -                   0              -               1   \n",
              "25117            -                   0              -               6   \n",
              "25118            -                   0              -               2   \n",
              "\n",
              "       Population Average Age  Owner  Renter  Family  Single  \\\n",
              "0            6463    20 to 39   0.24    0.76    0.37    0.63   \n",
              "1            6463    20 to 39   0.24    0.76    0.37    0.63   \n",
              "2            6463    20 to 39   0.24    0.76    0.37    0.63   \n",
              "3            6463    20 to 39   0.24    0.76    0.37    0.63   \n",
              "4            6463    20 to 39   0.24    0.76    0.37    0.63   \n",
              "...           ...         ...    ...     ...     ...     ...   \n",
              "25114         719    40 to 59   0.62    0.38    0.42    0.58   \n",
              "25115         719    40 to 59   0.62    0.38    0.42    0.58   \n",
              "25116         719    40 to 59   0.62    0.38    0.42    0.58   \n",
              "25117         719    40 to 59   0.62    0.38    0.42    0.58   \n",
              "25118         719    40 to 59   0.62    0.38    0.42    0.58   \n",
              "\n",
              "                    Suburb  \n",
              "0      darwin-city-nt-0800  \n",
              "1      darwin-city-nt-0800  \n",
              "2      darwin-city-nt-0800  \n",
              "3      darwin-city-nt-0800  \n",
              "4      darwin-city-nt-0800  \n",
              "...                    ...  \n",
              "25114    rosebery-tas-7470  \n",
              "25115    rosebery-tas-7470  \n",
              "25116    rosebery-tas-7470  \n",
              "25117    rosebery-tas-7470  \n",
              "25118    rosebery-tas-7470  \n",
              "\n",
              "[25119 rows x 16 columns]"
            ],
            "text/html": [
              "\n",
              "  <div id=\"df-a9cdd920-867b-4ae0-bd05-83ee7e1749e5\">\n",
              "    <div class=\"colab-df-container\">\n",
              "      <div>\n",
              "<style scoped>\n",
              "    .dataframe tbody tr th:only-of-type {\n",
              "        vertical-align: middle;\n",
              "    }\n",
              "\n",
              "    .dataframe tbody tr th {\n",
              "        vertical-align: top;\n",
              "    }\n",
              "\n",
              "    .dataframe thead th {\n",
              "        text-align: right;\n",
              "    }\n",
              "</style>\n",
              "<table border=\"1\" class=\"dataframe\">\n",
              "  <thead>\n",
              "    <tr style=\"text-align: right;\">\n",
              "      <th></th>\n",
              "      <th>Postcode</th>\n",
              "      <th>State</th>\n",
              "      <th>Suburb Name</th>\n",
              "      <th>Bedrooms</th>\n",
              "      <th>Type</th>\n",
              "      <th>Median Price</th>\n",
              "      <th>Avg Days On Market</th>\n",
              "      <th>Clearance Rate</th>\n",
              "      <th>Sold This Year</th>\n",
              "      <th>Population</th>\n",
              "      <th>Average Age</th>\n",
              "      <th>Owner</th>\n",
              "      <th>Renter</th>\n",
              "      <th>Family</th>\n",
              "      <th>Single</th>\n",
              "      <th>Suburb</th>\n",
              "    </tr>\n",
              "  </thead>\n",
              "  <tbody>\n",
              "    <tr>\n",
              "      <th>0</th>\n",
              "      <td>800</td>\n",
              "      <td>Northern Territory</td>\n",
              "      <td>Darwin City</td>\n",
              "      <td>2</td>\n",
              "      <td>House</td>\n",
              "      <td>-</td>\n",
              "      <td>0</td>\n",
              "      <td>-</td>\n",
              "      <td>2</td>\n",
              "      <td>6463</td>\n",
              "      <td>20 to 39</td>\n",
              "      <td>0.24</td>\n",
              "      <td>0.76</td>\n",
              "      <td>0.37</td>\n",
              "      <td>0.63</td>\n",
              "      <td>darwin-city-nt-0800</td>\n",
              "    </tr>\n",
              "    <tr>\n",
              "      <th>1</th>\n",
              "      <td>800</td>\n",
              "      <td>Northern Territory</td>\n",
              "      <td>Darwin City</td>\n",
              "      <td>3</td>\n",
              "      <td>House</td>\n",
              "      <td>-</td>\n",
              "      <td>0</td>\n",
              "      <td>-</td>\n",
              "      <td>2</td>\n",
              "      <td>6463</td>\n",
              "      <td>20 to 39</td>\n",
              "      <td>0.24</td>\n",
              "      <td>0.76</td>\n",
              "      <td>0.37</td>\n",
              "      <td>0.63</td>\n",
              "      <td>darwin-city-nt-0800</td>\n",
              "    </tr>\n",
              "    <tr>\n",
              "      <th>2</th>\n",
              "      <td>800</td>\n",
              "      <td>Northern Territory</td>\n",
              "      <td>Darwin City</td>\n",
              "      <td>4</td>\n",
              "      <td>House</td>\n",
              "      <td>-</td>\n",
              "      <td>0</td>\n",
              "      <td>-</td>\n",
              "      <td>1</td>\n",
              "      <td>6463</td>\n",
              "      <td>20 to 39</td>\n",
              "      <td>0.24</td>\n",
              "      <td>0.76</td>\n",
              "      <td>0.37</td>\n",
              "      <td>0.63</td>\n",
              "      <td>darwin-city-nt-0800</td>\n",
              "    </tr>\n",
              "    <tr>\n",
              "      <th>3</th>\n",
              "      <td>800</td>\n",
              "      <td>Northern Territory</td>\n",
              "      <td>Darwin City</td>\n",
              "      <td>1</td>\n",
              "      <td>Unit</td>\n",
              "      <td>$261k</td>\n",
              "      <td>161</td>\n",
              "      <td>-</td>\n",
              "      <td>62</td>\n",
              "      <td>6463</td>\n",
              "      <td>20 to 39</td>\n",
              "      <td>0.24</td>\n",
              "      <td>0.76</td>\n",
              "      <td>0.37</td>\n",
              "      <td>0.63</td>\n",
              "      <td>darwin-city-nt-0800</td>\n",
              "    </tr>\n",
              "    <tr>\n",
              "      <th>4</th>\n",
              "      <td>800</td>\n",
              "      <td>Northern Territory</td>\n",
              "      <td>Darwin City</td>\n",
              "      <td>2</td>\n",
              "      <td>Unit</td>\n",
              "      <td>$415k</td>\n",
              "      <td>213</td>\n",
              "      <td>-</td>\n",
              "      <td>110</td>\n",
              "      <td>6463</td>\n",
              "      <td>20 to 39</td>\n",
              "      <td>0.24</td>\n",
              "      <td>0.76</td>\n",
              "      <td>0.37</td>\n",
              "      <td>0.63</td>\n",
              "      <td>darwin-city-nt-0800</td>\n",
              "    </tr>\n",
              "    <tr>\n",
              "      <th>...</th>\n",
              "      <td>...</td>\n",
              "      <td>...</td>\n",
              "      <td>...</td>\n",
              "      <td>...</td>\n",
              "      <td>...</td>\n",
              "      <td>...</td>\n",
              "      <td>...</td>\n",
              "      <td>...</td>\n",
              "      <td>...</td>\n",
              "      <td>...</td>\n",
              "      <td>...</td>\n",
              "      <td>...</td>\n",
              "      <td>...</td>\n",
              "      <td>...</td>\n",
              "      <td>...</td>\n",
              "      <td>...</td>\n",
              "    </tr>\n",
              "    <tr>\n",
              "      <th>25114</th>\n",
              "      <td>7470</td>\n",
              "      <td>Tasmania</td>\n",
              "      <td>Rosebery</td>\n",
              "      <td>3</td>\n",
              "      <td>House</td>\n",
              "      <td>$161k</td>\n",
              "      <td>50</td>\n",
              "      <td>-</td>\n",
              "      <td>25</td>\n",
              "      <td>719</td>\n",
              "      <td>40 to 59</td>\n",
              "      <td>0.62</td>\n",
              "      <td>0.38</td>\n",
              "      <td>0.42</td>\n",
              "      <td>0.58</td>\n",
              "      <td>rosebery-tas-7470</td>\n",
              "    </tr>\n",
              "    <tr>\n",
              "      <th>25115</th>\n",
              "      <td>7470</td>\n",
              "      <td>Tasmania</td>\n",
              "      <td>Rosebery</td>\n",
              "      <td>4</td>\n",
              "      <td>House</td>\n",
              "      <td>-</td>\n",
              "      <td>0</td>\n",
              "      <td>-</td>\n",
              "      <td>1</td>\n",
              "      <td>719</td>\n",
              "      <td>40 to 59</td>\n",
              "      <td>0.62</td>\n",
              "      <td>0.38</td>\n",
              "      <td>0.42</td>\n",
              "      <td>0.58</td>\n",
              "      <td>rosebery-tas-7470</td>\n",
              "    </tr>\n",
              "    <tr>\n",
              "      <th>25116</th>\n",
              "      <td>7470</td>\n",
              "      <td>Tasmania</td>\n",
              "      <td>Rosebery</td>\n",
              "      <td>5</td>\n",
              "      <td>House</td>\n",
              "      <td>-</td>\n",
              "      <td>0</td>\n",
              "      <td>-</td>\n",
              "      <td>1</td>\n",
              "      <td>719</td>\n",
              "      <td>40 to 59</td>\n",
              "      <td>0.62</td>\n",
              "      <td>0.38</td>\n",
              "      <td>0.42</td>\n",
              "      <td>0.58</td>\n",
              "      <td>rosebery-tas-7470</td>\n",
              "    </tr>\n",
              "    <tr>\n",
              "      <th>25117</th>\n",
              "      <td>7470</td>\n",
              "      <td>Tasmania</td>\n",
              "      <td>Rosebery</td>\n",
              "      <td>2</td>\n",
              "      <td>Unit</td>\n",
              "      <td>-</td>\n",
              "      <td>0</td>\n",
              "      <td>-</td>\n",
              "      <td>6</td>\n",
              "      <td>719</td>\n",
              "      <td>40 to 59</td>\n",
              "      <td>0.62</td>\n",
              "      <td>0.38</td>\n",
              "      <td>0.42</td>\n",
              "      <td>0.58</td>\n",
              "      <td>rosebery-tas-7470</td>\n",
              "    </tr>\n",
              "    <tr>\n",
              "      <th>25118</th>\n",
              "      <td>7470</td>\n",
              "      <td>Tasmania</td>\n",
              "      <td>Rosebery</td>\n",
              "      <td>3</td>\n",
              "      <td>Unit</td>\n",
              "      <td>-</td>\n",
              "      <td>0</td>\n",
              "      <td>-</td>\n",
              "      <td>2</td>\n",
              "      <td>719</td>\n",
              "      <td>40 to 59</td>\n",
              "      <td>0.62</td>\n",
              "      <td>0.38</td>\n",
              "      <td>0.42</td>\n",
              "      <td>0.58</td>\n",
              "      <td>rosebery-tas-7470</td>\n",
              "    </tr>\n",
              "  </tbody>\n",
              "</table>\n",
              "<p>25119 rows × 16 columns</p>\n",
              "</div>\n",
              "      <button class=\"colab-df-convert\" onclick=\"convertToInteractive('df-a9cdd920-867b-4ae0-bd05-83ee7e1749e5')\"\n",
              "              title=\"Convert this dataframe to an interactive table.\"\n",
              "              style=\"display:none;\">\n",
              "        \n",
              "  <svg xmlns=\"http://www.w3.org/2000/svg\" height=\"24px\"viewBox=\"0 0 24 24\"\n",
              "       width=\"24px\">\n",
              "    <path d=\"M0 0h24v24H0V0z\" fill=\"none\"/>\n",
              "    <path d=\"M18.56 5.44l.94 2.06.94-2.06 2.06-.94-2.06-.94-.94-2.06-.94 2.06-2.06.94zm-11 1L8.5 8.5l.94-2.06 2.06-.94-2.06-.94L8.5 2.5l-.94 2.06-2.06.94zm10 10l.94 2.06.94-2.06 2.06-.94-2.06-.94-.94-2.06-.94 2.06-2.06.94z\"/><path d=\"M17.41 7.96l-1.37-1.37c-.4-.4-.92-.59-1.43-.59-.52 0-1.04.2-1.43.59L10.3 9.45l-7.72 7.72c-.78.78-.78 2.05 0 2.83L4 21.41c.39.39.9.59 1.41.59.51 0 1.02-.2 1.41-.59l7.78-7.78 2.81-2.81c.8-.78.8-2.07 0-2.86zM5.41 20L4 18.59l7.72-7.72 1.47 1.35L5.41 20z\"/>\n",
              "  </svg>\n",
              "      </button>\n",
              "      \n",
              "  <style>\n",
              "    .colab-df-container {\n",
              "      display:flex;\n",
              "      flex-wrap:wrap;\n",
              "      gap: 12px;\n",
              "    }\n",
              "\n",
              "    .colab-df-convert {\n",
              "      background-color: #E8F0FE;\n",
              "      border: none;\n",
              "      border-radius: 50%;\n",
              "      cursor: pointer;\n",
              "      display: none;\n",
              "      fill: #1967D2;\n",
              "      height: 32px;\n",
              "      padding: 0 0 0 0;\n",
              "      width: 32px;\n",
              "    }\n",
              "\n",
              "    .colab-df-convert:hover {\n",
              "      background-color: #E2EBFA;\n",
              "      box-shadow: 0px 1px 2px rgba(60, 64, 67, 0.3), 0px 1px 3px 1px rgba(60, 64, 67, 0.15);\n",
              "      fill: #174EA6;\n",
              "    }\n",
              "\n",
              "    [theme=dark] .colab-df-convert {\n",
              "      background-color: #3B4455;\n",
              "      fill: #D2E3FC;\n",
              "    }\n",
              "\n",
              "    [theme=dark] .colab-df-convert:hover {\n",
              "      background-color: #434B5C;\n",
              "      box-shadow: 0px 1px 3px 1px rgba(0, 0, 0, 0.15);\n",
              "      filter: drop-shadow(0px 1px 2px rgba(0, 0, 0, 0.3));\n",
              "      fill: #FFFFFF;\n",
              "    }\n",
              "  </style>\n",
              "\n",
              "      <script>\n",
              "        const buttonEl =\n",
              "          document.querySelector('#df-a9cdd920-867b-4ae0-bd05-83ee7e1749e5 button.colab-df-convert');\n",
              "        buttonEl.style.display =\n",
              "          google.colab.kernel.accessAllowed ? 'block' : 'none';\n",
              "\n",
              "        async function convertToInteractive(key) {\n",
              "          const element = document.querySelector('#df-a9cdd920-867b-4ae0-bd05-83ee7e1749e5');\n",
              "          const dataTable =\n",
              "            await google.colab.kernel.invokeFunction('convertToInteractive',\n",
              "                                                     [key], {});\n",
              "          if (!dataTable) return;\n",
              "\n",
              "          const docLinkHtml = 'Like what you see? Visit the ' +\n",
              "            '<a target=\"_blank\" href=https://colab.research.google.com/notebooks/data_table.ipynb>data table notebook</a>'\n",
              "            + ' to learn more about interactive tables.';\n",
              "          element.innerHTML = '';\n",
              "          dataTable['output_type'] = 'display_data';\n",
              "          await google.colab.output.renderOutput(dataTable, element);\n",
              "          const docLink = document.createElement('div');\n",
              "          docLink.innerHTML = docLinkHtml;\n",
              "          element.appendChild(docLink);\n",
              "        }\n",
              "      </script>\n",
              "    </div>\n",
              "  </div>\n",
              "  "
            ]
          },
          "metadata": {},
          "execution_count": 11
        }
      ]
    },
    {
      "cell_type": "code",
      "source": [
        "df1.drop(['Avg Days on Market', 'Clearance Rate', 'Sold This Year', 'POPULATION', 'AVERAGE AGE',\n",
        "       'OWNER', 'RENTER', 'FAMILY', 'SINGLE'],axis=1, inplace=True)"
      ],
      "metadata": {
        "id": "yBptjeWJduWl"
      },
      "execution_count": 13,
      "outputs": []
    },
    {
      "cell_type": "code",
      "source": [
        "df = pd.merge(df, df1, left_on=['Suburb','Bedrooms', 'Type', 'Median Price'], right_on= ['SUBURB','Bedrooms', 'Type', 'Median Price'], how='left')\n"
      ],
      "metadata": {
        "id": "zNGCgBzEei5a"
      },
      "execution_count": 15,
      "outputs": []
    },
    {
      "cell_type": "code",
      "source": [
        "del df['SUBURB']"
      ],
      "metadata": {
        "id": "0ctwUTwygZcQ"
      },
      "execution_count": 18,
      "outputs": []
    },
    {
      "cell_type": "code",
      "source": [
        "new_column_names = {col: col.lower().replace(' ', '_') for col in df.columns}\n",
        "df = df.rename(columns=new_column_names)"
      ],
      "metadata": {
        "id": "pNUjm_kMhzRZ"
      },
      "execution_count": 49,
      "outputs": []
    },
    {
      "cell_type": "code",
      "source": [
        "df = df.rename(columns={'unnamed:_0' :'primery_index',\n",
        "                        'auction_clearance (higher_=_more_competition): ' : 'auction_clearance'\n",
        "                        })\n"
      ],
      "metadata": {
        "id": "OOleQyqeizJS"
      },
      "execution_count": 51,
      "outputs": []
    },
    {
      "cell_type": "code",
      "source": [
        "df.columns"
      ],
      "metadata": {
        "colab": {
          "base_uri": "https://localhost:8080/"
        },
        "id": "2ma2cWYRikDh",
        "outputId": "330c980f-e849-4e69-9fb5-a9a79037bad9"
      },
      "execution_count": 52,
      "outputs": [
        {
          "output_type": "execute_result",
          "data": {
            "text/plain": [
              "Index(['primery_index', 'suburb_name', 'state', 'postcode',\n",
              "       'search_string_for_domain', 'link_for_domain', 'region',\n",
              "       'search_string_for_homely', 'link_for_homely'],\n",
              "      dtype='object')"
            ]
          },
          "metadata": {},
          "execution_count": 52
        }
      ]
    },
    {
      "cell_type": "code",
      "source": [
        "df.to_excel('/content/suburbs.xlsx',index = False)"
      ],
      "metadata": {
        "id": "A50WLQNphUTc"
      },
      "execution_count": 44,
      "outputs": []
    },
    {
      "cell_type": "code",
      "source": [
        "len(df.columns)"
      ],
      "metadata": {
        "colab": {
          "base_uri": "https://localhost:8080/"
        },
        "id": "nczLxjLYrlhn",
        "outputId": "5559012b-a3b9-4d82-95c6-fea7c6ffe741"
      },
      "execution_count": 53,
      "outputs": [
        {
          "output_type": "execute_result",
          "data": {
            "text/plain": [
              "9"
            ]
          },
          "metadata": {},
          "execution_count": 53
        }
      ]
    },
    {
      "cell_type": "code",
      "source": [
        "del df['unnamed:_0']"
      ],
      "metadata": {
        "id": "7IJ9ITGHpZeJ"
      },
      "execution_count": 41,
      "outputs": []
    },
    {
      "cell_type": "code",
      "source": [
        "df.to_excel('DomainExtract_20230616.xlsx',index = False)"
      ],
      "metadata": {
        "id": "FfoEBAzppdWK"
      },
      "execution_count": 33,
      "outputs": []
    },
    {
      "cell_type": "code",
      "source": [
        "df = pd.read_excel('/content/suburbs.xlsx')\n",
        "df.columns"
      ],
      "metadata": {
        "colab": {
          "base_uri": "https://localhost:8080/"
        },
        "id": "rtKgdpQOn3GC",
        "outputId": "3fd76da1-1c88-45de-b370-c94ee58a8f86"
      },
      "execution_count": 48,
      "outputs": [
        {
          "output_type": "execute_result",
          "data": {
            "text/plain": [
              "Index(['Unnamed: 0', 'Suburb Name', 'State', 'Postcode',\n",
              "       'Search string for Domain', 'Link for Domain', 'Region',\n",
              "       'Search string for Homely', 'Link for Homely'],\n",
              "      dtype='object')"
            ]
          },
          "metadata": {},
          "execution_count": 48
        }
      ]
    }
  ]
}