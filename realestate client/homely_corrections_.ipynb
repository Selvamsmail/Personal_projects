{
  "nbformat": 4,
  "nbformat_minor": 0,
  "metadata": {
    "colab": {
      "provenance": []
    },
    "kernelspec": {
      "name": "python3",
      "display_name": "Python 3"
    },
    "language_info": {
      "name": "python"
    }
  },
  "cells": [
    {
      "cell_type": "code",
      "execution_count": 29,
      "metadata": {
        "id": "-XrKuYcAToTA"
      },
      "outputs": [],
      "source": [
        "import pandas as pd\n",
        "import gdown\n",
        "import re\n",
        "import requests\n",
        "from bs4 import BeautifulSoup\n",
        "import json\n",
        "import pandas as pd\n",
        "import os\n",
        "import gc\n",
        "import time\n",
        "import pytz\n",
        "import datetime\n",
        "from tqdm import tqdm\n",
        "import logging\n",
        "import traceback"
      ]
    },
    {
      "cell_type": "code",
      "source": [
        "df = pd.read_excel('/content/HomelyExtract_20230622.xlsx')"
      ],
      "metadata": {
        "id": "IM5O0OOzUdpU"
      },
      "execution_count": 30,
      "outputs": []
    },
    {
      "cell_type": "code",
      "source": [
        "df['who_lives_here']"
      ],
      "metadata": {
        "colab": {
          "base_uri": "https://localhost:8080/"
        },
        "id": "BhyDXXoORAoH",
        "outputId": "25938aba-89b8-4f77-bd85-cb192a7b3d6b"
      },
      "execution_count": 31,
      "outputs": [
        {
          "output_type": "execute_result",
          "data": {
            "text/plain": [
              "0        Singles,Professionals,Families With Kids,Retir...\n",
              "1        Professionals,Families With Kids,Students,Beac...\n",
              "2        Professionals,Families With Kids,Retirees,Beac...\n",
              "3                                                      NaN\n",
              "4        Families With Kids,Hipsters,Beach Lovers,Profe...\n",
              "                               ...                        \n",
              "11491    Families With Kids,Professionals,Singles,Retir...\n",
              "11492    Families With Kids,Professionals,Singles,Retir...\n",
              "11493                                                  NaN\n",
              "11494             Professionals,Families With Kids,Singles\n",
              "11495             Professionals,Singles,Families With Kids\n",
              "Name: who_lives_here, Length: 11496, dtype: object"
            ]
          },
          "metadata": {},
          "execution_count": 31
        }
      ]
    },
    {
      "cell_type": "code",
      "source": [
        "df.columns"
      ],
      "metadata": {
        "colab": {
          "base_uri": "https://localhost:8080/"
        },
        "id": "voBZvh1cAduk",
        "outputId": "93180d02-f690-4db2-8dbb-cb04a131ad07"
      },
      "execution_count": 32,
      "outputs": [
        {
          "output_type": "execute_result",
          "data": {
            "text/plain": [
              "Index(['postcode', 'state', 'suburb', 'search_string', 'ratings',\n",
              "       'number_of_reviews', 'rankings', 'great_for', 'not_great_for',\n",
              "       'who_lives_here', 'time_stamp', 'region', 'search_string_for_homely',\n",
              "       'link_for_homely'],\n",
              "      dtype='object')"
            ]
          },
          "metadata": {},
          "execution_count": 32
        }
      ]
    },
    {
      "cell_type": "code",
      "source": [
        "df['great_for']"
      ],
      "metadata": {
        "colab": {
          "base_uri": "https://localhost:8080/"
        },
        "id": "XwSpI3VBABWt",
        "outputId": "820c0bf6-af51-4235-8476-d0b6eaa28f21"
      },
      "execution_count": 33,
      "outputs": [
        {
          "output_type": "execute_result",
          "data": {
            "text/plain": [
              "0        Schools,Shopping options,Gym and fitness,Inter...\n",
              "1        Childcare,Clean & green,Gym and fitness,Intern...\n",
              "2        Clean & green,Gym and fitness,Internet access,...\n",
              "3                                                      NaN\n",
              "4        Clean & green,Medical facilities,Parks and rec...\n",
              "                               ...                        \n",
              "11491    Neighbourly spirit,Safe and sound,Parks and re...\n",
              "11492    Clean & green,Cost of living,Eating out,Intern...\n",
              "11493                                                  NaN\n",
              "11494    Clean & green,Neighbourly spirit,Parks and rec...\n",
              "11495    Clean & green,Neighbourly spirit,Parks and rec...\n",
              "Name: great_for, Length: 11496, dtype: object"
            ]
          },
          "metadata": {},
          "execution_count": 33
        }
      ]
    },
    {
      "cell_type": "code",
      "source": [],
      "metadata": {
        "id": "k8YTimDL0IP2"
      },
      "execution_count": 33,
      "outputs": []
    },
    {
      "cell_type": "code",
      "source": [
        "df['great_for'] = df['great_for'].str.replace('Clean & greenSafe and soundParks and recreation', 'Clean & green,Safe and sound,Parks and recreation')\n",
        "\n",
        "df['great_for'] = df['great_for'].fillna('')\n",
        "\n",
        "df_great_for = df['great_for'].str.split(',').apply(lambda x: pd.Series(1, [word.strip().lower().replace(' ', '_') for word in x])).fillna(0)\n",
        "\n",
        "# Add prefix to the new columns\n",
        "df_great_for = df_great_for.add_prefix('great_for_')\n",
        "df_great_for.columns"
      ],
      "metadata": {
        "colab": {
          "base_uri": "https://localhost:8080/"
        },
        "id": "EJENMeyvBnXV",
        "outputId": "9e6f43f0-aeab-4e09-9982-4fae5c92eaab"
      },
      "execution_count": 34,
      "outputs": [
        {
          "output_type": "execute_result",
          "data": {
            "text/plain": [
              "Index(['great_for_schools', 'great_for_shopping_options',\n",
              "       'great_for_gym_and_fitness', 'great_for_internet_access',\n",
              "       'great_for_parks_and_recreation', 'great_for_childcare',\n",
              "       'great_for_clean_&_green', 'great_for_medical_facilities',\n",
              "       'great_for_lack_of_traffic', 'great_for_', 'great_for_parking',\n",
              "       'great_for_public_transport', 'great_for_pest-free',\n",
              "       'great_for_peace_and_quiet', 'great_for_resale_or_rental_value',\n",
              "       'great_for_neighbourly_spirit', 'great_for_eating_out',\n",
              "       'great_for_cost_of_living', 'great_for_safe_and_sound',\n",
              "       'great_for_nightlife', 'great_for_families_with_kids',\n",
              "       'great_for_retirees', 'great_for_tourists', 'great_for_country_lovers',\n",
              "       'great_for_professionals', 'great_for_singles', 'great_for_hipsters',\n",
              "       'great_for_students', 'great_for_trendy_&_stylish',\n",
              "       'great_for_beach_lovers', 'great_for_lgbt+'],\n",
              "      dtype='object')"
            ]
          },
          "metadata": {},
          "execution_count": 34
        }
      ]
    },
    {
      "cell_type": "code",
      "source": [
        "counts = df_great_for.iloc[:, :-1].sum().sort_values(ascending=False)\n",
        "print(counts)"
      ],
      "metadata": {
        "colab": {
          "base_uri": "https://localhost:8080/"
        },
        "id": "n5pycSejza1H",
        "outputId": "bb02423e-b781-489f-d2fd-c21a8574d38e"
      },
      "execution_count": 35,
      "outputs": [
        {
          "output_type": "stream",
          "name": "stdout",
          "text": [
            "great_for_                          6875.0\n",
            "great_for_clean_&_green             2656.0\n",
            "great_for_parks_and_recreation      2506.0\n",
            "great_for_neighbourly_spirit        2337.0\n",
            "great_for_safe_and_sound            1973.0\n",
            "great_for_internet_access           1696.0\n",
            "great_for_peace_and_quiet           1418.0\n",
            "great_for_schools                   1247.0\n",
            "great_for_parking                   1182.0\n",
            "great_for_public_transport          1160.0\n",
            "great_for_cost_of_living             884.0\n",
            "great_for_lack_of_traffic            871.0\n",
            "great_for_childcare                  871.0\n",
            "great_for_eating_out                 836.0\n",
            "great_for_resale_or_rental_value     688.0\n",
            "great_for_gym_and_fitness            659.0\n",
            "great_for_medical_facilities         633.0\n",
            "great_for_pest-free                  323.0\n",
            "great_for_shopping_options           267.0\n",
            "great_for_nightlife                   72.0\n",
            "great_for_families_with_kids           5.0\n",
            "great_for_retirees                     4.0\n",
            "great_for_professionals                4.0\n",
            "great_for_tourists                     2.0\n",
            "great_for_country_lovers               2.0\n",
            "great_for_singles                      2.0\n",
            "great_for_hipsters                     2.0\n",
            "great_for_students                     2.0\n",
            "great_for_trendy_&_stylish             1.0\n",
            "great_for_beach_lovers                 1.0\n",
            "dtype: float64\n"
          ]
        }
      ]
    },
    {
      "cell_type": "code",
      "source": [
        "columns_to_drop = ['great_for_families_with_kids','great_for_retirees','great_for_professionals','great_for_tourists','great_for_country_lovers','great_for_singles','great_for_hipsters','great_for_students','great_for_trendy_&_stylish','great_for_beach_lovers']\n",
        "df_great_for.drop(columns=columns_to_drop, inplace=True)"
      ],
      "metadata": {
        "id": "xpds3KtF0LKP"
      },
      "execution_count": 36,
      "outputs": []
    },
    {
      "cell_type": "code",
      "source": [
        "len(df_great_for.columns)"
      ],
      "metadata": {
        "colab": {
          "base_uri": "https://localhost:8080/"
        },
        "id": "2sIBP0woUmCc",
        "outputId": "ded93668-ac64-4327-a0bb-6cdf26656b43"
      },
      "execution_count": 37,
      "outputs": [
        {
          "output_type": "execute_result",
          "data": {
            "text/plain": [
              "21"
            ]
          },
          "metadata": {},
          "execution_count": 37
        }
      ]
    },
    {
      "cell_type": "code",
      "source": [
        "df = pd.concat([df, df_great_for], axis=1)"
      ],
      "metadata": {
        "id": "9dwFxSz6IeU0"
      },
      "execution_count": 38,
      "outputs": []
    },
    {
      "cell_type": "code",
      "source": [
        "del df['great_for_']"
      ],
      "metadata": {
        "id": "NlB7fCr1JBj2"
      },
      "execution_count": 39,
      "outputs": []
    },
    {
      "cell_type": "code",
      "source": [
        "df.columns"
      ],
      "metadata": {
        "colab": {
          "base_uri": "https://localhost:8080/"
        },
        "id": "ugQZTqN2KRe-",
        "outputId": "d665db55-4462-430f-a432-08e0ec228c05"
      },
      "execution_count": 40,
      "outputs": [
        {
          "output_type": "execute_result",
          "data": {
            "text/plain": [
              "Index(['postcode', 'state', 'suburb', 'search_string', 'ratings',\n",
              "       'number_of_reviews', 'rankings', 'great_for', 'not_great_for',\n",
              "       'who_lives_here', 'time_stamp', 'region', 'search_string_for_homely',\n",
              "       'link_for_homely', 'great_for_schools', 'great_for_shopping_options',\n",
              "       'great_for_gym_and_fitness', 'great_for_internet_access',\n",
              "       'great_for_parks_and_recreation', 'great_for_childcare',\n",
              "       'great_for_clean_&_green', 'great_for_medical_facilities',\n",
              "       'great_for_lack_of_traffic', 'great_for_parking',\n",
              "       'great_for_public_transport', 'great_for_pest-free',\n",
              "       'great_for_peace_and_quiet', 'great_for_resale_or_rental_value',\n",
              "       'great_for_neighbourly_spirit', 'great_for_eating_out',\n",
              "       'great_for_cost_of_living', 'great_for_safe_and_sound',\n",
              "       'great_for_nightlife', 'great_for_lgbt+'],\n",
              "      dtype='object')"
            ]
          },
          "metadata": {},
          "execution_count": 40
        }
      ]
    },
    {
      "cell_type": "code",
      "source": [
        "df['not_great_for'] = df['not_great_for'].fillna('')\n",
        "\n",
        "df_not_great_for = df['not_great_for'].str.split(',').apply(lambda x: pd.Series(1, [word.strip().lower().replace(' ', '_') for word in x])).fillna(0)\n",
        "\n",
        "# Add prefix to the new columns\n",
        "df_not_great_for = df_not_great_for.add_prefix('not_great_for_')\n",
        "df_not_great_for.columns"
      ],
      "metadata": {
        "colab": {
          "base_uri": "https://localhost:8080/"
        },
        "id": "0e2fDU-6HC0N",
        "outputId": "04bbf2b5-30b5-4604-d30c-7501603fba55"
      },
      "execution_count": 41,
      "outputs": [
        {
          "output_type": "execute_result",
          "data": {
            "text/plain": [
              "Index(['not_great_for_', 'not_great_for_nightlife', 'not_great_for_parking',\n",
              "       'not_great_for_cost_of_living', 'not_great_for_lack_of_traffic',\n",
              "       'not_great_for_eating_out', 'not_great_for_gym_and_fitness',\n",
              "       'not_great_for_parks_and_recreation', 'not_great_for_public_transport',\n",
              "       'not_great_for_shopping_options',\n",
              "       'not_great_for_resale_or_rental_value',\n",
              "       'not_great_for_medical_facilities', 'not_great_for_internet_access',\n",
              "       'not_great_for_schools', 'not_great_for_pest-free',\n",
              "       'not_great_for_clean_&_green', 'not_great_for_safe_and_sound',\n",
              "       'not_great_for_peace_and_quiet', 'not_great_for_childcare',\n",
              "       'not_great_for_neighbourly_spirit', 'not_great_for_professionals',\n",
              "       'not_great_for_families_with_kids', 'not_great_for_tourists',\n",
              "       'not_great_for_hipsters', 'not_great_for_trendy_&_stylish',\n",
              "       'not_great_for_beach_lovers', 'not_great_for_singles',\n",
              "       'not_great_for_retirees', 'not_great_for_country_lovers',\n",
              "       'not_great_for_lgbt+', 'not_great_for_students'],\n",
              "      dtype='object')"
            ]
          },
          "metadata": {},
          "execution_count": 41
        }
      ]
    },
    {
      "cell_type": "code",
      "source": [
        "counts = df_not_great_for.iloc[:, :-1].sum().sort_values(ascending=False)\n",
        "print(counts)"
      ],
      "metadata": {
        "colab": {
          "base_uri": "https://localhost:8080/"
        },
        "id": "f6zltH8w1Fmf",
        "outputId": "bec8f522-903a-42fe-8cb8-6e5497be3bcb"
      },
      "execution_count": 42,
      "outputs": [
        {
          "output_type": "stream",
          "name": "stdout",
          "text": [
            "not_great_for_                          9111.0\n",
            "not_great_for_nightlife                 1734.0\n",
            "not_great_for_public_transport           623.0\n",
            "not_great_for_shopping_options           614.0\n",
            "not_great_for_eating_out                 568.0\n",
            "not_great_for_gym_and_fitness            523.0\n",
            "not_great_for_childcare                  405.0\n",
            "not_great_for_medical_facilities         390.0\n",
            "not_great_for_parking                    302.0\n",
            "not_great_for_cost_of_living             210.0\n",
            "not_great_for_pest-free                  185.0\n",
            "not_great_for_lack_of_traffic            136.0\n",
            "not_great_for_internet_access            103.0\n",
            "not_great_for_schools                     80.0\n",
            "not_great_for_resale_or_rental_value      76.0\n",
            "not_great_for_clean_&_green               50.0\n",
            "not_great_for_parks_and_recreation        50.0\n",
            "not_great_for_peace_and_quiet             47.0\n",
            "not_great_for_neighbourly_spirit          36.0\n",
            "not_great_for_safe_and_sound              34.0\n",
            "not_great_for_professionals                4.0\n",
            "not_great_for_families_with_kids           4.0\n",
            "not_great_for_tourists                     3.0\n",
            "not_great_for_trendy_&_stylish             3.0\n",
            "not_great_for_singles                      3.0\n",
            "not_great_for_retirees                     3.0\n",
            "not_great_for_hipsters                     2.0\n",
            "not_great_for_beach_lovers                 2.0\n",
            "not_great_for_country_lovers               1.0\n",
            "not_great_for_lgbt+                        1.0\n",
            "dtype: float64\n"
          ]
        }
      ]
    },
    {
      "cell_type": "code",
      "source": [
        "columns_to_drop = ['not_great_for_professionals','not_great_for_families_with_kids','not_great_for_tourists','not_great_for_trendy_&_stylish','not_great_for_singles','not_great_for_retirees','not_great_for_hipsters','not_great_for_beach_lovers','not_great_for_country_lovers','not_great_for_lgbt+']\n",
        "df_not_great_for.drop(columns=columns_to_drop, inplace=True)"
      ],
      "metadata": {
        "id": "WEqQtAFi1TBP"
      },
      "execution_count": 43,
      "outputs": []
    },
    {
      "cell_type": "code",
      "source": [
        "len(df_not_great_for.columns)"
      ],
      "metadata": {
        "colab": {
          "base_uri": "https://localhost:8080/"
        },
        "id": "GzWu7DPtUzOL",
        "outputId": "ab2cc03e-908b-4106-f1af-9a03fb22ac15"
      },
      "execution_count": 44,
      "outputs": [
        {
          "output_type": "execute_result",
          "data": {
            "text/plain": [
              "21"
            ]
          },
          "metadata": {},
          "execution_count": 44
        }
      ]
    },
    {
      "cell_type": "code",
      "source": [
        "df = pd.concat([df, df_not_great_for], axis=1)"
      ],
      "metadata": {
        "id": "4RLS8ziqLJuU"
      },
      "execution_count": 45,
      "outputs": []
    },
    {
      "cell_type": "code",
      "source": [
        "df[df['not_great_for_']==1]['not_great_for'].head()"
      ],
      "metadata": {
        "colab": {
          "base_uri": "https://localhost:8080/"
        },
        "id": "4ebCxXrTLXhe",
        "outputId": "cdf92436-f63f-4598-c691-b8488db1e9a7"
      },
      "execution_count": 46,
      "outputs": [
        {
          "output_type": "execute_result",
          "data": {
            "text/plain": [
              "0    \n",
              "1    \n",
              "2    \n",
              "3    \n",
              "5    \n",
              "Name: not_great_for, dtype: object"
            ]
          },
          "metadata": {},
          "execution_count": 46
        }
      ]
    },
    {
      "cell_type": "code",
      "source": [
        "del df['not_great_for_']"
      ],
      "metadata": {
        "id": "uTuTTgJ0LkBE"
      },
      "execution_count": 47,
      "outputs": []
    },
    {
      "cell_type": "code",
      "source": [
        "df['who_lives_here'] = df['who_lives_here'].fillna('')\n",
        "\n",
        "df_who_lives_here = df['who_lives_here'].str.split(',').apply(lambda x: pd.Series(1, [word.strip().lower().replace(' ', '_') for word in x])).fillna(0)\n",
        "\n",
        "# Add prefix to the new columns\n",
        "df_who_lives_here = df_who_lives_here.add_prefix('who_lives_here_')"
      ],
      "metadata": {
        "id": "0aBy73aRMQtk"
      },
      "execution_count": 48,
      "outputs": []
    },
    {
      "cell_type": "code",
      "source": [
        "len(df_who_lives_here.columns)"
      ],
      "metadata": {
        "colab": {
          "base_uri": "https://localhost:8080/"
        },
        "id": "7fYTsG-xSYw8",
        "outputId": "727cb559-a9c3-4bc1-ba91-746bfa4bb99a"
      },
      "execution_count": 49,
      "outputs": [
        {
          "output_type": "execute_result",
          "data": {
            "text/plain": [
              "56"
            ]
          },
          "metadata": {},
          "execution_count": 49
        }
      ]
    },
    {
      "cell_type": "code",
      "source": [
        "counts = df_who_lives_here.iloc[:, :-1].sum().sort_values(ascending=False)\n",
        "\n",
        "# Print the counts\n",
        "print(counts)"
      ],
      "metadata": {
        "colab": {
          "base_uri": "https://localhost:8080/"
        },
        "id": "UiEACeHS2kHT",
        "outputId": "f37fa130-fec5-4063-95a1-139c167689e5"
      },
      "execution_count": 50,
      "outputs": [
        {
          "output_type": "stream",
          "name": "stdout",
          "text": [
            "who_lives_here_                                                                                                             6768.0\n",
            "who_lives_here_families_with_kids                                                                                           4585.0\n",
            "who_lives_here_professionals                                                                                                4094.0\n",
            "who_lives_here_retirees                                                                                                     3784.0\n",
            "who_lives_here_singles                                                                                                      3356.0\n",
            "who_lives_here_country_lovers                                                                                                762.0\n",
            "who_lives_here_tourists                                                                                                      740.0\n",
            "who_lives_here_lgbtq+                                                                                                        554.0\n",
            "who_lives_here_students                                                                                                      531.0\n",
            "who_lives_here_fashion_conscious                                                                                             414.0\n",
            "who_lives_here_beach_lovers                                                                                                  323.0\n",
            "who_lives_here_hipsters                                                                                                      255.0\n",
            "who_lives_here_safe                                                                                                            2.0\n",
            "who_lives_here_some_friendly_locals                                                                                            1.0\n",
            "who_lives_here_great_people_in_this_town                                                                                       1.0\n",
            "who_lives_here_retireesbeach_loverssingles                                                                                     1.0\n",
            "who_lives_here_trendy_&_stylish                                                                                                1.0\n",
            "who_lives_here_close_to_city                                                                                                   1.0\n",
            "who_lives_here_community_atmosphere                                                                                            1.0\n",
            "who_lives_here_if_you_can't_find_what_you_want_here_it_probably_isn't_available!                                               1.0\n",
            "who_lives_here_not_really_a_residential_suburb.                                                                                1.0\n",
            "who_lives_here_close_to_work_for_employees_of_industrial_plants                                                                1.0\n",
            "who_lives_here_not_really_a_residential_suburb                                                                                 1.0\n",
            "who_lives_here_so_no_pros_or_cons.                                                                                             1.0\n",
            "who_lives_here_something_for_everyone_-_to_buy!                                                                                1.0\n",
            "who_lives_here_new_developments_in_armadale.                                                                                   1.0\n",
            "who_lives_here_smoke_columns!                                                                                                  1.0\n",
            "who_lives_here_public_transport                                                                                                1.0\n",
            "who_lives_here_close_to_work_for_employees_of_indutrial_plants                                                                 1.0\n",
            "who_lives_here_industrial_focus.                                                                                               1.0\n",
            "who_lives_here_native_wildlife_protection_on_the_island.                                                                       1.0\n",
            "who_lives_here_great_beach                                                                                                     1.0\n",
            "who_lives_here_lgbt+                                                                                                           1.0\n",
            "who_lives_here_close_to_dubbo_but_not_too_close.                                                                               1.0\n",
            "who_lives_here_short_commute_to_larger_towns                                                                                   1.0\n",
            "who_lives_here_close_to_everything_but_feels_like_you_live_in_the_bush                                                         1.0\n",
            "who_lives_here_retireeslgbtq+                                                                                                  1.0\n",
            "who_lives_here_singleslgbtq+                                                                                                   1.0\n",
            "who_lives_here_great_sea_breeze_in_summer                                                                                      1.0\n",
            "who_lives_here_walking_tracks_to_the_beach                                                                                     1.0\n",
            "who_lives_here_local_primary_school                                                                                            1.0\n",
            "who_lives_here_clean                                                                                                           1.0\n",
            "who_lives_here_green                                                                                                           1.0\n",
            "who_lives_here_leafy_-_lots_of_big_trees_&_accompanying_wildlife                                                               1.0\n",
            "who_lives_here_generally_quiet_-_you_can_be_friendly_with_your_neighbours_-_but_don't_feel_like_you_live_in_their_pocket       1.0\n",
            "who_lives_here_friendly                                                                                                        1.0\n",
            "who_lives_here_close_to_all_amentities                                                                                         1.0\n",
            "who_lives_here_beautiful_landscape                                                                                             1.0\n",
            "who_lives_here_country_cooking                                                                                                 1.0\n",
            "who_lives_here_academic_and_sporting_children                                                                                  1.0\n",
            "who_lives_here_narromine_airport                                                                                               1.0\n",
            "who_lives_here_people                                                                                                          1.0\n",
            "who_lives_here_quiet                                                                                                           1.0\n",
            "who_lives_here_great_ambiance                                                                                                  1.0\n",
            "who_lives_here_great_people_and_community_spirit                                                                               1.0\n",
            "dtype: float64\n"
          ]
        }
      ]
    },
    {
      "cell_type": "code",
      "source": [
        "df_who_lives_here = df_who_lives_here[['who_lives_here_families_with_kids','who_lives_here_professionals','who_lives_here_retirees','who_lives_here_singles','who_lives_here_country_lovers','who_lives_here_tourists','who_lives_here_lgbtq+','who_lives_here_students','who_lives_here_fashion_conscious','who_lives_here_beach_lovers','who_lives_here_hipsters']]\n",
        "df_who_lives_here"
      ],
      "metadata": {
        "colab": {
          "base_uri": "https://localhost:8080/",
          "height": 488
        },
        "id": "8zCuFvp705wy",
        "outputId": "572f6db3-4b45-4c61-d5b9-c3bb7b672779"
      },
      "execution_count": 51,
      "outputs": [
        {
          "output_type": "execute_result",
          "data": {
            "text/plain": [
              "       who_lives_here_families_with_kids  who_lives_here_professionals  \\\n",
              "0                                    1.0                           1.0   \n",
              "1                                    1.0                           1.0   \n",
              "2                                    1.0                           1.0   \n",
              "3                                    0.0                           0.0   \n",
              "4                                    1.0                           1.0   \n",
              "...                                  ...                           ...   \n",
              "11491                                1.0                           1.0   \n",
              "11492                                1.0                           1.0   \n",
              "11493                                0.0                           0.0   \n",
              "11494                                1.0                           1.0   \n",
              "11495                                1.0                           1.0   \n",
              "\n",
              "       who_lives_here_retirees  who_lives_here_singles  \\\n",
              "0                          1.0                     1.0   \n",
              "1                          0.0                     0.0   \n",
              "2                          1.0                     0.0   \n",
              "3                          0.0                     0.0   \n",
              "4                          0.0                     1.0   \n",
              "...                        ...                     ...   \n",
              "11491                      1.0                     1.0   \n",
              "11492                      1.0                     1.0   \n",
              "11493                      0.0                     0.0   \n",
              "11494                      0.0                     1.0   \n",
              "11495                      0.0                     1.0   \n",
              "\n",
              "       who_lives_here_country_lovers  who_lives_here_tourists  \\\n",
              "0                                0.0                      0.0   \n",
              "1                                0.0                      0.0   \n",
              "2                                0.0                      0.0   \n",
              "3                                0.0                      0.0   \n",
              "4                                0.0                      0.0   \n",
              "...                              ...                      ...   \n",
              "11491                            1.0                      0.0   \n",
              "11492                            0.0                      1.0   \n",
              "11493                            0.0                      0.0   \n",
              "11494                            0.0                      0.0   \n",
              "11495                            0.0                      0.0   \n",
              "\n",
              "       who_lives_here_lgbtq+  who_lives_here_students  \\\n",
              "0                        0.0                      0.0   \n",
              "1                        0.0                      1.0   \n",
              "2                        0.0                      0.0   \n",
              "3                        0.0                      0.0   \n",
              "4                        0.0                      0.0   \n",
              "...                      ...                      ...   \n",
              "11491                    0.0                      0.0   \n",
              "11492                    0.0                      0.0   \n",
              "11493                    0.0                      0.0   \n",
              "11494                    0.0                      0.0   \n",
              "11495                    0.0                      0.0   \n",
              "\n",
              "       who_lives_here_fashion_conscious  who_lives_here_beach_lovers  \\\n",
              "0                                   0.0                          0.0   \n",
              "1                                   0.0                          1.0   \n",
              "2                                   0.0                          1.0   \n",
              "3                                   0.0                          0.0   \n",
              "4                                   0.0                          1.0   \n",
              "...                                 ...                          ...   \n",
              "11491                               0.0                          0.0   \n",
              "11492                               0.0                          0.0   \n",
              "11493                               0.0                          0.0   \n",
              "11494                               0.0                          0.0   \n",
              "11495                               0.0                          0.0   \n",
              "\n",
              "       who_lives_here_hipsters  \n",
              "0                          1.0  \n",
              "1                          0.0  \n",
              "2                          0.0  \n",
              "3                          0.0  \n",
              "4                          1.0  \n",
              "...                        ...  \n",
              "11491                      0.0  \n",
              "11492                      0.0  \n",
              "11493                      0.0  \n",
              "11494                      0.0  \n",
              "11495                      0.0  \n",
              "\n",
              "[11496 rows x 11 columns]"
            ],
            "text/html": [
              "\n",
              "  <div id=\"df-6886feb0-6586-4143-9556-21cbba763926\">\n",
              "    <div class=\"colab-df-container\">\n",
              "      <div>\n",
              "<style scoped>\n",
              "    .dataframe tbody tr th:only-of-type {\n",
              "        vertical-align: middle;\n",
              "    }\n",
              "\n",
              "    .dataframe tbody tr th {\n",
              "        vertical-align: top;\n",
              "    }\n",
              "\n",
              "    .dataframe thead th {\n",
              "        text-align: right;\n",
              "    }\n",
              "</style>\n",
              "<table border=\"1\" class=\"dataframe\">\n",
              "  <thead>\n",
              "    <tr style=\"text-align: right;\">\n",
              "      <th></th>\n",
              "      <th>who_lives_here_families_with_kids</th>\n",
              "      <th>who_lives_here_professionals</th>\n",
              "      <th>who_lives_here_retirees</th>\n",
              "      <th>who_lives_here_singles</th>\n",
              "      <th>who_lives_here_country_lovers</th>\n",
              "      <th>who_lives_here_tourists</th>\n",
              "      <th>who_lives_here_lgbtq+</th>\n",
              "      <th>who_lives_here_students</th>\n",
              "      <th>who_lives_here_fashion_conscious</th>\n",
              "      <th>who_lives_here_beach_lovers</th>\n",
              "      <th>who_lives_here_hipsters</th>\n",
              "    </tr>\n",
              "  </thead>\n",
              "  <tbody>\n",
              "    <tr>\n",
              "      <th>0</th>\n",
              "      <td>1.0</td>\n",
              "      <td>1.0</td>\n",
              "      <td>1.0</td>\n",
              "      <td>1.0</td>\n",
              "      <td>0.0</td>\n",
              "      <td>0.0</td>\n",
              "      <td>0.0</td>\n",
              "      <td>0.0</td>\n",
              "      <td>0.0</td>\n",
              "      <td>0.0</td>\n",
              "      <td>1.0</td>\n",
              "    </tr>\n",
              "    <tr>\n",
              "      <th>1</th>\n",
              "      <td>1.0</td>\n",
              "      <td>1.0</td>\n",
              "      <td>0.0</td>\n",
              "      <td>0.0</td>\n",
              "      <td>0.0</td>\n",
              "      <td>0.0</td>\n",
              "      <td>0.0</td>\n",
              "      <td>1.0</td>\n",
              "      <td>0.0</td>\n",
              "      <td>1.0</td>\n",
              "      <td>0.0</td>\n",
              "    </tr>\n",
              "    <tr>\n",
              "      <th>2</th>\n",
              "      <td>1.0</td>\n",
              "      <td>1.0</td>\n",
              "      <td>1.0</td>\n",
              "      <td>0.0</td>\n",
              "      <td>0.0</td>\n",
              "      <td>0.0</td>\n",
              "      <td>0.0</td>\n",
              "      <td>0.0</td>\n",
              "      <td>0.0</td>\n",
              "      <td>1.0</td>\n",
              "      <td>0.0</td>\n",
              "    </tr>\n",
              "    <tr>\n",
              "      <th>3</th>\n",
              "      <td>0.0</td>\n",
              "      <td>0.0</td>\n",
              "      <td>0.0</td>\n",
              "      <td>0.0</td>\n",
              "      <td>0.0</td>\n",
              "      <td>0.0</td>\n",
              "      <td>0.0</td>\n",
              "      <td>0.0</td>\n",
              "      <td>0.0</td>\n",
              "      <td>0.0</td>\n",
              "      <td>0.0</td>\n",
              "    </tr>\n",
              "    <tr>\n",
              "      <th>4</th>\n",
              "      <td>1.0</td>\n",
              "      <td>1.0</td>\n",
              "      <td>0.0</td>\n",
              "      <td>1.0</td>\n",
              "      <td>0.0</td>\n",
              "      <td>0.0</td>\n",
              "      <td>0.0</td>\n",
              "      <td>0.0</td>\n",
              "      <td>0.0</td>\n",
              "      <td>1.0</td>\n",
              "      <td>1.0</td>\n",
              "    </tr>\n",
              "    <tr>\n",
              "      <th>...</th>\n",
              "      <td>...</td>\n",
              "      <td>...</td>\n",
              "      <td>...</td>\n",
              "      <td>...</td>\n",
              "      <td>...</td>\n",
              "      <td>...</td>\n",
              "      <td>...</td>\n",
              "      <td>...</td>\n",
              "      <td>...</td>\n",
              "      <td>...</td>\n",
              "      <td>...</td>\n",
              "    </tr>\n",
              "    <tr>\n",
              "      <th>11491</th>\n",
              "      <td>1.0</td>\n",
              "      <td>1.0</td>\n",
              "      <td>1.0</td>\n",
              "      <td>1.0</td>\n",
              "      <td>1.0</td>\n",
              "      <td>0.0</td>\n",
              "      <td>0.0</td>\n",
              "      <td>0.0</td>\n",
              "      <td>0.0</td>\n",
              "      <td>0.0</td>\n",
              "      <td>0.0</td>\n",
              "    </tr>\n",
              "    <tr>\n",
              "      <th>11492</th>\n",
              "      <td>1.0</td>\n",
              "      <td>1.0</td>\n",
              "      <td>1.0</td>\n",
              "      <td>1.0</td>\n",
              "      <td>0.0</td>\n",
              "      <td>1.0</td>\n",
              "      <td>0.0</td>\n",
              "      <td>0.0</td>\n",
              "      <td>0.0</td>\n",
              "      <td>0.0</td>\n",
              "      <td>0.0</td>\n",
              "    </tr>\n",
              "    <tr>\n",
              "      <th>11493</th>\n",
              "      <td>0.0</td>\n",
              "      <td>0.0</td>\n",
              "      <td>0.0</td>\n",
              "      <td>0.0</td>\n",
              "      <td>0.0</td>\n",
              "      <td>0.0</td>\n",
              "      <td>0.0</td>\n",
              "      <td>0.0</td>\n",
              "      <td>0.0</td>\n",
              "      <td>0.0</td>\n",
              "      <td>0.0</td>\n",
              "    </tr>\n",
              "    <tr>\n",
              "      <th>11494</th>\n",
              "      <td>1.0</td>\n",
              "      <td>1.0</td>\n",
              "      <td>0.0</td>\n",
              "      <td>1.0</td>\n",
              "      <td>0.0</td>\n",
              "      <td>0.0</td>\n",
              "      <td>0.0</td>\n",
              "      <td>0.0</td>\n",
              "      <td>0.0</td>\n",
              "      <td>0.0</td>\n",
              "      <td>0.0</td>\n",
              "    </tr>\n",
              "    <tr>\n",
              "      <th>11495</th>\n",
              "      <td>1.0</td>\n",
              "      <td>1.0</td>\n",
              "      <td>0.0</td>\n",
              "      <td>1.0</td>\n",
              "      <td>0.0</td>\n",
              "      <td>0.0</td>\n",
              "      <td>0.0</td>\n",
              "      <td>0.0</td>\n",
              "      <td>0.0</td>\n",
              "      <td>0.0</td>\n",
              "      <td>0.0</td>\n",
              "    </tr>\n",
              "  </tbody>\n",
              "</table>\n",
              "<p>11496 rows × 11 columns</p>\n",
              "</div>\n",
              "      <button class=\"colab-df-convert\" onclick=\"convertToInteractive('df-6886feb0-6586-4143-9556-21cbba763926')\"\n",
              "              title=\"Convert this dataframe to an interactive table.\"\n",
              "              style=\"display:none;\">\n",
              "        \n",
              "  <svg xmlns=\"http://www.w3.org/2000/svg\" height=\"24px\"viewBox=\"0 0 24 24\"\n",
              "       width=\"24px\">\n",
              "    <path d=\"M0 0h24v24H0V0z\" fill=\"none\"/>\n",
              "    <path d=\"M18.56 5.44l.94 2.06.94-2.06 2.06-.94-2.06-.94-.94-2.06-.94 2.06-2.06.94zm-11 1L8.5 8.5l.94-2.06 2.06-.94-2.06-.94L8.5 2.5l-.94 2.06-2.06.94zm10 10l.94 2.06.94-2.06 2.06-.94-2.06-.94-.94-2.06-.94 2.06-2.06.94z\"/><path d=\"M17.41 7.96l-1.37-1.37c-.4-.4-.92-.59-1.43-.59-.52 0-1.04.2-1.43.59L10.3 9.45l-7.72 7.72c-.78.78-.78 2.05 0 2.83L4 21.41c.39.39.9.59 1.41.59.51 0 1.02-.2 1.41-.59l7.78-7.78 2.81-2.81c.8-.78.8-2.07 0-2.86zM5.41 20L4 18.59l7.72-7.72 1.47 1.35L5.41 20z\"/>\n",
              "  </svg>\n",
              "      </button>\n",
              "      \n",
              "  <style>\n",
              "    .colab-df-container {\n",
              "      display:flex;\n",
              "      flex-wrap:wrap;\n",
              "      gap: 12px;\n",
              "    }\n",
              "\n",
              "    .colab-df-convert {\n",
              "      background-color: #E8F0FE;\n",
              "      border: none;\n",
              "      border-radius: 50%;\n",
              "      cursor: pointer;\n",
              "      display: none;\n",
              "      fill: #1967D2;\n",
              "      height: 32px;\n",
              "      padding: 0 0 0 0;\n",
              "      width: 32px;\n",
              "    }\n",
              "\n",
              "    .colab-df-convert:hover {\n",
              "      background-color: #E2EBFA;\n",
              "      box-shadow: 0px 1px 2px rgba(60, 64, 67, 0.3), 0px 1px 3px 1px rgba(60, 64, 67, 0.15);\n",
              "      fill: #174EA6;\n",
              "    }\n",
              "\n",
              "    [theme=dark] .colab-df-convert {\n",
              "      background-color: #3B4455;\n",
              "      fill: #D2E3FC;\n",
              "    }\n",
              "\n",
              "    [theme=dark] .colab-df-convert:hover {\n",
              "      background-color: #434B5C;\n",
              "      box-shadow: 0px 1px 3px 1px rgba(0, 0, 0, 0.15);\n",
              "      filter: drop-shadow(0px 1px 2px rgba(0, 0, 0, 0.3));\n",
              "      fill: #FFFFFF;\n",
              "    }\n",
              "  </style>\n",
              "\n",
              "      <script>\n",
              "        const buttonEl =\n",
              "          document.querySelector('#df-6886feb0-6586-4143-9556-21cbba763926 button.colab-df-convert');\n",
              "        buttonEl.style.display =\n",
              "          google.colab.kernel.accessAllowed ? 'block' : 'none';\n",
              "\n",
              "        async function convertToInteractive(key) {\n",
              "          const element = document.querySelector('#df-6886feb0-6586-4143-9556-21cbba763926');\n",
              "          const dataTable =\n",
              "            await google.colab.kernel.invokeFunction('convertToInteractive',\n",
              "                                                     [key], {});\n",
              "          if (!dataTable) return;\n",
              "\n",
              "          const docLinkHtml = 'Like what you see? Visit the ' +\n",
              "            '<a target=\"_blank\" href=https://colab.research.google.com/notebooks/data_table.ipynb>data table notebook</a>'\n",
              "            + ' to learn more about interactive tables.';\n",
              "          element.innerHTML = '';\n",
              "          dataTable['output_type'] = 'display_data';\n",
              "          await google.colab.output.renderOutput(dataTable, element);\n",
              "          const docLink = document.createElement('div');\n",
              "          docLink.innerHTML = docLinkHtml;\n",
              "          element.appendChild(docLink);\n",
              "        }\n",
              "      </script>\n",
              "    </div>\n",
              "  </div>\n",
              "  "
            ]
          },
          "metadata": {},
          "execution_count": 51
        }
      ]
    },
    {
      "cell_type": "code",
      "source": [
        "len(df_who_lives_here.columns)"
      ],
      "metadata": {
        "colab": {
          "base_uri": "https://localhost:8080/"
        },
        "id": "yaWftNOj94NX",
        "outputId": "95367001-c27b-44ff-ae3f-9b272d80eace"
      },
      "execution_count": 74,
      "outputs": [
        {
          "output_type": "execute_result",
          "data": {
            "text/plain": [
              "11"
            ]
          },
          "metadata": {},
          "execution_count": 74
        }
      ]
    },
    {
      "cell_type": "code",
      "source": [
        "df = pd.concat([df, df_who_lives_here], axis=1)"
      ],
      "metadata": {
        "id": "NUYu5ybp3Xh_"
      },
      "execution_count": 52,
      "outputs": []
    },
    {
      "cell_type": "code",
      "source": [
        "df.columns"
      ],
      "metadata": {
        "colab": {
          "base_uri": "https://localhost:8080/"
        },
        "id": "3WmkxWZ441TX",
        "outputId": "e31c0bc0-7c6d-40e6-bd7f-735e329e88cf"
      },
      "execution_count": 61,
      "outputs": [
        {
          "output_type": "execute_result",
          "data": {
            "text/plain": [
              "Index(['postcode', 'state', 'suburb', 'search_string', 'ratings',\n",
              "       'number_of_reviews', 'rankings', 'great_for', 'not_great_for',\n",
              "       'who_lives_here', 'time_stamp', 'region', 'search_string_for_homely',\n",
              "       'link_for_homely', 'great_for_schools', 'great_for_shopping_options',\n",
              "       'great_for_gym_and_fitness', 'great_for_internet_access',\n",
              "       'great_for_parks_and_recreation', 'great_for_childcare',\n",
              "       'great_for_clean_&_green', 'great_for_medical_facilities',\n",
              "       'great_for_lack_of_traffic', 'great_for_parking',\n",
              "       'great_for_public_transport', 'great_for_pest-free',\n",
              "       'great_for_peace_and_quiet', 'great_for_resale_or_rental_value',\n",
              "       'great_for_neighbourly_spirit', 'great_for_eating_out',\n",
              "       'great_for_cost_of_living', 'great_for_safe_and_sound',\n",
              "       'great_for_nightlife', 'great_for_lgbt+', 'not_great_for_nightlife',\n",
              "       'not_great_for_parking', 'not_great_for_cost_of_living',\n",
              "       'not_great_for_lack_of_traffic', 'not_great_for_eating_out',\n",
              "       'not_great_for_gym_and_fitness', 'not_great_for_parks_and_recreation',\n",
              "       'not_great_for_public_transport', 'not_great_for_shopping_options',\n",
              "       'not_great_for_resale_or_rental_value',\n",
              "       'not_great_for_medical_facilities', 'not_great_for_internet_access',\n",
              "       'not_great_for_schools', 'not_great_for_pest-free',\n",
              "       'not_great_for_clean_&_green', 'not_great_for_safe_and_sound',\n",
              "       'not_great_for_peace_and_quiet', 'not_great_for_childcare',\n",
              "       'not_great_for_neighbourly_spirit', 'not_great_for_students',\n",
              "       'who_lives_here_families_with_kids', 'who_lives_here_professionals',\n",
              "       'who_lives_here_retirees', 'who_lives_here_singles',\n",
              "       'who_lives_here_country_lovers', 'who_lives_here_tourists',\n",
              "       'who_lives_here_lgbtq+', 'who_lives_here_students',\n",
              "       'who_lives_here_fashion_conscious', 'who_lives_here_beach_lovers',\n",
              "       'who_lives_here_hipsters'],\n",
              "      dtype='object')"
            ]
          },
          "metadata": {},
          "execution_count": 61
        }
      ]
    },
    {
      "cell_type": "code",
      "source": [
        "df.iloc[:, 14:] = df.iloc[:, 14:].astype(int)"
      ],
      "metadata": {
        "colab": {
          "base_uri": "https://localhost:8080/"
        },
        "id": "O5EhmMQM4Kas",
        "outputId": "fffc7413-e549-48a8-d20d-03b305c9f202"
      },
      "execution_count": 63,
      "outputs": [
        {
          "output_type": "stream",
          "name": "stderr",
          "text": [
            "<ipython-input-63-7250dda2210e>:1: DeprecationWarning: In a future version, `df.iloc[:, i] = newvals` will attempt to set the values inplace instead of always setting a new array. To retain the old behavior, use either `df[df.columns[i]] = newvals` or, if columns are non-unique, `df.isetitem(i, newvals)`\n",
            "  df.iloc[:, 14:] = df.iloc[:, 14:].astype(int)\n"
          ]
        }
      ]
    },
    {
      "cell_type": "code",
      "source": [
        "df['postcode'] = df['postcode'].apply(lambda x: f\"0{x}\" if len(str(x)) == 3 else str(x))\n",
        "df.head()"
      ],
      "metadata": {
        "colab": {
          "base_uri": "https://localhost:8080/",
          "height": 543
        },
        "id": "rlJh1HNU6AJW",
        "outputId": "21790ee5-a247-4a7e-d4bb-4711b0803518"
      },
      "execution_count": 67,
      "outputs": [
        {
          "output_type": "execute_result",
          "data": {
            "text/plain": [
              "  postcode               state         suburb           search_string  \\\n",
              "0     0800  Northern Territory    Darwin City    Darwin City, NT 0800   \n",
              "1     0810  Northern Territory          Alawa          Alawa, NT 0810   \n",
              "2     0810  Northern Territory        Brinkin        Brinkin, NT 0810   \n",
              "3     0810  Northern Territory      Casuarina      Casuarina, NT 0810   \n",
              "4     0810  Northern Territory  Coconut Grove  Coconut Grove, NT 0810   \n",
              "\n",
              "   ratings  number_of_reviews  \\\n",
              "0      4.0                  2   \n",
              "1      4.6                  0   \n",
              "2      4.6                  1   \n",
              "3      0.0                  0   \n",
              "4      4.7                  3   \n",
              "\n",
              "                                            rankings  \\\n",
              "0  Ranked 13th best suburb by locals in Northern ...   \n",
              "1                                                NaN   \n",
              "2                                                NaN   \n",
              "3                                                NaN   \n",
              "4                                                NaN   \n",
              "\n",
              "                                           great_for not_great_for  \\\n",
              "0  Schools,Shopping options,Gym and fitness,Inter...                 \n",
              "1  Childcare,Clean & green,Gym and fitness,Intern...                 \n",
              "2  Clean & green,Gym and fitness,Internet access,...                 \n",
              "3                                                                    \n",
              "4  Clean & green,Medical facilities,Parks and rec...     Nightlife   \n",
              "\n",
              "                                      who_lives_here  ...  \\\n",
              "0  Singles,Professionals,Families With Kids,Retir...  ...   \n",
              "1  Professionals,Families With Kids,Students,Beac...  ...   \n",
              "2  Professionals,Families With Kids,Retirees,Beac...  ...   \n",
              "3                                                     ...   \n",
              "4  Families With Kids,Hipsters,Beach Lovers,Profe...  ...   \n",
              "\n",
              "  who_lives_here_professionals who_lives_here_retirees who_lives_here_singles  \\\n",
              "0                            1                       1                      1   \n",
              "1                            1                       0                      0   \n",
              "2                            1                       1                      0   \n",
              "3                            0                       0                      0   \n",
              "4                            1                       0                      1   \n",
              "\n",
              "  who_lives_here_country_lovers  who_lives_here_tourists  \\\n",
              "0                             0                        0   \n",
              "1                             0                        0   \n",
              "2                             0                        0   \n",
              "3                             0                        0   \n",
              "4                             0                        0   \n",
              "\n",
              "   who_lives_here_lgbtq+  who_lives_here_students  \\\n",
              "0                      0                        0   \n",
              "1                      0                        1   \n",
              "2                      0                        0   \n",
              "3                      0                        0   \n",
              "4                      0                        0   \n",
              "\n",
              "   who_lives_here_fashion_conscious  who_lives_here_beach_lovers  \\\n",
              "0                                 0                            0   \n",
              "1                                 0                            1   \n",
              "2                                 0                            1   \n",
              "3                                 0                            0   \n",
              "4                                 0                            1   \n",
              "\n",
              "   who_lives_here_hipsters  \n",
              "0                        1  \n",
              "1                        0  \n",
              "2                        0  \n",
              "3                        0  \n",
              "4                        1  \n",
              "\n",
              "[5 rows x 65 columns]"
            ],
            "text/html": [
              "\n",
              "  <div id=\"df-5cfd266b-ebda-4a1d-ad46-0ace9239c1f3\">\n",
              "    <div class=\"colab-df-container\">\n",
              "      <div>\n",
              "<style scoped>\n",
              "    .dataframe tbody tr th:only-of-type {\n",
              "        vertical-align: middle;\n",
              "    }\n",
              "\n",
              "    .dataframe tbody tr th {\n",
              "        vertical-align: top;\n",
              "    }\n",
              "\n",
              "    .dataframe thead th {\n",
              "        text-align: right;\n",
              "    }\n",
              "</style>\n",
              "<table border=\"1\" class=\"dataframe\">\n",
              "  <thead>\n",
              "    <tr style=\"text-align: right;\">\n",
              "      <th></th>\n",
              "      <th>postcode</th>\n",
              "      <th>state</th>\n",
              "      <th>suburb</th>\n",
              "      <th>search_string</th>\n",
              "      <th>ratings</th>\n",
              "      <th>number_of_reviews</th>\n",
              "      <th>rankings</th>\n",
              "      <th>great_for</th>\n",
              "      <th>not_great_for</th>\n",
              "      <th>who_lives_here</th>\n",
              "      <th>...</th>\n",
              "      <th>who_lives_here_professionals</th>\n",
              "      <th>who_lives_here_retirees</th>\n",
              "      <th>who_lives_here_singles</th>\n",
              "      <th>who_lives_here_country_lovers</th>\n",
              "      <th>who_lives_here_tourists</th>\n",
              "      <th>who_lives_here_lgbtq+</th>\n",
              "      <th>who_lives_here_students</th>\n",
              "      <th>who_lives_here_fashion_conscious</th>\n",
              "      <th>who_lives_here_beach_lovers</th>\n",
              "      <th>who_lives_here_hipsters</th>\n",
              "    </tr>\n",
              "  </thead>\n",
              "  <tbody>\n",
              "    <tr>\n",
              "      <th>0</th>\n",
              "      <td>0800</td>\n",
              "      <td>Northern Territory</td>\n",
              "      <td>Darwin City</td>\n",
              "      <td>Darwin City, NT 0800</td>\n",
              "      <td>4.0</td>\n",
              "      <td>2</td>\n",
              "      <td>Ranked 13th best suburb by locals in Northern ...</td>\n",
              "      <td>Schools,Shopping options,Gym and fitness,Inter...</td>\n",
              "      <td></td>\n",
              "      <td>Singles,Professionals,Families With Kids,Retir...</td>\n",
              "      <td>...</td>\n",
              "      <td>1</td>\n",
              "      <td>1</td>\n",
              "      <td>1</td>\n",
              "      <td>0</td>\n",
              "      <td>0</td>\n",
              "      <td>0</td>\n",
              "      <td>0</td>\n",
              "      <td>0</td>\n",
              "      <td>0</td>\n",
              "      <td>1</td>\n",
              "    </tr>\n",
              "    <tr>\n",
              "      <th>1</th>\n",
              "      <td>0810</td>\n",
              "      <td>Northern Territory</td>\n",
              "      <td>Alawa</td>\n",
              "      <td>Alawa, NT 0810</td>\n",
              "      <td>4.6</td>\n",
              "      <td>0</td>\n",
              "      <td>NaN</td>\n",
              "      <td>Childcare,Clean &amp; green,Gym and fitness,Intern...</td>\n",
              "      <td></td>\n",
              "      <td>Professionals,Families With Kids,Students,Beac...</td>\n",
              "      <td>...</td>\n",
              "      <td>1</td>\n",
              "      <td>0</td>\n",
              "      <td>0</td>\n",
              "      <td>0</td>\n",
              "      <td>0</td>\n",
              "      <td>0</td>\n",
              "      <td>1</td>\n",
              "      <td>0</td>\n",
              "      <td>1</td>\n",
              "      <td>0</td>\n",
              "    </tr>\n",
              "    <tr>\n",
              "      <th>2</th>\n",
              "      <td>0810</td>\n",
              "      <td>Northern Territory</td>\n",
              "      <td>Brinkin</td>\n",
              "      <td>Brinkin, NT 0810</td>\n",
              "      <td>4.6</td>\n",
              "      <td>1</td>\n",
              "      <td>NaN</td>\n",
              "      <td>Clean &amp; green,Gym and fitness,Internet access,...</td>\n",
              "      <td></td>\n",
              "      <td>Professionals,Families With Kids,Retirees,Beac...</td>\n",
              "      <td>...</td>\n",
              "      <td>1</td>\n",
              "      <td>1</td>\n",
              "      <td>0</td>\n",
              "      <td>0</td>\n",
              "      <td>0</td>\n",
              "      <td>0</td>\n",
              "      <td>0</td>\n",
              "      <td>0</td>\n",
              "      <td>1</td>\n",
              "      <td>0</td>\n",
              "    </tr>\n",
              "    <tr>\n",
              "      <th>3</th>\n",
              "      <td>0810</td>\n",
              "      <td>Northern Territory</td>\n",
              "      <td>Casuarina</td>\n",
              "      <td>Casuarina, NT 0810</td>\n",
              "      <td>0.0</td>\n",
              "      <td>0</td>\n",
              "      <td>NaN</td>\n",
              "      <td></td>\n",
              "      <td></td>\n",
              "      <td></td>\n",
              "      <td>...</td>\n",
              "      <td>0</td>\n",
              "      <td>0</td>\n",
              "      <td>0</td>\n",
              "      <td>0</td>\n",
              "      <td>0</td>\n",
              "      <td>0</td>\n",
              "      <td>0</td>\n",
              "      <td>0</td>\n",
              "      <td>0</td>\n",
              "      <td>0</td>\n",
              "    </tr>\n",
              "    <tr>\n",
              "      <th>4</th>\n",
              "      <td>0810</td>\n",
              "      <td>Northern Territory</td>\n",
              "      <td>Coconut Grove</td>\n",
              "      <td>Coconut Grove, NT 0810</td>\n",
              "      <td>4.7</td>\n",
              "      <td>3</td>\n",
              "      <td>NaN</td>\n",
              "      <td>Clean &amp; green,Medical facilities,Parks and rec...</td>\n",
              "      <td>Nightlife</td>\n",
              "      <td>Families With Kids,Hipsters,Beach Lovers,Profe...</td>\n",
              "      <td>...</td>\n",
              "      <td>1</td>\n",
              "      <td>0</td>\n",
              "      <td>1</td>\n",
              "      <td>0</td>\n",
              "      <td>0</td>\n",
              "      <td>0</td>\n",
              "      <td>0</td>\n",
              "      <td>0</td>\n",
              "      <td>1</td>\n",
              "      <td>1</td>\n",
              "    </tr>\n",
              "  </tbody>\n",
              "</table>\n",
              "<p>5 rows × 65 columns</p>\n",
              "</div>\n",
              "      <button class=\"colab-df-convert\" onclick=\"convertToInteractive('df-5cfd266b-ebda-4a1d-ad46-0ace9239c1f3')\"\n",
              "              title=\"Convert this dataframe to an interactive table.\"\n",
              "              style=\"display:none;\">\n",
              "        \n",
              "  <svg xmlns=\"http://www.w3.org/2000/svg\" height=\"24px\"viewBox=\"0 0 24 24\"\n",
              "       width=\"24px\">\n",
              "    <path d=\"M0 0h24v24H0V0z\" fill=\"none\"/>\n",
              "    <path d=\"M18.56 5.44l.94 2.06.94-2.06 2.06-.94-2.06-.94-.94-2.06-.94 2.06-2.06.94zm-11 1L8.5 8.5l.94-2.06 2.06-.94-2.06-.94L8.5 2.5l-.94 2.06-2.06.94zm10 10l.94 2.06.94-2.06 2.06-.94-2.06-.94-.94-2.06-.94 2.06-2.06.94z\"/><path d=\"M17.41 7.96l-1.37-1.37c-.4-.4-.92-.59-1.43-.59-.52 0-1.04.2-1.43.59L10.3 9.45l-7.72 7.72c-.78.78-.78 2.05 0 2.83L4 21.41c.39.39.9.59 1.41.59.51 0 1.02-.2 1.41-.59l7.78-7.78 2.81-2.81c.8-.78.8-2.07 0-2.86zM5.41 20L4 18.59l7.72-7.72 1.47 1.35L5.41 20z\"/>\n",
              "  </svg>\n",
              "      </button>\n",
              "      \n",
              "  <style>\n",
              "    .colab-df-container {\n",
              "      display:flex;\n",
              "      flex-wrap:wrap;\n",
              "      gap: 12px;\n",
              "    }\n",
              "\n",
              "    .colab-df-convert {\n",
              "      background-color: #E8F0FE;\n",
              "      border: none;\n",
              "      border-radius: 50%;\n",
              "      cursor: pointer;\n",
              "      display: none;\n",
              "      fill: #1967D2;\n",
              "      height: 32px;\n",
              "      padding: 0 0 0 0;\n",
              "      width: 32px;\n",
              "    }\n",
              "\n",
              "    .colab-df-convert:hover {\n",
              "      background-color: #E2EBFA;\n",
              "      box-shadow: 0px 1px 2px rgba(60, 64, 67, 0.3), 0px 1px 3px 1px rgba(60, 64, 67, 0.15);\n",
              "      fill: #174EA6;\n",
              "    }\n",
              "\n",
              "    [theme=dark] .colab-df-convert {\n",
              "      background-color: #3B4455;\n",
              "      fill: #D2E3FC;\n",
              "    }\n",
              "\n",
              "    [theme=dark] .colab-df-convert:hover {\n",
              "      background-color: #434B5C;\n",
              "      box-shadow: 0px 1px 3px 1px rgba(0, 0, 0, 0.15);\n",
              "      filter: drop-shadow(0px 1px 2px rgba(0, 0, 0, 0.3));\n",
              "      fill: #FFFFFF;\n",
              "    }\n",
              "  </style>\n",
              "\n",
              "      <script>\n",
              "        const buttonEl =\n",
              "          document.querySelector('#df-5cfd266b-ebda-4a1d-ad46-0ace9239c1f3 button.colab-df-convert');\n",
              "        buttonEl.style.display =\n",
              "          google.colab.kernel.accessAllowed ? 'block' : 'none';\n",
              "\n",
              "        async function convertToInteractive(key) {\n",
              "          const element = document.querySelector('#df-5cfd266b-ebda-4a1d-ad46-0ace9239c1f3');\n",
              "          const dataTable =\n",
              "            await google.colab.kernel.invokeFunction('convertToInteractive',\n",
              "                                                     [key], {});\n",
              "          if (!dataTable) return;\n",
              "\n",
              "          const docLinkHtml = 'Like what you see? Visit the ' +\n",
              "            '<a target=\"_blank\" href=https://colab.research.google.com/notebooks/data_table.ipynb>data table notebook</a>'\n",
              "            + ' to learn more about interactive tables.';\n",
              "          element.innerHTML = '';\n",
              "          dataTable['output_type'] = 'display_data';\n",
              "          await google.colab.output.renderOutput(dataTable, element);\n",
              "          const docLink = document.createElement('div');\n",
              "          docLink.innerHTML = docLinkHtml;\n",
              "          element.appendChild(docLink);\n",
              "        }\n",
              "      </script>\n",
              "    </div>\n",
              "  </div>\n",
              "  "
            ]
          },
          "metadata": {},
          "execution_count": 67
        }
      ]
    },
    {
      "cell_type": "code",
      "source": [
        "len(df.columns)"
      ],
      "metadata": {
        "colab": {
          "base_uri": "https://localhost:8080/"
        },
        "id": "QtrdEIHs9qo-",
        "outputId": "9e2a4ab3-470d-4644-efa1-100caa4dc172"
      },
      "execution_count": 72,
      "outputs": [
        {
          "output_type": "execute_result",
          "data": {
            "text/plain": [
              "65"
            ]
          },
          "metadata": {},
          "execution_count": 72
        }
      ]
    },
    {
      "cell_type": "code",
      "source": [
        "for i in df.columns:\n",
        "  print(i)"
      ],
      "metadata": {
        "colab": {
          "base_uri": "https://localhost:8080/"
        },
        "id": "_z14CE3h7TuG",
        "outputId": "d49e79ab-6be7-4624-dffe-445ce081b23b"
      },
      "execution_count": 71,
      "outputs": [
        {
          "output_type": "stream",
          "name": "stdout",
          "text": [
            "postcode\n",
            "state\n",
            "suburb\n",
            "search_string\n",
            "ratings\n",
            "number_of_reviews\n",
            "rankings\n",
            "great_for\n",
            "not_great_for\n",
            "who_lives_here\n",
            "time_stamp\n",
            "region\n",
            "search_string_for_homely\n",
            "link_for_homely\n",
            "great_for_schools\n",
            "great_for_shopping_options\n",
            "great_for_gym_and_fitness\n",
            "great_for_internet_access\n",
            "great_for_parks_and_recreation\n",
            "great_for_childcare\n",
            "great_for_clean_&_green\n",
            "great_for_medical_facilities\n",
            "great_for_lack_of_traffic\n",
            "great_for_parking\n",
            "great_for_public_transport\n",
            "great_for_pest-free\n",
            "great_for_peace_and_quiet\n",
            "great_for_resale_or_rental_value\n",
            "great_for_neighbourly_spirit\n",
            "great_for_eating_out\n",
            "great_for_cost_of_living\n",
            "great_for_safe_and_sound\n",
            "great_for_nightlife\n",
            "great_for_lgbt+\n",
            "not_great_for_nightlife\n",
            "not_great_for_parking\n",
            "not_great_for_cost_of_living\n",
            "not_great_for_lack_of_traffic\n",
            "not_great_for_eating_out\n",
            "not_great_for_gym_and_fitness\n",
            "not_great_for_parks_and_recreation\n",
            "not_great_for_public_transport\n",
            "not_great_for_shopping_options\n",
            "not_great_for_resale_or_rental_value\n",
            "not_great_for_medical_facilities\n",
            "not_great_for_internet_access\n",
            "not_great_for_schools\n",
            "not_great_for_pest-free\n",
            "not_great_for_clean_&_green\n",
            "not_great_for_safe_and_sound\n",
            "not_great_for_peace_and_quiet\n",
            "not_great_for_childcare\n",
            "not_great_for_neighbourly_spirit\n",
            "not_great_for_students\n",
            "who_lives_here_families_with_kids\n",
            "who_lives_here_professionals\n",
            "who_lives_here_retirees\n",
            "who_lives_here_singles\n",
            "who_lives_here_country_lovers\n",
            "who_lives_here_tourists\n",
            "who_lives_here_lgbtq+\n",
            "who_lives_here_students\n",
            "who_lives_here_fashion_conscious\n",
            "who_lives_here_beach_lovers\n",
            "who_lives_here_hipsters\n"
          ]
        }
      ]
    },
    {
      "cell_type": "code",
      "source": [
        "df.to_excel('HomelyExtract_20230622.xlsx', index = False)"
      ],
      "metadata": {
        "id": "Xr7BkTDi5Ose"
      },
      "execution_count": 68,
      "outputs": []
    }
  ]
}