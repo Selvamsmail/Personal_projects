{
  "nbformat": 4,
  "nbformat_minor": 0,
  "metadata": {
    "colab": {
      "provenance": []
    },
    "kernelspec": {
      "name": "python3",
      "display_name": "Python 3"
    },
    "language_info": {
      "name": "python"
    }
  },
  "cells": [
    {
      "cell_type": "code",
      "source": [
        "import os\n",
        "from bs4 import BeautifulSoup\n",
        "import numpy as np\n",
        "import pandas as pd\n",
        "import regex as re\n",
        "import requests\n",
        "import json\n",
        "import gdown\n",
        "\n",
        "# pd.set_option('display.max_rows', None)\n",
        "# pd.set_option('mode.chained_assignment',None)"
      ],
      "metadata": {
        "id": "6iSLPJu2il1V"
      },
      "execution_count": 1,
      "outputs": []
    },
    {
      "cell_type": "code",
      "source": [
        "gdown.download(id = '1h0HiImmEonZCBUcRXOwYAi9g39nYs-RX')"
      ],
      "metadata": {
        "colab": {
          "base_uri": "https://localhost:8080/",
          "height": 104
        },
        "id": "huPPqykSvS0z",
        "outputId": "c34a4fbe-4707-4718-d64e-b3ea34ed10aa"
      },
      "execution_count": 2,
      "outputs": [
        {
          "output_type": "stream",
          "name": "stderr",
          "text": [
            "Downloading...\n",
            "From: https://drive.google.com/uc?id=1h0HiImmEonZCBUcRXOwYAi9g39nYs-RX\n",
            "To: /content/georef-australia-state-suburb.csv\n",
            "100%|██████████| 53.5M/53.5M [00:00<00:00, 77.4MB/s]\n"
          ]
        },
        {
          "output_type": "execute_result",
          "data": {
            "text/plain": [
              "'georef-australia-state-suburb.csv'"
            ],
            "application/vnd.google.colaboratory.intrinsic+json": {
              "type": "string"
            }
          },
          "metadata": {},
          "execution_count": 2
        }
      ]
    },
    {
      "cell_type": "code",
      "source": [
        "df = pd.read_csv('/content/georef-australia-state-suburb.csv',sep=';')\n",
        "del df['Geo Shape'], df['Geo Point'], df['Type'], df['Year'], df['Iso 3166-3 Area Code']"
      ],
      "metadata": {
        "id": "rWQ2qtDzwNDi"
      },
      "execution_count": 3,
      "outputs": []
    },
    {
      "cell_type": "markdown",
      "source": [
        "* The website had only sugestions to pull data from.\n",
        "* so we have a sugestion genrator with 3 charecters.\n",
        "* its total combinations lengeth were 17576"
      ],
      "metadata": {
        "id": "Iy731xe5igQe"
      }
    },
    {
      "cell_type": "code",
      "source": [
        "from itertools import product\n",
        "from string import ascii_lowercase\n",
        "keywords = tuple(map(''.join, product(ascii_lowercase, repeat=3)))\n",
        "print(len(keywords))"
      ],
      "metadata": {
        "colab": {
          "base_uri": "https://localhost:8080/"
        },
        "id": "lfa12iJhn5Dr",
        "outputId": "50e8c342-f2d7-4b20-fc9b-e1b1d63640b4"
      },
      "execution_count": 14,
      "outputs": [
        {
          "output_type": "stream",
          "name": "stdout",
          "text": [
            "17576\n"
          ]
        }
      ]
    },
    {
      "cell_type": "code",
      "source": [
        "area_list = df['Official Name Local Government Area']"
      ],
      "metadata": {
        "id": "3yMbgI0HybNp"
      },
      "execution_count": 15,
      "outputs": []
    },
    {
      "cell_type": "code",
      "source": [
        "headers = {\n",
        "    'authority': 'www.domain.com.au',\n",
        "    'accept': '*/*',\n",
        "    'accept-language': 'en-US,en;q=0.9',\n",
        "    'content-type': 'application/json',\n",
        "    # 'cookie': 'domain-mixpanel-id_ab0bde70050c3eabaaf8824402fa01e0=$device:188995b514457e-03d062656d4fe5-26031d51-e0985-188995b5145100b; DEVICE_SESSIONID=a023599d-f7d9-46eb-b321-f121e875624e; searchSOI=nsw; bm_sz=E5C3168193AD41FE541960D95436255D~YAAQX+hUuDpcuJaIAQAA3jpJrhTax8oHVn/x4xpTKyn+pZ3tBypaiFN+fhR/FkbUiUtsbtuptrKHlrQVtLONesMfl+u22kTH6Oe8fVzvoXh0i9/cktskT2ksu8Pl/sK2ke2twQKuLm7o72/j1Zlmj/NztVuvVJHbLx2PWFbJJSVaJroFVp94sNdqGqmQI4m79RXMWA2cJHdE/EMHzxxRm3eeZ0wK365YXrDIM1MggRFMgn8svljDLLWJWCpLyPWBw7cbNNfG4viqhJZSnPCtngE5yd2wCks5OL3m4UX0p2YiWKhVvjefSvZJSq/wRTYWAiQwvgnyyp5HNofRq20=~3421252~4473143; bm_mi=D952F10DCA95880574A8BC722F2EB220~YAAQX+hUuCPXuJaIAQAA0bBarhSxMOjumckKnKAlJGqyac9HJv7nNQQY018qrEOD6li5mlKJJdlDNNnQMNimYXRtxDPmKz5LEZvmj16ofM4zzp1LEoVU9F6EYvK6d4Ip0JJi5ZveAW787x1wVwMpepTQdUBDRpiPzNBKDnV0+8dI12TDQIIgIetF7fMeiQoqfEon4lKfpkhnH1TxQtk4qj2a/LWB2L3d4lue7GxH6gjdtlP2fM1aZcux9RSVPu1DVT/kxVCwUYnQ/rqfYsszfYcWGD+MbOI6nSKiHeuMXKb70P8IDPt9MNraiAvYW9bte2h28jNHksjvzb1xXKvr~1; ak_bmsc=1DE2C239D9A96F1142226B5FA5500183~000000000000000000000000000000~YAAQX+hUuBnYuJaIAQAAcNxarhTQh3sbnvdeNNlrfoGWlFkM3eHfk14mHOm1PZyIU0gmYFxPO9/qdHza1NrXcHuNpWrNwVvbg1dISowLTtF7HsRvUEX7jU+wau+gQjX6thKlHYUF3K50ITyCdJE8dscqRM5NoYZj7uO0M/LIZpD6beritGyU896dEKD/2dPy/o7CGykFe56byEq8XJv3tFoJyQb1fIW8twUkzznRLOKajOXSd/klW/N6rLuvXGJjoFFfWEvBgi4VI4eMtUuGMiQZRQohNzTQ8RbVyI6r+VvPpSIlTqirB6rVBlk2MpvrWdIG6luUwoGnR2ddw6TIAvxcRK2tt3aNdHT84ggGEOn6A+UM+KndYFpWCTHs20VPTUkN2e44Zx5xqTS3zSGMbqvfWarNWtaOtm40CUxLtNdfXgqWJCEytUPJPM0/; bm_sv=A248E62E876DC5FACA1C1B94D0727478~YAAQX+hUuIa9uZaIAQAARvZ7rhQmRelJL4ghZ5opdMFxpF0zmhQLqwSZ2hKhHDu+nS4kBVQLt+JtTF4BO2IMCRWdw76Zsbhp6siOtsux3Rx/s71QUW1TztDbZE/4UyxlV02YXRDKxI2QwV8vQOa9FdGp43thdH3hsqngJNLgI4qBF7/whqCTKRIM23c7wzHh6FMDDWanOVq+Olkac3fGqtE0bH3uK9OxwL5iw7WT6qIbRb9vtC1odx86FasDcBAT5Inf8w==~1; _abck=1DD95BDDF3FCA5D055B5FB003FEBDFF4~0~YAAQX+hUuGW+uZaIAQAAPv97rgokC/jffin+CGwE6ip6uInGb+3nw3Eibix6Nd7g4m/9XzeDvpAJRj3jl30Hp2K6KBS9nLDQrwOx0+O1uxtdrvEu0LRI+e/paHjKnl/Rtmqh2JpWCqTtljFKgjFFr7mVhgDxcSwvuIJZ6YsSOZ05ofNiw9yfkHF0JcAIYYUSNTqgD/GG/RKkcW7xrE1LAxJutk06NJNXOo0WfGpnI+c3Kx6P5YU7nBvve+hi7aeCAwBJY5TSOypVZtDAdCrbUmbzYQjeJcL/DAr6VEGFeL8DOee3iIhi/X7wGnk/gl9cJsOrEQfx54sYX5JlPBMef7GBkKsS/xTbR5HAXHi+hj/OdKa+cwfslumdx7yqTtYKdtqb6jtWQWqQBtQE~-1~-1~1686552014',\n",
        "    'origin': 'https://www.domain.com.au',\n",
        "    'referer': 'https://www.domain.com.au/suburb-profile/',\n",
        "    'sec-ch-ua': '\"Not.A/Brand\";v=\"8\", \"Chromium\";v=\"114\", \"Brave\";v=\"114\"',\n",
        "    'sec-ch-ua-mobile': '?0',\n",
        "    'sec-ch-ua-platform': '\"Windows\"',\n",
        "    'sec-fetch-dest': 'empty',\n",
        "    'sec-fetch-mode': 'cors',\n",
        "    'sec-fetch-site': 'same-origin',\n",
        "    'sec-gpc': '1',\n",
        "    'user-agent': 'Mozilla/5.0 (Windows NT 10.0; Win64; x64) AppleWebKit/537.36 (KHTML, like Gecko) Chrome/114.0.0.0 Safari/537.36',\n",
        "}"
      ],
      "metadata": {
        "id": "G7MP9ohu4Tq3"
      },
      "execution_count": 16,
      "outputs": []
    },
    {
      "cell_type": "code",
      "source": [
        "def extract_first_name(name):\n",
        "    # Remove special characters using regex\n",
        "    cleaned_name = re.sub('[^a-zA-Z ]', '', name)\n",
        "    # Extract the first name\n",
        "    first_name = cleaned_name.split()[0]\n",
        "    return first_name\n",
        "\n",
        "def extract_first_names(names):\n",
        "    # Split the names by comma\n",
        "    name_list = names.split(',')\n",
        "    # Extract the first name from each name\n",
        "    first_names = [extract_first_name(name) for name in name_list]\n",
        "    return first_names"
      ],
      "metadata": {
        "id": "P9xuCsVmLoeW"
      },
      "execution_count": 17,
      "outputs": []
    },
    {
      "cell_type": "code",
      "source": [
        "unique_names = set()\n",
        "for sub_urb in keywords:\n",
        "  sub_urb = extract_first_names(sub_urb)\n",
        "  try:\n",
        "    json_data = {\n",
        "        'variables': {\n",
        "            'input': sub_urb[0],\n",
        "            'maxResults': 2000,\n",
        "            'locationTypes': [\n",
        "                'SUBURB',\n",
        "            ],\n",
        "        },\n",
        "        'query': '\\n        query SuggestLocations(\\n          $input: String!\\n          $locationTypes: [LocationSuggestionType!]\\n          $maxResults: Int\\n        ) {\\n          suggestLocations(\\n            prefixText: $input,\\n            locationTypes: $locationTypes,\\n            maxResults: $maxResults,\\n            exactMatchesToTop: true) {\\n            __typename\\n            ... on SuburbSuggestion {\\n              label: displayName\\n              value: nameSlug\\n            }\\n            ... on AreaSuggestion {\\n              label: displayName\\n              value: nameSlug\\n            }\\n            ... on RegionSuggestion {\\n              label: displayName\\n              value: nameSlug\\n            }\\n            ... on SchoolSuggestion {\\n              label: displayName\\n              value: nameSlug\\n            }\\n          }\\n         }\\n       ',\n",
        "    }\n",
        "\n",
        "    response = requests.post('https://www.domain.com.au/graphql', headers=headers, json=json_data)\n",
        "\n",
        "    if response.status_code == 200:\n",
        "        data = response.json()\n",
        "        length_of_data= len(data['data']['suggestLocations'])\n",
        "        for i in range(length_of_data):\n",
        "          value = data['data']['suggestLocations'][i]['value']\n",
        "          unique_names.add(value)\n",
        "  except:   \n",
        "    None     \n"
      ],
      "metadata": {
        "id": "762kFy3O3jff"
      },
      "execution_count": 20,
      "outputs": []
    },
    {
      "cell_type": "markdown",
      "source": [
        "* trying to collect the sugestions we have collected 15879 suburbs instard of 15303"
      ],
      "metadata": {
        "id": "3sDIFf5rjIz-"
      }
    },
    {
      "cell_type": "code",
      "source": [
        "print(len(unique_names))"
      ],
      "metadata": {
        "colab": {
          "base_uri": "https://localhost:8080/"
        },
        "id": "tSlCIRxYFFQ6",
        "outputId": "e6eed04c-9c78-4537-9d9b-b9e310302eb7"
      },
      "execution_count": 23,
      "outputs": [
        {
          "output_type": "stream",
          "name": "stdout",
          "text": [
            "15879\n"
          ]
        }
      ]
    },
    {
      "cell_type": "code",
      "source": [
        "df = pd.DataFrame(unique_names)\n",
        "df.to_csv('urls.csv') "
      ],
      "metadata": {
        "id": "6akd9-8VfxNN"
      },
      "execution_count": 22,
      "outputs": []
    },
    {
      "cell_type": "markdown",
      "source": [
        "# merging the collected data."
      ],
      "metadata": {
        "id": "u3RRUYyNE9tP"
      }
    },
    {
      "cell_type": "code",
      "source": [
        "gdown.download(id = '13dZkmjLyJLe4qETi_Ue9T1GF_n1yAhOD')\n",
        "gdown.download(id = '18-0ag4Xgje-NR7UoesAO_5A-K4EHnr3K')\n",
        "gdown.download(id = '1wkVMZ6WNPM_eO448CSbIS0rfFf2wODv9')\n",
        "gdown.download(id = '14qMXskFjQmYRpxOT3MkI0TV4PbaCTg87')\n",
        "gdown.download(id = '1VZAZ41a4QhFWkAL1uW84_FCllQ8PjrPd')"
      ],
      "metadata": {
        "colab": {
          "base_uri": "https://localhost:8080/",
          "height": 382
        },
        "id": "7UkxZy2o5vc5",
        "outputId": "c403e6b0-32db-41fb-9121-75f30d825193"
      },
      "execution_count": 2,
      "outputs": [
        {
          "output_type": "stream",
          "name": "stderr",
          "text": [
            "Downloading...\n",
            "From: https://drive.google.com/uc?id=13dZkmjLyJLe4qETi_Ue9T1GF_n1yAhOD\n",
            "To: /content/df_urbdat1.csv\n",
            "100%|██████████| 114k/114k [00:00<00:00, 3.64MB/s]\n",
            "Downloading...\n",
            "From: https://drive.google.com/uc?id=18-0ag4Xgje-NR7UoesAO_5A-K4EHnr3K\n",
            "To: /content/df_urbdat2.csv\n",
            "100%|██████████| 111k/111k [00:00<00:00, 2.26MB/s]\n",
            "Downloading...\n",
            "From: https://drive.google.com/uc?id=1wkVMZ6WNPM_eO448CSbIS0rfFf2wODv9\n",
            "To: /content/df_urbdat3.csv\n",
            "100%|██████████| 119k/119k [00:00<00:00, 2.15MB/s]\n",
            "Downloading...\n",
            "From: https://drive.google.com/uc?id=14qMXskFjQmYRpxOT3MkI0TV4PbaCTg87\n",
            "To: /content/df_urbdat5.csv\n",
            "100%|██████████| 116k/116k [00:00<00:00, 2.36MB/s]\n",
            "Downloading...\n",
            "From: https://drive.google.com/uc?id=1VZAZ41a4QhFWkAL1uW84_FCllQ8PjrPd\n",
            "To: /content/df_urbdat4.csv\n",
            "100%|██████████| 122k/122k [00:00<00:00, 2.36MB/s]\n"
          ]
        },
        {
          "output_type": "execute_result",
          "data": {
            "text/plain": [
              "'df_urbdat4.csv'"
            ],
            "application/vnd.google.colaboratory.intrinsic+json": {
              "type": "string"
            }
          },
          "metadata": {},
          "execution_count": 2
        }
      ]
    },
    {
      "cell_type": "code",
      "source": [
        "df1 = pd.read_csv('/content/df_urbdat1.csv')\n",
        "df2 = pd.read_csv('/content/df_urbdat2.csv')\n",
        "df3 = pd.read_csv('/content/df_urbdat3.csv')\n",
        "df4 = pd.read_csv('/content/df_urbdat4.csv')\n",
        "df5 = pd.read_csv('/content/df_urbdat5.csv')"
      ],
      "metadata": {
        "id": "yeXTUPqgFlkH"
      },
      "execution_count": 3,
      "outputs": []
    },
    {
      "cell_type": "code",
      "source": [
        "suburbdf = pd.DataFrame()\n",
        "suburbdf = pd.concat([suburbdf,df1],ignore_index =True)\n",
        "suburbdf = pd.concat([suburbdf,df2],ignore_index =True)\n",
        "suburbdf = pd.concat([suburbdf,df3],ignore_index =True)\n",
        "suburbdf = pd.concat([suburbdf,df4],ignore_index =True)\n",
        "suburbdf = pd.concat([suburbdf,df5],ignore_index =True)\n",
        "suburbdf "
      ],
      "metadata": {
        "colab": {
          "base_uri": "https://localhost:8080/",
          "height": 424
        },
        "id": "RPb8K6yXIvmu",
        "outputId": "2e92bc8c-0727-4a89-93ea-2382f8d96ba6"
      },
      "execution_count": 4,
      "outputs": [
        {
          "output_type": "execute_result",
          "data": {
            "text/plain": [
              "      Bedrooms   Type Median Price Avg Days on Market Clearance Rate  \\\n",
              "0            3  House            -                  -              -   \n",
              "1            2  House            -                  -              -   \n",
              "2            3  House      $1.208m                  -            64%   \n",
              "3            4  House      $1.513m                  -            62%   \n",
              "4            5  House       $1.85m                  -            62%   \n",
              "...        ...    ...          ...                ...            ...   \n",
              "8325         5  House            -                  -              -   \n",
              "8326         2  House            -                  -              -   \n",
              "8327         3  House        $795k            25 days              -   \n",
              "8328         4  House        $990k            44 days              -   \n",
              "8329         5  House      $1.135m            25 days              -   \n",
              "\n",
              "      Sold This Year POPULATION AVERAGE AGE OWNER RENTER FAMILY SINGLE  \\\n",
              "0                  1         77    40 to 59   71%    29%    56%    44%   \n",
              "1                  5      4,215    20 to 39   57%    43%    44%    56%   \n",
              "2                 16      4,215    20 to 39   57%    43%    44%    56%   \n",
              "3                 17      4,215    20 to 39   57%    43%    44%    56%   \n",
              "4                 11      4,215    20 to 39   57%    43%    44%    56%   \n",
              "...              ...        ...         ...   ...    ...    ...    ...   \n",
              "8325               1        374    40 to 59   74%    26%    55%    45%   \n",
              "8326               2      8,226    40 to 59   85%    15%    57%    43%   \n",
              "8327              31      8,226    40 to 59   85%    15%    57%    43%   \n",
              "8328              45      8,226    40 to 59   85%    15%    57%    43%   \n",
              "8329              12      8,226    40 to 59   85%    15%    57%    43%   \n",
              "\n",
              "                    SUBURB  \n",
              "0        daradgee-qld-4860  \n",
              "1     gordon-park-qld-4031  \n",
              "2     gordon-park-qld-4031  \n",
              "3     gordon-park-qld-4031  \n",
              "4     gordon-park-qld-4031  \n",
              "...                    ...  \n",
              "8325    veresdale-qld-4285  \n",
              "8326      horsley-nsw-2530  \n",
              "8327      horsley-nsw-2530  \n",
              "8328      horsley-nsw-2530  \n",
              "8329      horsley-nsw-2530  \n",
              "\n",
              "[8330 rows x 13 columns]"
            ],
            "text/html": [
              "\n",
              "  <div id=\"df-060159f1-20ad-4d74-8479-431ca2c2f8a8\">\n",
              "    <div class=\"colab-df-container\">\n",
              "      <div>\n",
              "<style scoped>\n",
              "    .dataframe tbody tr th:only-of-type {\n",
              "        vertical-align: middle;\n",
              "    }\n",
              "\n",
              "    .dataframe tbody tr th {\n",
              "        vertical-align: top;\n",
              "    }\n",
              "\n",
              "    .dataframe thead th {\n",
              "        text-align: right;\n",
              "    }\n",
              "</style>\n",
              "<table border=\"1\" class=\"dataframe\">\n",
              "  <thead>\n",
              "    <tr style=\"text-align: right;\">\n",
              "      <th></th>\n",
              "      <th>Bedrooms</th>\n",
              "      <th>Type</th>\n",
              "      <th>Median Price</th>\n",
              "      <th>Avg Days on Market</th>\n",
              "      <th>Clearance Rate</th>\n",
              "      <th>Sold This Year</th>\n",
              "      <th>POPULATION</th>\n",
              "      <th>AVERAGE AGE</th>\n",
              "      <th>OWNER</th>\n",
              "      <th>RENTER</th>\n",
              "      <th>FAMILY</th>\n",
              "      <th>SINGLE</th>\n",
              "      <th>SUBURB</th>\n",
              "    </tr>\n",
              "  </thead>\n",
              "  <tbody>\n",
              "    <tr>\n",
              "      <th>0</th>\n",
              "      <td>3</td>\n",
              "      <td>House</td>\n",
              "      <td>-</td>\n",
              "      <td>-</td>\n",
              "      <td>-</td>\n",
              "      <td>1</td>\n",
              "      <td>77</td>\n",
              "      <td>40 to 59</td>\n",
              "      <td>71%</td>\n",
              "      <td>29%</td>\n",
              "      <td>56%</td>\n",
              "      <td>44%</td>\n",
              "      <td>daradgee-qld-4860</td>\n",
              "    </tr>\n",
              "    <tr>\n",
              "      <th>1</th>\n",
              "      <td>2</td>\n",
              "      <td>House</td>\n",
              "      <td>-</td>\n",
              "      <td>-</td>\n",
              "      <td>-</td>\n",
              "      <td>5</td>\n",
              "      <td>4,215</td>\n",
              "      <td>20 to 39</td>\n",
              "      <td>57%</td>\n",
              "      <td>43%</td>\n",
              "      <td>44%</td>\n",
              "      <td>56%</td>\n",
              "      <td>gordon-park-qld-4031</td>\n",
              "    </tr>\n",
              "    <tr>\n",
              "      <th>2</th>\n",
              "      <td>3</td>\n",
              "      <td>House</td>\n",
              "      <td>$1.208m</td>\n",
              "      <td>-</td>\n",
              "      <td>64%</td>\n",
              "      <td>16</td>\n",
              "      <td>4,215</td>\n",
              "      <td>20 to 39</td>\n",
              "      <td>57%</td>\n",
              "      <td>43%</td>\n",
              "      <td>44%</td>\n",
              "      <td>56%</td>\n",
              "      <td>gordon-park-qld-4031</td>\n",
              "    </tr>\n",
              "    <tr>\n",
              "      <th>3</th>\n",
              "      <td>4</td>\n",
              "      <td>House</td>\n",
              "      <td>$1.513m</td>\n",
              "      <td>-</td>\n",
              "      <td>62%</td>\n",
              "      <td>17</td>\n",
              "      <td>4,215</td>\n",
              "      <td>20 to 39</td>\n",
              "      <td>57%</td>\n",
              "      <td>43%</td>\n",
              "      <td>44%</td>\n",
              "      <td>56%</td>\n",
              "      <td>gordon-park-qld-4031</td>\n",
              "    </tr>\n",
              "    <tr>\n",
              "      <th>4</th>\n",
              "      <td>5</td>\n",
              "      <td>House</td>\n",
              "      <td>$1.85m</td>\n",
              "      <td>-</td>\n",
              "      <td>62%</td>\n",
              "      <td>11</td>\n",
              "      <td>4,215</td>\n",
              "      <td>20 to 39</td>\n",
              "      <td>57%</td>\n",
              "      <td>43%</td>\n",
              "      <td>44%</td>\n",
              "      <td>56%</td>\n",
              "      <td>gordon-park-qld-4031</td>\n",
              "    </tr>\n",
              "    <tr>\n",
              "      <th>...</th>\n",
              "      <td>...</td>\n",
              "      <td>...</td>\n",
              "      <td>...</td>\n",
              "      <td>...</td>\n",
              "      <td>...</td>\n",
              "      <td>...</td>\n",
              "      <td>...</td>\n",
              "      <td>...</td>\n",
              "      <td>...</td>\n",
              "      <td>...</td>\n",
              "      <td>...</td>\n",
              "      <td>...</td>\n",
              "      <td>...</td>\n",
              "    </tr>\n",
              "    <tr>\n",
              "      <th>8325</th>\n",
              "      <td>5</td>\n",
              "      <td>House</td>\n",
              "      <td>-</td>\n",
              "      <td>-</td>\n",
              "      <td>-</td>\n",
              "      <td>1</td>\n",
              "      <td>374</td>\n",
              "      <td>40 to 59</td>\n",
              "      <td>74%</td>\n",
              "      <td>26%</td>\n",
              "      <td>55%</td>\n",
              "      <td>45%</td>\n",
              "      <td>veresdale-qld-4285</td>\n",
              "    </tr>\n",
              "    <tr>\n",
              "      <th>8326</th>\n",
              "      <td>2</td>\n",
              "      <td>House</td>\n",
              "      <td>-</td>\n",
              "      <td>-</td>\n",
              "      <td>-</td>\n",
              "      <td>2</td>\n",
              "      <td>8,226</td>\n",
              "      <td>40 to 59</td>\n",
              "      <td>85%</td>\n",
              "      <td>15%</td>\n",
              "      <td>57%</td>\n",
              "      <td>43%</td>\n",
              "      <td>horsley-nsw-2530</td>\n",
              "    </tr>\n",
              "    <tr>\n",
              "      <th>8327</th>\n",
              "      <td>3</td>\n",
              "      <td>House</td>\n",
              "      <td>$795k</td>\n",
              "      <td>25 days</td>\n",
              "      <td>-</td>\n",
              "      <td>31</td>\n",
              "      <td>8,226</td>\n",
              "      <td>40 to 59</td>\n",
              "      <td>85%</td>\n",
              "      <td>15%</td>\n",
              "      <td>57%</td>\n",
              "      <td>43%</td>\n",
              "      <td>horsley-nsw-2530</td>\n",
              "    </tr>\n",
              "    <tr>\n",
              "      <th>8328</th>\n",
              "      <td>4</td>\n",
              "      <td>House</td>\n",
              "      <td>$990k</td>\n",
              "      <td>44 days</td>\n",
              "      <td>-</td>\n",
              "      <td>45</td>\n",
              "      <td>8,226</td>\n",
              "      <td>40 to 59</td>\n",
              "      <td>85%</td>\n",
              "      <td>15%</td>\n",
              "      <td>57%</td>\n",
              "      <td>43%</td>\n",
              "      <td>horsley-nsw-2530</td>\n",
              "    </tr>\n",
              "    <tr>\n",
              "      <th>8329</th>\n",
              "      <td>5</td>\n",
              "      <td>House</td>\n",
              "      <td>$1.135m</td>\n",
              "      <td>25 days</td>\n",
              "      <td>-</td>\n",
              "      <td>12</td>\n",
              "      <td>8,226</td>\n",
              "      <td>40 to 59</td>\n",
              "      <td>85%</td>\n",
              "      <td>15%</td>\n",
              "      <td>57%</td>\n",
              "      <td>43%</td>\n",
              "      <td>horsley-nsw-2530</td>\n",
              "    </tr>\n",
              "  </tbody>\n",
              "</table>\n",
              "<p>8330 rows × 13 columns</p>\n",
              "</div>\n",
              "      <button class=\"colab-df-convert\" onclick=\"convertToInteractive('df-060159f1-20ad-4d74-8479-431ca2c2f8a8')\"\n",
              "              title=\"Convert this dataframe to an interactive table.\"\n",
              "              style=\"display:none;\">\n",
              "        \n",
              "  <svg xmlns=\"http://www.w3.org/2000/svg\" height=\"24px\"viewBox=\"0 0 24 24\"\n",
              "       width=\"24px\">\n",
              "    <path d=\"M0 0h24v24H0V0z\" fill=\"none\"/>\n",
              "    <path d=\"M18.56 5.44l.94 2.06.94-2.06 2.06-.94-2.06-.94-.94-2.06-.94 2.06-2.06.94zm-11 1L8.5 8.5l.94-2.06 2.06-.94-2.06-.94L8.5 2.5l-.94 2.06-2.06.94zm10 10l.94 2.06.94-2.06 2.06-.94-2.06-.94-.94-2.06-.94 2.06-2.06.94z\"/><path d=\"M17.41 7.96l-1.37-1.37c-.4-.4-.92-.59-1.43-.59-.52 0-1.04.2-1.43.59L10.3 9.45l-7.72 7.72c-.78.78-.78 2.05 0 2.83L4 21.41c.39.39.9.59 1.41.59.51 0 1.02-.2 1.41-.59l7.78-7.78 2.81-2.81c.8-.78.8-2.07 0-2.86zM5.41 20L4 18.59l7.72-7.72 1.47 1.35L5.41 20z\"/>\n",
              "  </svg>\n",
              "      </button>\n",
              "      \n",
              "  <style>\n",
              "    .colab-df-container {\n",
              "      display:flex;\n",
              "      flex-wrap:wrap;\n",
              "      gap: 12px;\n",
              "    }\n",
              "\n",
              "    .colab-df-convert {\n",
              "      background-color: #E8F0FE;\n",
              "      border: none;\n",
              "      border-radius: 50%;\n",
              "      cursor: pointer;\n",
              "      display: none;\n",
              "      fill: #1967D2;\n",
              "      height: 32px;\n",
              "      padding: 0 0 0 0;\n",
              "      width: 32px;\n",
              "    }\n",
              "\n",
              "    .colab-df-convert:hover {\n",
              "      background-color: #E2EBFA;\n",
              "      box-shadow: 0px 1px 2px rgba(60, 64, 67, 0.3), 0px 1px 3px 1px rgba(60, 64, 67, 0.15);\n",
              "      fill: #174EA6;\n",
              "    }\n",
              "\n",
              "    [theme=dark] .colab-df-convert {\n",
              "      background-color: #3B4455;\n",
              "      fill: #D2E3FC;\n",
              "    }\n",
              "\n",
              "    [theme=dark] .colab-df-convert:hover {\n",
              "      background-color: #434B5C;\n",
              "      box-shadow: 0px 1px 3px 1px rgba(0, 0, 0, 0.15);\n",
              "      filter: drop-shadow(0px 1px 2px rgba(0, 0, 0, 0.3));\n",
              "      fill: #FFFFFF;\n",
              "    }\n",
              "  </style>\n",
              "\n",
              "      <script>\n",
              "        const buttonEl =\n",
              "          document.querySelector('#df-060159f1-20ad-4d74-8479-431ca2c2f8a8 button.colab-df-convert');\n",
              "        buttonEl.style.display =\n",
              "          google.colab.kernel.accessAllowed ? 'block' : 'none';\n",
              "\n",
              "        async function convertToInteractive(key) {\n",
              "          const element = document.querySelector('#df-060159f1-20ad-4d74-8479-431ca2c2f8a8');\n",
              "          const dataTable =\n",
              "            await google.colab.kernel.invokeFunction('convertToInteractive',\n",
              "                                                     [key], {});\n",
              "          if (!dataTable) return;\n",
              "\n",
              "          const docLinkHtml = 'Like what you see? Visit the ' +\n",
              "            '<a target=\"_blank\" href=https://colab.research.google.com/notebooks/data_table.ipynb>data table notebook</a>'\n",
              "            + ' to learn more about interactive tables.';\n",
              "          element.innerHTML = '';\n",
              "          dataTable['output_type'] = 'display_data';\n",
              "          await google.colab.output.renderOutput(dataTable, element);\n",
              "          const docLink = document.createElement('div');\n",
              "          docLink.innerHTML = docLinkHtml;\n",
              "          element.appendChild(docLink);\n",
              "        }\n",
              "      </script>\n",
              "    </div>\n",
              "  </div>\n",
              "  "
            ]
          },
          "metadata": {},
          "execution_count": 4
        }
      ]
    },
    {
      "cell_type": "code",
      "source": [
        "suburbdf['Date'] = '13/6/2023'"
      ],
      "metadata": {
        "id": "DDjPrghxJm5M"
      },
      "execution_count": 5,
      "outputs": []
    },
    {
      "cell_type": "markdown",
      "source": [
        "Remember to upload Data_extracted in gdrive.\n",
        "and also count the missing data."
      ],
      "metadata": {
        "id": "mrLofdvgvZC5"
      }
    },
    {
      "cell_type": "code",
      "source": [
        "#suburbdf.to_csv('data_extracted.csv', index=False)"
      ],
      "metadata": {
        "id": "_maXvJGUL7Gz"
      },
      "execution_count": null,
      "outputs": []
    },
    {
      "cell_type": "code",
      "source": [
        "len(suburbdf['SUBURB'].unique())"
      ],
      "metadata": {
        "colab": {
          "base_uri": "https://localhost:8080/"
        },
        "id": "aifDJPynK5qE",
        "outputId": "65d70d49-3b18-4e37-c381-688f1299f560"
      },
      "execution_count": 6,
      "outputs": [
        {
          "output_type": "execute_result",
          "data": {
            "text/plain": [
              "2066"
            ]
          },
          "metadata": {},
          "execution_count": 6
        }
      ]
    },
    {
      "cell_type": "code",
      "source": [
        "gdown.download(id = '1dQonVWbqhlyBFC5P7z2P2EOt_lHoBilB')\n",
        "data_extracted = pd.read_csv('/content/data_extracted.csv')\n",
        "data_extracted = pd.concat([data_extracted,suburbdf],ignore_index =True)"
      ],
      "metadata": {
        "colab": {
          "base_uri": "https://localhost:8080/"
        },
        "id": "t06MRJJiLd61",
        "outputId": "8614cd37-c132-4ec9-db62-041dc8366e73"
      },
      "execution_count": 7,
      "outputs": [
        {
          "output_type": "stream",
          "name": "stderr",
          "text": [
            "Downloading...\n",
            "From: https://drive.google.com/uc?id=1dQonVWbqhlyBFC5P7z2P2EOt_lHoBilB\n",
            "To: /content/data_extracted.csv\n",
            "100%|██████████| 1.34M/1.34M [00:00<00:00, 10.5MB/s]\n"
          ]
        }
      ]
    },
    {
      "cell_type": "code",
      "source": [
        "data_extracted.to_csv('data_extracted.csv', index=False)"
      ],
      "metadata": {
        "id": "SgAbn2Q_M6t9"
      },
      "execution_count": 8,
      "outputs": []
    }
  ]
}