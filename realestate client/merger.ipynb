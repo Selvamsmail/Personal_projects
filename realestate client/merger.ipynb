{
  "nbformat": 4,
  "nbformat_minor": 0,
  "metadata": {
    "colab": {
      "provenance": []
    },
    "kernelspec": {
      "name": "python3",
      "display_name": "Python 3"
    },
    "language_info": {
      "name": "python"
    }
  },
  "cells": [
    {
      "cell_type": "code",
      "source": [
        "import os\n",
        "from bs4 import BeautifulSoup\n",
        "import numpy as np\n",
        "import pandas as pd\n",
        "import regex as re\n",
        "import requests\n",
        "import json\n",
        "import gdown\n",
        "import sys\n",
        "from tqdm import tqdm\n",
        "import time\n",
        "import pytz\n",
        "import datetime\n",
        "import logging\n",
        "from tqdm import tqdm\n",
        "import traceback\n",
        "\n",
        "# pd.set_option('display.max_rows', None)\n",
        "# pd.set_option('mode.chained_assignment',None)"
      ],
      "metadata": {
        "id": "6iSLPJu2il1V"
      },
      "execution_count": 66,
      "outputs": []
    },
    {
      "cell_type": "markdown",
      "source": [
        "* The website had only sugestions to pull data from.\n",
        "* so we have a sugestion genrator with 3 charecters.\n",
        "* its total combinations lengeth were 17576"
      ],
      "metadata": {
        "id": "Iy731xe5igQe"
      }
    },
    {
      "cell_type": "code",
      "source": [
        "from itertools import product\n",
        "from string import ascii_lowercase\n",
        "keywords = tuple(map(''.join, product(ascii_lowercase, repeat=3)))\n",
        "print(len(keywords))"
      ],
      "metadata": {
        "colab": {
          "base_uri": "https://localhost:8080/"
        },
        "id": "lfa12iJhn5Dr",
        "outputId": "c5565146-a5a6-4f0a-83fa-e84c695d656c"
      },
      "execution_count": null,
      "outputs": [
        {
          "output_type": "stream",
          "name": "stdout",
          "text": [
            "17576\n"
          ]
        }
      ]
    },
    {
      "cell_type": "markdown",
      "source": [
        "## homely concatination extraction"
      ],
      "metadata": {
        "id": "YnwbCH_Mb8NZ"
      }
    },
    {
      "cell_type": "code",
      "source": [
        "def get_responce(param):\n",
        "  headers = {\n",
        "    'authority': 'api.homely.com.au',\n",
        "    'accept': 'application/vnd.homely.api.v1+json',\n",
        "    'accept-language': 'en-US,en',\n",
        "    # 'cookie': 'FPID=FPID2.3.N%2FEbtITAbMmiXHSpN5dKqwUEGhXZUTd9QALfEHV8ros%3D.1686141859; FPAU=1.3.560087484.1686141858; _fbp=fb.2.1686141926936.1348119019; _ga=GA1.1.2138275943.1686912998; FPLC=uCFc%2BJsc0DG9l3vpG5hv%2B2FiAFSD0pWQDuYfZjyN0vOwAfYd2orzlaVmNuOGy%2B9WUra2aBSVX%2FKlJwSkhdxChnEJbezw1P6u8ce5193ut2zs9Fr21HBRFbgdB%2BZT8g%3D%3D; __cf_bm=1sJS90D7RCmysHXFpTmf8xFz2LRVFZNktF.1VSsuXhI-1687146919-0-AVgBtAHjyNJWB0uerkBvE+PdZ4jLeqUhHyM9HwOsytbqyLy0/ul9JF6+W3SLZvvKug==; _ga_4NDBXXNS0N=GS1.1.1687146917.4.1.1687148033.0.0.0',\n",
        "    'origin': 'https://www.homely.com.au',\n",
        "    'referer': 'https://www.homely.com.au/',\n",
        "    'sec-ch-ua': '\"Not.A/Brand\";v=\"8\", \"Chromium\";v=\"114\", \"Brave\";v=\"114\"',\n",
        "    'sec-ch-ua-mobile': '?0',\n",
        "    'sec-ch-ua-platform': '\"Windows\"',\n",
        "    'sec-fetch-dest': 'empty',\n",
        "    'sec-fetch-mode': 'cors',\n",
        "    'sec-fetch-site': 'same-site',\n",
        "    'sec-gpc': '1',\n",
        "    'user-agent': 'Mozilla/5.0 (Windows NT 10.0; Win64; x64) AppleWebKit/537.36 (KHTML, like Gecko) Chrome/114.0.0.0 Safari/537.36',\n",
        "    'x-request-client': 'Desktop Web',\n",
        "    'x-request-epoch': '1687148178',\n",
        "  }\n",
        "\n",
        "  params = {\n",
        "    'q': param,\n",
        "  }\n",
        "\n",
        "  response = requests.get('https://api.homely.com.au/search/locations', params=params, headers=headers)\n",
        "  return response\n",
        "\n",
        "resp = get_responce('par')\n",
        "if resp.status_code == 200:\n",
        "  data = resp.json()"
      ],
      "metadata": {
        "id": "m0-X3qlrvoE-"
      },
      "execution_count": null,
      "outputs": []
    },
    {
      "cell_type": "code",
      "source": [
        "def get_responce(param):\n",
        "  headers = {\n",
        "    'authority': 'api.homely.com.au',\n",
        "    'accept': 'application/vnd.homely.api.v1+json',\n",
        "    'accept-language': 'en-US,en',\n",
        "    # 'cookie': 'FPID=FPID2.3.N%2FEbtITAbMmiXHSpN5dKqwUEGhXZUTd9QALfEHV8ros%3D.1686141859; FPAU=1.3.560087484.1686141858; _fbp=fb.2.1686141926936.1348119019; _ga=GA1.1.2138275943.1686912998; FPLC=uCFc%2BJsc0DG9l3vpG5hv%2B2FiAFSD0pWQDuYfZjyN0vOwAfYd2orzlaVmNuOGy%2B9WUra2aBSVX%2FKlJwSkhdxChnEJbezw1P6u8ce5193ut2zs9Fr21HBRFbgdB%2BZT8g%3D%3D; __cf_bm=1sJS90D7RCmysHXFpTmf8xFz2LRVFZNktF.1VSsuXhI-1687146919-0-AVgBtAHjyNJWB0uerkBvE+PdZ4jLeqUhHyM9HwOsytbqyLy0/ul9JF6+W3SLZvvKug==; _ga_4NDBXXNS0N=GS1.1.1687146917.4.1.1687148033.0.0.0',\n",
        "    'origin': 'https://www.homely.com.au',\n",
        "    'referer': 'https://www.homely.com.au/',\n",
        "    'sec-ch-ua': '\"Not.A/Brand\";v=\"8\", \"Chromium\";v=\"114\", \"Brave\";v=\"114\"',\n",
        "    'sec-ch-ua-mobile': '?0',\n",
        "    'sec-ch-ua-platform': '\"Windows\"',\n",
        "    'sec-fetch-dest': 'empty',\n",
        "    'sec-fetch-mode': 'cors',\n",
        "    'sec-fetch-site': 'same-site',\n",
        "    'sec-gpc': '1',\n",
        "    'user-agent': 'Mozilla/5.0 (Windows NT 10.0; Win64; x64) AppleWebKit/537.36 (KHTML, like Gecko) Chrome/114.0.0.0 Safari/537.36',\n",
        "    'x-request-client': 'Desktop Web',\n",
        "    'x-request-epoch': '1687148178',\n",
        "  }\n",
        "\n",
        "  params = {\n",
        "    'q': param,\n",
        "  }\n",
        "\n",
        "  response = requests.get('https://api.homely.com.au/search/locations', params=params, headers=headers)\n",
        "\n",
        "  return response\n",
        "\n",
        "unique_homely_names=set()\n",
        "pbar = tqdm(total=17576, desc=\"Processing\", unit=\"entry\")\n",
        "\n",
        "for keyword in keywords:\n",
        "  pbar.update(1)\n",
        "  resp = get_responce(keyword)\n",
        "  if resp.status_code == 200:\n",
        "    data = resp.json()\n",
        "    length_of_data = len(data['locations'])\n",
        "    for i in range(length_of_data):\n",
        "      unique_homely_names.add(data['locations'][i]['slug'])\n"
      ],
      "metadata": {
        "colab": {
          "base_uri": "https://localhost:8080/"
        },
        "id": "M6OPwJXN2UFl",
        "outputId": "2343f895-5b7a-41fb-f22f-e6ddda25d377"
      },
      "execution_count": null,
      "outputs": [
        {
          "output_type": "stream",
          "name": "stderr",
          "text": [
            "Processing: 100%|██████████| 17576/17576 [4:41:00<00:00,  1.09entry/s]"
          ]
        }
      ]
    },
    {
      "cell_type": "code",
      "source": [
        "print(len(unique_homely_names))"
      ],
      "metadata": {
        "colab": {
          "base_uri": "https://localhost:8080/"
        },
        "id": "QvDg-MbT9e1S",
        "outputId": "f224191d-12e0-4312-8de2-5eab3a6a6eeb"
      },
      "execution_count": null,
      "outputs": [
        {
          "output_type": "stream",
          "name": "stdout",
          "text": [
            "7601\n"
          ]
        }
      ]
    },
    {
      "cell_type": "code",
      "source": [
        "df = pd.DataFrame(unique_homely_names)\n",
        "df.to_csv('suburbs_homely.csv')"
      ],
      "metadata": {
        "id": "cr1LPOsc9nCq"
      },
      "execution_count": null,
      "outputs": []
    },
    {
      "cell_type": "markdown",
      "source": [
        "# Domine Header and Request"
      ],
      "metadata": {
        "id": "7d1ZA4js1qA-"
      }
    },
    {
      "cell_type": "code",
      "source": [
        "headers = {\n",
        "    'authority': 'www.domain.com.au',\n",
        "    'accept': '*/*',\n",
        "    'accept-language': 'en-US,en;q=0.9',\n",
        "    'content-type': 'application/json',\n",
        "    # 'cookie': 'domain-mixpanel-id_ab0bde70050c3eabaaf8824402fa01e0=$device:188995b514457e-03d062656d4fe5-26031d51-e0985-188995b5145100b; DEVICE_SESSIONID=a023599d-f7d9-46eb-b321-f121e875624e; searchSOI=nsw; bm_sz=E5C3168193AD41FE541960D95436255D~YAAQX+hUuDpcuJaIAQAA3jpJrhTax8oHVn/x4xpTKyn+pZ3tBypaiFN+fhR/FkbUiUtsbtuptrKHlrQVtLONesMfl+u22kTH6Oe8fVzvoXh0i9/cktskT2ksu8Pl/sK2ke2twQKuLm7o72/j1Zlmj/NztVuvVJHbLx2PWFbJJSVaJroFVp94sNdqGqmQI4m79RXMWA2cJHdE/EMHzxxRm3eeZ0wK365YXrDIM1MggRFMgn8svljDLLWJWCpLyPWBw7cbNNfG4viqhJZSnPCtngE5yd2wCks5OL3m4UX0p2YiWKhVvjefSvZJSq/wRTYWAiQwvgnyyp5HNofRq20=~3421252~4473143; bm_mi=D952F10DCA95880574A8BC722F2EB220~YAAQX+hUuCPXuJaIAQAA0bBarhSxMOjumckKnKAlJGqyac9HJv7nNQQY018qrEOD6li5mlKJJdlDNNnQMNimYXRtxDPmKz5LEZvmj16ofM4zzp1LEoVU9F6EYvK6d4Ip0JJi5ZveAW787x1wVwMpepTQdUBDRpiPzNBKDnV0+8dI12TDQIIgIetF7fMeiQoqfEon4lKfpkhnH1TxQtk4qj2a/LWB2L3d4lue7GxH6gjdtlP2fM1aZcux9RSVPu1DVT/kxVCwUYnQ/rqfYsszfYcWGD+MbOI6nSKiHeuMXKb70P8IDPt9MNraiAvYW9bte2h28jNHksjvzb1xXKvr~1; ak_bmsc=1DE2C239D9A96F1142226B5FA5500183~000000000000000000000000000000~YAAQX+hUuBnYuJaIAQAAcNxarhTQh3sbnvdeNNlrfoGWlFkM3eHfk14mHOm1PZyIU0gmYFxPO9/qdHza1NrXcHuNpWrNwVvbg1dISowLTtF7HsRvUEX7jU+wau+gQjX6thKlHYUF3K50ITyCdJE8dscqRM5NoYZj7uO0M/LIZpD6beritGyU896dEKD/2dPy/o7CGykFe56byEq8XJv3tFoJyQb1fIW8twUkzznRLOKajOXSd/klW/N6rLuvXGJjoFFfWEvBgi4VI4eMtUuGMiQZRQohNzTQ8RbVyI6r+VvPpSIlTqirB6rVBlk2MpvrWdIG6luUwoGnR2ddw6TIAvxcRK2tt3aNdHT84ggGEOn6A+UM+KndYFpWCTHs20VPTUkN2e44Zx5xqTS3zSGMbqvfWarNWtaOtm40CUxLtNdfXgqWJCEytUPJPM0/; bm_sv=A248E62E876DC5FACA1C1B94D0727478~YAAQX+hUuIa9uZaIAQAARvZ7rhQmRelJL4ghZ5opdMFxpF0zmhQLqwSZ2hKhHDu+nS4kBVQLt+JtTF4BO2IMCRWdw76Zsbhp6siOtsux3Rx/s71QUW1TztDbZE/4UyxlV02YXRDKxI2QwV8vQOa9FdGp43thdH3hsqngJNLgI4qBF7/whqCTKRIM23c7wzHh6FMDDWanOVq+Olkac3fGqtE0bH3uK9OxwL5iw7WT6qIbRb9vtC1odx86FasDcBAT5Inf8w==~1; _abck=1DD95BDDF3FCA5D055B5FB003FEBDFF4~0~YAAQX+hUuGW+uZaIAQAAPv97rgokC/jffin+CGwE6ip6uInGb+3nw3Eibix6Nd7g4m/9XzeDvpAJRj3jl30Hp2K6KBS9nLDQrwOx0+O1uxtdrvEu0LRI+e/paHjKnl/Rtmqh2JpWCqTtljFKgjFFr7mVhgDxcSwvuIJZ6YsSOZ05ofNiw9yfkHF0JcAIYYUSNTqgD/GG/RKkcW7xrE1LAxJutk06NJNXOo0WfGpnI+c3Kx6P5YU7nBvve+hi7aeCAwBJY5TSOypVZtDAdCrbUmbzYQjeJcL/DAr6VEGFeL8DOee3iIhi/X7wGnk/gl9cJsOrEQfx54sYX5JlPBMef7GBkKsS/xTbR5HAXHi+hj/OdKa+cwfslumdx7yqTtYKdtqb6jtWQWqQBtQE~-1~-1~1686552014',\n",
        "    'origin': 'https://www.domain.com.au',\n",
        "    'referer': 'https://www.domain.com.au/suburb-profile/',\n",
        "    'sec-ch-ua': '\"Not.A/Brand\";v=\"8\", \"Chromium\";v=\"114\", \"Brave\";v=\"114\"',\n",
        "    'sec-ch-ua-mobile': '?0',\n",
        "    'sec-ch-ua-platform': '\"Windows\"',\n",
        "    'sec-fetch-dest': 'empty',\n",
        "    'sec-fetch-mode': 'cors',\n",
        "    'sec-fetch-site': 'same-origin',\n",
        "    'sec-gpc': '1',\n",
        "    'user-agent': 'Mozilla/5.0 (Windows NT 10.0; Win64; x64) AppleWebKit/537.36 (KHTML, like Gecko) Chrome/114.0.0.0 Safari/537.36',\n",
        "}"
      ],
      "metadata": {
        "id": "G7MP9ohu4Tq3"
      },
      "execution_count": null,
      "outputs": []
    },
    {
      "cell_type": "code",
      "source": [
        "# def extract_first_name(name):\n",
        "#     # Remove special characters using regex\n",
        "#     cleaned_name = re.sub('[^a-zA-Z ]', '', name)\n",
        "#     # Extract the first name\n",
        "#     first_name = cleaned_name.split()[0]\n",
        "#     return first_name\n",
        "\n",
        "# def extract_first_names(names):\n",
        "#     # Split the names by comma\n",
        "#     name_list = names.split(',')\n",
        "#     # Extract the first name from each name\n",
        "#     first_names = [extract_first_name(name) for name in name_list]\n",
        "#     return first_names"
      ],
      "metadata": {
        "id": "P9xuCsVmLoeW"
      },
      "execution_count": null,
      "outputs": []
    },
    {
      "cell_type": "code",
      "source": [
        "unique_names = set()\n",
        "for sub_urb in keywords:\n",
        "\n",
        "  try:\n",
        "    json_data = {\n",
        "        'variables': {\n",
        "            'input': sub_urb[0],\n",
        "            'maxResults': 2000,\n",
        "            'locationTypes': [\n",
        "                'SUBURB',\n",
        "            ],\n",
        "        },\n",
        "        'query': '\\n        query SuggestLocations(\\n          $input: String!\\n          $locationTypes: [LocationSuggestionType!]\\n          $maxResults: Int\\n        ) {\\n          suggestLocations(\\n            prefixText: $input,\\n            locationTypes: $locationTypes,\\n            maxResults: $maxResults,\\n            exactMatchesToTop: true) {\\n            __typename\\n            ... on SuburbSuggestion {\\n              label: displayName\\n              value: nameSlug\\n            }\\n            ... on AreaSuggestion {\\n              label: displayName\\n              value: nameSlug\\n            }\\n            ... on RegionSuggestion {\\n              label: displayName\\n              value: nameSlug\\n            }\\n            ... on SchoolSuggestion {\\n              label: displayName\\n              value: nameSlug\\n            }\\n          }\\n         }\\n       ',\n",
        "    }\n",
        "\n",
        "    response = requests.post('https://www.domain.com.au/graphql', headers=headers, json=json_data)\n",
        "\n",
        "    if response.status_code == 200:\n",
        "        data = response.json()\n",
        "        length_of_data= len(data['data']['suggestLocations'])\n",
        "        for i in range(length_of_data):\n",
        "          value = data['data']['suggestLocations'][i]['value']\n",
        "          unique_names.add(value)\n",
        "  except:\n",
        "    None\n"
      ],
      "metadata": {
        "id": "762kFy3O3jff"
      },
      "execution_count": null,
      "outputs": []
    },
    {
      "cell_type": "markdown",
      "source": [
        "* trying to collect the sugestions we have collected 15879 suburbs instard of 15303"
      ],
      "metadata": {
        "id": "3sDIFf5rjIz-"
      }
    },
    {
      "cell_type": "code",
      "source": [
        "print(len(unique_names))"
      ],
      "metadata": {
        "colab": {
          "base_uri": "https://localhost:8080/"
        },
        "id": "tSlCIRxYFFQ6",
        "outputId": "e6eed04c-9c78-4537-9d9b-b9e310302eb7"
      },
      "execution_count": null,
      "outputs": [
        {
          "output_type": "stream",
          "name": "stdout",
          "text": [
            "15879\n"
          ]
        }
      ]
    },
    {
      "cell_type": "code",
      "source": [
        "df = pd.DataFrame(unique_names)\n",
        "df.to_csv('urls.csv')"
      ],
      "metadata": {
        "id": "6akd9-8VfxNN"
      },
      "execution_count": null,
      "outputs": []
    },
    {
      "cell_type": "markdown",
      "source": [
        "# merging the collected data."
      ],
      "metadata": {
        "id": "u3RRUYyNE9tP"
      }
    },
    {
      "cell_type": "code",
      "source": [
        "gdown.download_folder(id = '1oQWSvfpqa2ml8g2kduZIuxsJhVDOF5Ou')"
      ],
      "metadata": {
        "colab": {
          "base_uri": "https://localhost:8080/"
        },
        "id": "7UkxZy2o5vc5",
        "outputId": "90906c5c-dea1-47b5-c7a8-3d738af728b7"
      },
      "execution_count": null,
      "outputs": [
        {
          "output_type": "stream",
          "name": "stderr",
          "text": [
            "Retrieving folder list\n"
          ]
        },
        {
          "output_type": "stream",
          "name": "stdout",
          "text": [
            "Processing file 1cTuR4OsevtfFwHMlGqFfoWjGSR7IiJnP Temp_Domain_Extract_120230628.csv\n",
            "Processing file 1AusP0MFBV-V6OiQ1lU3xWcvaSTJhxmVZ Temp_Domain_Extract_220230628.csv\n",
            "Processing file 1Q-aFkTTzUbJiCONSM3lPwpb1-sdHdwib Temp_Domain_Extract_320230628.csv\n",
            "Processing file 1YnYZ8cC6kjI6YaWmJsvlEVI5auTHJ6id Temp_Domain_Extract_420230628.csv\n",
            "Processing file 1eDWMdCoDyeuGmilou8LEAFcPOTWr_ixq Temp_Domain_Extract_520230628.csv\n",
            "Building directory structure completed\n"
          ]
        },
        {
          "output_type": "stream",
          "name": "stderr",
          "text": [
            "Retrieving folder list completed\n",
            "Building directory structure\n",
            "Downloading...\n",
            "From: https://drive.google.com/uc?id=1cTuR4OsevtfFwHMlGqFfoWjGSR7IiJnP\n",
            "To: /content/Domain extract/Temp_Domain_Extract_120230628.csv\n",
            "100%|██████████| 211k/211k [00:00<00:00, 64.1MB/s]\n",
            "Downloading...\n",
            "From: https://drive.google.com/uc?id=1AusP0MFBV-V6OiQ1lU3xWcvaSTJhxmVZ\n",
            "To: /content/Domain extract/Temp_Domain_Extract_220230628.csv\n",
            "100%|██████████| 210k/210k [00:00<00:00, 61.3MB/s]\n",
            "Downloading...\n",
            "From: https://drive.google.com/uc?id=1Q-aFkTTzUbJiCONSM3lPwpb1-sdHdwib\n",
            "To: /content/Domain extract/Temp_Domain_Extract_320230628.csv\n",
            "100%|██████████| 197k/197k [00:00<00:00, 32.1MB/s]\n",
            "Downloading...\n",
            "From: https://drive.google.com/uc?id=1YnYZ8cC6kjI6YaWmJsvlEVI5auTHJ6id\n",
            "To: /content/Domain extract/Temp_Domain_Extract_420230628.csv\n",
            "100%|██████████| 219k/219k [00:00<00:00, 77.3MB/s]\n",
            "Downloading...\n",
            "From: https://drive.google.com/uc?id=1eDWMdCoDyeuGmilou8LEAFcPOTWr_ixq\n",
            "To: /content/Domain extract/Temp_Domain_Extract_520230628.csv\n",
            "100%|██████████| 213k/213k [00:00<00:00, 63.6MB/s]\n",
            "Download completed\n"
          ]
        },
        {
          "output_type": "execute_result",
          "data": {
            "text/plain": [
              "['/content/Domain extract/Temp_Domain_Extract_120230628.csv',\n",
              " '/content/Domain extract/Temp_Domain_Extract_220230628.csv',\n",
              " '/content/Domain extract/Temp_Domain_Extract_320230628.csv',\n",
              " '/content/Domain extract/Temp_Domain_Extract_420230628.csv',\n",
              " '/content/Domain extract/Temp_Domain_Extract_520230628.csv']"
            ]
          },
          "metadata": {},
          "execution_count": 8
        }
      ]
    },
    {
      "cell_type": "code",
      "source": [
        "df1 = pd.read_csv('/content/Domain extract/Temp_Domain_Extract_120230628.csv')\n",
        "df2 = pd.read_csv('/content/Domain extract/Temp_Domain_Extract_220230628.csv')\n",
        "df3 = pd.read_csv('/content/Domain extract/Temp_Domain_Extract_320230628.csv')\n",
        "df4 = pd.read_csv('/content/Domain extract/Temp_Domain_Extract_420230628.csv')\n",
        "df5 = pd.read_csv('/content/Domain extract/Temp_Domain_Extract_520230628.csv')"
      ],
      "metadata": {
        "id": "yeXTUPqgFlkH"
      },
      "execution_count": null,
      "outputs": []
    },
    {
      "cell_type": "code",
      "source": [
        "#suburbdf = pd.DataFrame()\n",
        "suburbdf = pd.concat([suburbdf,df1],ignore_index =True)\n",
        "suburbdf = pd.concat([suburbdf,df2],ignore_index =True)\n",
        "suburbdf = pd.concat([suburbdf,df3],ignore_index =True)\n",
        "suburbdf = pd.concat([suburbdf,df4],ignore_index =True)\n",
        "suburbdf = pd.concat([suburbdf,df5],ignore_index =True)\n",
        "suburbdf"
      ],
      "metadata": {
        "colab": {
          "base_uri": "https://localhost:8080/",
          "height": 659
        },
        "id": "RPb8K6yXIvmu",
        "outputId": "5a5afac1-74d6-494b-9356-f43905acdba8"
      },
      "execution_count": null,
      "outputs": [
        {
          "output_type": "execute_result",
          "data": {
            "text/plain": [
              "       Bedrooms   Type Median Price Avg Days on Market Clearance Rate  \\\n",
              "0             2  House            -                  -              -   \n",
              "1             3  House        $570k            54 days              -   \n",
              "2             4  House        $662k            44 days              -   \n",
              "3             5  House        $805k                  -              -   \n",
              "4             2  House        $340k           120 days              -   \n",
              "...         ...    ...          ...                ...            ...   \n",
              "30955         4  House            -                  -              -   \n",
              "30956         2  House            -                  -              -   \n",
              "30957         3  House        $795k            25 days              -   \n",
              "30958         4  House        $980k            48 days              -   \n",
              "30959         5  House      $1.135m                  -              -   \n",
              "\n",
              "       Sold This Year POPULATION AVERAGE AGE OWNER RENTER FAMILY SINGLE  \\\n",
              "0                   1      3,103    20 to 39   63%    37%    48%    52%   \n",
              "1                  18      3,103    20 to 39   63%    37%    48%    52%   \n",
              "2                  69      3,103    20 to 39   63%    37%    48%    52%   \n",
              "3                  11      3,103    20 to 39   63%    37%    48%    52%   \n",
              "4                  21      9,701         60+   68%    32%    44%    56%   \n",
              "...               ...        ...         ...   ...    ...    ...    ...   \n",
              "30955               2        121         60+   92%     8%    59%    41%   \n",
              "30956               2      8,226    40 to 59   85%    15%    57%    43%   \n",
              "30957              29      8,226    40 to 59   85%    15%    57%    43%   \n",
              "30958              48      8,226    40 to 59   85%    15%    57%    43%   \n",
              "30959              10      8,226    40 to 59   85%    15%    57%    43%   \n",
              "\n",
              "                      SUBURB                        Time_stamp  \n",
              "0      trinity-park-qld-4879  2023-06-28 02:12:28.536795+10:00  \n",
              "1      trinity-park-qld-4879  2023-06-28 02:12:28.641722+10:00  \n",
              "2      trinity-park-qld-4879  2023-06-28 02:12:28.749231+10:00  \n",
              "3      trinity-park-qld-4879  2023-06-28 02:12:28.808722+10:00  \n",
              "4          portland-vic-3305  2023-06-28 02:12:51.900861+10:00  \n",
              "...                      ...                               ...  \n",
              "30955    jalbarragup-wa-6275  2023-06-28 20:33:41.437806+10:00  \n",
              "30956       horsley-nsw-2530  2023-06-28 20:35:38.435560+10:00  \n",
              "30957       horsley-nsw-2530  2023-06-28 20:35:38.590746+10:00  \n",
              "30958       horsley-nsw-2530  2023-06-28 20:35:38.706755+10:00  \n",
              "30959       horsley-nsw-2530  2023-06-28 20:35:38.813058+10:00  \n",
              "\n",
              "[30960 rows x 14 columns]"
            ],
            "text/html": [
              "\n",
              "  <div id=\"df-70285565-8923-474f-87cd-553d7d6fa122\">\n",
              "    <div class=\"colab-df-container\">\n",
              "      <div>\n",
              "<style scoped>\n",
              "    .dataframe tbody tr th:only-of-type {\n",
              "        vertical-align: middle;\n",
              "    }\n",
              "\n",
              "    .dataframe tbody tr th {\n",
              "        vertical-align: top;\n",
              "    }\n",
              "\n",
              "    .dataframe thead th {\n",
              "        text-align: right;\n",
              "    }\n",
              "</style>\n",
              "<table border=\"1\" class=\"dataframe\">\n",
              "  <thead>\n",
              "    <tr style=\"text-align: right;\">\n",
              "      <th></th>\n",
              "      <th>Bedrooms</th>\n",
              "      <th>Type</th>\n",
              "      <th>Median Price</th>\n",
              "      <th>Avg Days on Market</th>\n",
              "      <th>Clearance Rate</th>\n",
              "      <th>Sold This Year</th>\n",
              "      <th>POPULATION</th>\n",
              "      <th>AVERAGE AGE</th>\n",
              "      <th>OWNER</th>\n",
              "      <th>RENTER</th>\n",
              "      <th>FAMILY</th>\n",
              "      <th>SINGLE</th>\n",
              "      <th>SUBURB</th>\n",
              "      <th>Time_stamp</th>\n",
              "    </tr>\n",
              "  </thead>\n",
              "  <tbody>\n",
              "    <tr>\n",
              "      <th>0</th>\n",
              "      <td>2</td>\n",
              "      <td>House</td>\n",
              "      <td>-</td>\n",
              "      <td>-</td>\n",
              "      <td>-</td>\n",
              "      <td>1</td>\n",
              "      <td>3,103</td>\n",
              "      <td>20 to 39</td>\n",
              "      <td>63%</td>\n",
              "      <td>37%</td>\n",
              "      <td>48%</td>\n",
              "      <td>52%</td>\n",
              "      <td>trinity-park-qld-4879</td>\n",
              "      <td>2023-06-28 02:12:28.536795+10:00</td>\n",
              "    </tr>\n",
              "    <tr>\n",
              "      <th>1</th>\n",
              "      <td>3</td>\n",
              "      <td>House</td>\n",
              "      <td>$570k</td>\n",
              "      <td>54 days</td>\n",
              "      <td>-</td>\n",
              "      <td>18</td>\n",
              "      <td>3,103</td>\n",
              "      <td>20 to 39</td>\n",
              "      <td>63%</td>\n",
              "      <td>37%</td>\n",
              "      <td>48%</td>\n",
              "      <td>52%</td>\n",
              "      <td>trinity-park-qld-4879</td>\n",
              "      <td>2023-06-28 02:12:28.641722+10:00</td>\n",
              "    </tr>\n",
              "    <tr>\n",
              "      <th>2</th>\n",
              "      <td>4</td>\n",
              "      <td>House</td>\n",
              "      <td>$662k</td>\n",
              "      <td>44 days</td>\n",
              "      <td>-</td>\n",
              "      <td>69</td>\n",
              "      <td>3,103</td>\n",
              "      <td>20 to 39</td>\n",
              "      <td>63%</td>\n",
              "      <td>37%</td>\n",
              "      <td>48%</td>\n",
              "      <td>52%</td>\n",
              "      <td>trinity-park-qld-4879</td>\n",
              "      <td>2023-06-28 02:12:28.749231+10:00</td>\n",
              "    </tr>\n",
              "    <tr>\n",
              "      <th>3</th>\n",
              "      <td>5</td>\n",
              "      <td>House</td>\n",
              "      <td>$805k</td>\n",
              "      <td>-</td>\n",
              "      <td>-</td>\n",
              "      <td>11</td>\n",
              "      <td>3,103</td>\n",
              "      <td>20 to 39</td>\n",
              "      <td>63%</td>\n",
              "      <td>37%</td>\n",
              "      <td>48%</td>\n",
              "      <td>52%</td>\n",
              "      <td>trinity-park-qld-4879</td>\n",
              "      <td>2023-06-28 02:12:28.808722+10:00</td>\n",
              "    </tr>\n",
              "    <tr>\n",
              "      <th>4</th>\n",
              "      <td>2</td>\n",
              "      <td>House</td>\n",
              "      <td>$340k</td>\n",
              "      <td>120 days</td>\n",
              "      <td>-</td>\n",
              "      <td>21</td>\n",
              "      <td>9,701</td>\n",
              "      <td>60+</td>\n",
              "      <td>68%</td>\n",
              "      <td>32%</td>\n",
              "      <td>44%</td>\n",
              "      <td>56%</td>\n",
              "      <td>portland-vic-3305</td>\n",
              "      <td>2023-06-28 02:12:51.900861+10:00</td>\n",
              "    </tr>\n",
              "    <tr>\n",
              "      <th>...</th>\n",
              "      <td>...</td>\n",
              "      <td>...</td>\n",
              "      <td>...</td>\n",
              "      <td>...</td>\n",
              "      <td>...</td>\n",
              "      <td>...</td>\n",
              "      <td>...</td>\n",
              "      <td>...</td>\n",
              "      <td>...</td>\n",
              "      <td>...</td>\n",
              "      <td>...</td>\n",
              "      <td>...</td>\n",
              "      <td>...</td>\n",
              "      <td>...</td>\n",
              "    </tr>\n",
              "    <tr>\n",
              "      <th>30955</th>\n",
              "      <td>4</td>\n",
              "      <td>House</td>\n",
              "      <td>-</td>\n",
              "      <td>-</td>\n",
              "      <td>-</td>\n",
              "      <td>2</td>\n",
              "      <td>121</td>\n",
              "      <td>60+</td>\n",
              "      <td>92%</td>\n",
              "      <td>8%</td>\n",
              "      <td>59%</td>\n",
              "      <td>41%</td>\n",
              "      <td>jalbarragup-wa-6275</td>\n",
              "      <td>2023-06-28 20:33:41.437806+10:00</td>\n",
              "    </tr>\n",
              "    <tr>\n",
              "      <th>30956</th>\n",
              "      <td>2</td>\n",
              "      <td>House</td>\n",
              "      <td>-</td>\n",
              "      <td>-</td>\n",
              "      <td>-</td>\n",
              "      <td>2</td>\n",
              "      <td>8,226</td>\n",
              "      <td>40 to 59</td>\n",
              "      <td>85%</td>\n",
              "      <td>15%</td>\n",
              "      <td>57%</td>\n",
              "      <td>43%</td>\n",
              "      <td>horsley-nsw-2530</td>\n",
              "      <td>2023-06-28 20:35:38.435560+10:00</td>\n",
              "    </tr>\n",
              "    <tr>\n",
              "      <th>30957</th>\n",
              "      <td>3</td>\n",
              "      <td>House</td>\n",
              "      <td>$795k</td>\n",
              "      <td>25 days</td>\n",
              "      <td>-</td>\n",
              "      <td>29</td>\n",
              "      <td>8,226</td>\n",
              "      <td>40 to 59</td>\n",
              "      <td>85%</td>\n",
              "      <td>15%</td>\n",
              "      <td>57%</td>\n",
              "      <td>43%</td>\n",
              "      <td>horsley-nsw-2530</td>\n",
              "      <td>2023-06-28 20:35:38.590746+10:00</td>\n",
              "    </tr>\n",
              "    <tr>\n",
              "      <th>30958</th>\n",
              "      <td>4</td>\n",
              "      <td>House</td>\n",
              "      <td>$980k</td>\n",
              "      <td>48 days</td>\n",
              "      <td>-</td>\n",
              "      <td>48</td>\n",
              "      <td>8,226</td>\n",
              "      <td>40 to 59</td>\n",
              "      <td>85%</td>\n",
              "      <td>15%</td>\n",
              "      <td>57%</td>\n",
              "      <td>43%</td>\n",
              "      <td>horsley-nsw-2530</td>\n",
              "      <td>2023-06-28 20:35:38.706755+10:00</td>\n",
              "    </tr>\n",
              "    <tr>\n",
              "      <th>30959</th>\n",
              "      <td>5</td>\n",
              "      <td>House</td>\n",
              "      <td>$1.135m</td>\n",
              "      <td>-</td>\n",
              "      <td>-</td>\n",
              "      <td>10</td>\n",
              "      <td>8,226</td>\n",
              "      <td>40 to 59</td>\n",
              "      <td>85%</td>\n",
              "      <td>15%</td>\n",
              "      <td>57%</td>\n",
              "      <td>43%</td>\n",
              "      <td>horsley-nsw-2530</td>\n",
              "      <td>2023-06-28 20:35:38.813058+10:00</td>\n",
              "    </tr>\n",
              "  </tbody>\n",
              "</table>\n",
              "<p>30960 rows × 14 columns</p>\n",
              "</div>\n",
              "      <button class=\"colab-df-convert\" onclick=\"convertToInteractive('df-70285565-8923-474f-87cd-553d7d6fa122')\"\n",
              "              title=\"Convert this dataframe to an interactive table.\"\n",
              "              style=\"display:none;\">\n",
              "        \n",
              "  <svg xmlns=\"http://www.w3.org/2000/svg\" height=\"24px\"viewBox=\"0 0 24 24\"\n",
              "       width=\"24px\">\n",
              "    <path d=\"M0 0h24v24H0V0z\" fill=\"none\"/>\n",
              "    <path d=\"M18.56 5.44l.94 2.06.94-2.06 2.06-.94-2.06-.94-.94-2.06-.94 2.06-2.06.94zm-11 1L8.5 8.5l.94-2.06 2.06-.94-2.06-.94L8.5 2.5l-.94 2.06-2.06.94zm10 10l.94 2.06.94-2.06 2.06-.94-2.06-.94-.94-2.06-.94 2.06-2.06.94z\"/><path d=\"M17.41 7.96l-1.37-1.37c-.4-.4-.92-.59-1.43-.59-.52 0-1.04.2-1.43.59L10.3 9.45l-7.72 7.72c-.78.78-.78 2.05 0 2.83L4 21.41c.39.39.9.59 1.41.59.51 0 1.02-.2 1.41-.59l7.78-7.78 2.81-2.81c.8-.78.8-2.07 0-2.86zM5.41 20L4 18.59l7.72-7.72 1.47 1.35L5.41 20z\"/>\n",
              "  </svg>\n",
              "      </button>\n",
              "      \n",
              "  <style>\n",
              "    .colab-df-container {\n",
              "      display:flex;\n",
              "      flex-wrap:wrap;\n",
              "      gap: 12px;\n",
              "    }\n",
              "\n",
              "    .colab-df-convert {\n",
              "      background-color: #E8F0FE;\n",
              "      border: none;\n",
              "      border-radius: 50%;\n",
              "      cursor: pointer;\n",
              "      display: none;\n",
              "      fill: #1967D2;\n",
              "      height: 32px;\n",
              "      padding: 0 0 0 0;\n",
              "      width: 32px;\n",
              "    }\n",
              "\n",
              "    .colab-df-convert:hover {\n",
              "      background-color: #E2EBFA;\n",
              "      box-shadow: 0px 1px 2px rgba(60, 64, 67, 0.3), 0px 1px 3px 1px rgba(60, 64, 67, 0.15);\n",
              "      fill: #174EA6;\n",
              "    }\n",
              "\n",
              "    [theme=dark] .colab-df-convert {\n",
              "      background-color: #3B4455;\n",
              "      fill: #D2E3FC;\n",
              "    }\n",
              "\n",
              "    [theme=dark] .colab-df-convert:hover {\n",
              "      background-color: #434B5C;\n",
              "      box-shadow: 0px 1px 3px 1px rgba(0, 0, 0, 0.15);\n",
              "      filter: drop-shadow(0px 1px 2px rgba(0, 0, 0, 0.3));\n",
              "      fill: #FFFFFF;\n",
              "    }\n",
              "  </style>\n",
              "\n",
              "      <script>\n",
              "        const buttonEl =\n",
              "          document.querySelector('#df-70285565-8923-474f-87cd-553d7d6fa122 button.colab-df-convert');\n",
              "        buttonEl.style.display =\n",
              "          google.colab.kernel.accessAllowed ? 'block' : 'none';\n",
              "\n",
              "        async function convertToInteractive(key) {\n",
              "          const element = document.querySelector('#df-70285565-8923-474f-87cd-553d7d6fa122');\n",
              "          const dataTable =\n",
              "            await google.colab.kernel.invokeFunction('convertToInteractive',\n",
              "                                                     [key], {});\n",
              "          if (!dataTable) return;\n",
              "\n",
              "          const docLinkHtml = 'Like what you see? Visit the ' +\n",
              "            '<a target=\"_blank\" href=https://colab.research.google.com/notebooks/data_table.ipynb>data table notebook</a>'\n",
              "            + ' to learn more about interactive tables.';\n",
              "          element.innerHTML = '';\n",
              "          dataTable['output_type'] = 'display_data';\n",
              "          await google.colab.output.renderOutput(dataTable, element);\n",
              "          const docLink = document.createElement('div');\n",
              "          docLink.innerHTML = docLinkHtml;\n",
              "          element.appendChild(docLink);\n",
              "        }\n",
              "      </script>\n",
              "    </div>\n",
              "  </div>\n",
              "  "
            ]
          },
          "metadata": {},
          "execution_count": 10
        }
      ]
    },
    {
      "cell_type": "markdown",
      "source": [
        "Remember to upload Data_extracted in gdrive.\n",
        "and also count the missing data."
      ],
      "metadata": {
        "id": "mrLofdvgvZC5"
      }
    },
    {
      "cell_type": "code",
      "source": [
        "suburbdf.drop_duplicates(inplace = True)"
      ],
      "metadata": {
        "id": "aTa_CPbyPM67"
      },
      "execution_count": null,
      "outputs": []
    },
    {
      "cell_type": "code",
      "source": [
        "suburbdf.shape"
      ],
      "metadata": {
        "colab": {
          "base_uri": "https://localhost:8080/"
        },
        "id": "YhQxAJu5PTm0",
        "outputId": "0512cf06-9304-407d-e216-41e7c19802f6"
      },
      "execution_count": null,
      "outputs": [
        {
          "output_type": "execute_result",
          "data": {
            "text/plain": [
              "(30960, 14)"
            ]
          },
          "metadata": {},
          "execution_count": 13
        }
      ]
    },
    {
      "cell_type": "code",
      "source": [
        "df = suburbdf"
      ],
      "metadata": {
        "id": "27N5SYSoRGrj"
      },
      "execution_count": 22,
      "outputs": []
    },
    {
      "cell_type": "code",
      "source": [
        "len(suburbdf['SUBURB'].unique())"
      ],
      "metadata": {
        "colab": {
          "base_uri": "https://localhost:8080/"
        },
        "id": "zs_RGbvVPisa",
        "outputId": "d959ab45-96ff-49cb-cf35-4e6b143786c7"
      },
      "execution_count": 19,
      "outputs": [
        {
          "output_type": "execute_result",
          "data": {
            "text/plain": [
              "6181"
            ]
          },
          "metadata": {},
          "execution_count": 19
        }
      ]
    },
    {
      "cell_type": "code",
      "source": [
        "name = 'DomainData.csv'\n",
        "suburbdf.to_csv(name, index=False)"
      ],
      "metadata": {
        "id": "kDNo6phjTiHg"
      },
      "execution_count": 21,
      "outputs": []
    },
    {
      "cell_type": "markdown",
      "source": [
        "# checkpoint"
      ],
      "metadata": {
        "id": "y5HsgSEESzlb"
      }
    },
    {
      "cell_type": "code",
      "source": [
        "df = pd.read_csv('/content/DomainData.csv')"
      ],
      "metadata": {
        "id": "4XUaybJsp14E"
      },
      "execution_count": 58,
      "outputs": []
    },
    {
      "cell_type": "code",
      "source": [
        "df['Postcode'] = df['SUBURB'].apply(lambda x: x[-4:].title())\n",
        "df['State'] = df['SUBURB'].apply(lambda x: x.split('-')[-2].title())\n",
        "df['Suburb Name'] = df['SUBURB'].apply(lambda x: ' '.join(x.split('-')[:-2]).title())\n",
        "df['Postcode'] = df['Postcode'].apply(lambda x: str(x).zfill(4))"
      ],
      "metadata": {
        "id": "6t5oHRpiRPzr"
      },
      "execution_count": 59,
      "outputs": []
    },
    {
      "cell_type": "code",
      "source": [
        "state_names = {\n",
        "    'Tas': 'Tasmania',\n",
        "    'Nsw': 'New South Wales',\n",
        "    'Qld': 'Queensland',\n",
        "    'Nt': 'Northern Territory',\n",
        "    'Vic': 'Victoria',\n",
        "    'Sa': 'South Australia',\n",
        "    'Act': 'Australian Capital Territory',\n",
        "    'Wa': 'Western Australia'\n",
        "    }\n",
        "df['State'] = df['State'].replace(state_names)"
      ],
      "metadata": {
        "id": "e5AD6-jhRPwz"
      },
      "execution_count": 60,
      "outputs": []
    },
    {
      "cell_type": "code",
      "source": [
        "new_column_names = {col: col.lower().replace(' ', '_') for col in df.columns}\n",
        "df = df.rename(columns=new_column_names)"
      ],
      "metadata": {
        "id": "OKuOfYc1RPty"
      },
      "execution_count": 61,
      "outputs": []
    },
    {
      "cell_type": "code",
      "source": [
        "df['avg_days_on_market'] = df['avg_days_on_market'].apply(lambda x: 0 if x == '-' else str(x).replace(' days', ''))"
      ],
      "metadata": {
        "id": "KIv4Udp5oSwb"
      },
      "execution_count": 62,
      "outputs": []
    },
    {
      "cell_type": "code",
      "source": [
        "df['median_price_int'] = df['median_price'].apply(lambda x: np.NaN if x == '-' else str(x))\n",
        "df['median_price_int'] = df['median_price_int'].fillna(0).astype('str')"
      ],
      "metadata": {
        "id": "-PdEnyVLrFnU"
      },
      "execution_count": 63,
      "outputs": []
    },
    {
      "cell_type": "code",
      "source": [
        "def convert_to_int(value):\n",
        "\n",
        "    multiplier = 1\n",
        "    if value.endswith('k'):\n",
        "        multiplier = 1000\n",
        "    elif value.endswith('m'):\n",
        "        multiplier = 1000000\n",
        "    value = re.sub('[^\\d.]', '', value)\n",
        "    return int(float(value) * multiplier)\n",
        "\n",
        "df['median_price_int'] = [convert_to_int(value) for value in df['median_price_int']]"
      ],
      "metadata": {
        "id": "j-misT-DpqpD"
      },
      "execution_count": 64,
      "outputs": []
    },
    {
      "cell_type": "code",
      "source": [
        "australia_timezone = pytz.timezone('Australia/Sydney')\n",
        "current_time = datetime.datetime.now(australia_timezone)\n",
        "filename = 'Domain_Extract_'+ str(current_time.date()).replace('-', '')+'.csv'\n",
        "df.to_csv(filename,index = False)"
      ],
      "metadata": {
        "id": "Kyynd4WBRPqz"
      },
      "execution_count": 67,
      "outputs": []
    },
    {
      "cell_type": "code",
      "source": [],
      "metadata": {
        "id": "gZ7WPc8qRPns"
      },
      "execution_count": null,
      "outputs": []
    },
    {
      "cell_type": "code",
      "source": [],
      "metadata": {
        "id": "CrBqccNSRPQa"
      },
      "execution_count": null,
      "outputs": []
    }
  ]
}