{
  "nbformat": 4,
  "nbformat_minor": 0,
  "metadata": {
    "colab": {
      "provenance": []
    },
    "kernelspec": {
      "name": "python3",
      "display_name": "Python 3"
    },
    "language_info": {
      "name": "python"
    }
  },
  "cells": [
    {
      "cell_type": "code",
      "source": [
        "import os\n",
        "from bs4 import BeautifulSoup\n",
        "import numpy as np\n",
        "import pandas as pd\n",
        "import regex as re\n",
        "import requests\n",
        "import json\n",
        "import gdown\n",
        "import sys\n",
        "from tqdm import tqdm\n",
        "\n",
        "# pd.set_option('display.max_rows', None)\n",
        "# pd.set_option('mode.chained_assignment',None)"
      ],
      "metadata": {
        "id": "6iSLPJu2il1V"
      },
      "execution_count": null,
      "outputs": []
    },
    {
      "cell_type": "markdown",
      "source": [
        "* The website had only sugestions to pull data from.\n",
        "* so we have a sugestion genrator with 3 charecters.\n",
        "* its total combinations lengeth were 17576"
      ],
      "metadata": {
        "id": "Iy731xe5igQe"
      }
    },
    {
      "cell_type": "code",
      "source": [
        "from itertools import product\n",
        "from string import ascii_lowercase\n",
        "keywords = tuple(map(''.join, product(ascii_lowercase, repeat=3)))\n",
        "print(len(keywords))"
      ],
      "metadata": {
        "colab": {
          "base_uri": "https://localhost:8080/"
        },
        "id": "lfa12iJhn5Dr",
        "outputId": "c5565146-a5a6-4f0a-83fa-e84c695d656c"
      },
      "execution_count": null,
      "outputs": [
        {
          "output_type": "stream",
          "name": "stdout",
          "text": [
            "17576\n"
          ]
        }
      ]
    },
    {
      "cell_type": "markdown",
      "source": [
        "## homely concatination extraction"
      ],
      "metadata": {
        "id": "YnwbCH_Mb8NZ"
      }
    },
    {
      "cell_type": "code",
      "source": [
        "def get_responce(param):\n",
        "  headers = {\n",
        "    'authority': 'api.homely.com.au',\n",
        "    'accept': 'application/vnd.homely.api.v1+json',\n",
        "    'accept-language': 'en-US,en',\n",
        "    # 'cookie': 'FPID=FPID2.3.N%2FEbtITAbMmiXHSpN5dKqwUEGhXZUTd9QALfEHV8ros%3D.1686141859; FPAU=1.3.560087484.1686141858; _fbp=fb.2.1686141926936.1348119019; _ga=GA1.1.2138275943.1686912998; FPLC=uCFc%2BJsc0DG9l3vpG5hv%2B2FiAFSD0pWQDuYfZjyN0vOwAfYd2orzlaVmNuOGy%2B9WUra2aBSVX%2FKlJwSkhdxChnEJbezw1P6u8ce5193ut2zs9Fr21HBRFbgdB%2BZT8g%3D%3D; __cf_bm=1sJS90D7RCmysHXFpTmf8xFz2LRVFZNktF.1VSsuXhI-1687146919-0-AVgBtAHjyNJWB0uerkBvE+PdZ4jLeqUhHyM9HwOsytbqyLy0/ul9JF6+W3SLZvvKug==; _ga_4NDBXXNS0N=GS1.1.1687146917.4.1.1687148033.0.0.0',\n",
        "    'origin': 'https://www.homely.com.au',\n",
        "    'referer': 'https://www.homely.com.au/',\n",
        "    'sec-ch-ua': '\"Not.A/Brand\";v=\"8\", \"Chromium\";v=\"114\", \"Brave\";v=\"114\"',\n",
        "    'sec-ch-ua-mobile': '?0',\n",
        "    'sec-ch-ua-platform': '\"Windows\"',\n",
        "    'sec-fetch-dest': 'empty',\n",
        "    'sec-fetch-mode': 'cors',\n",
        "    'sec-fetch-site': 'same-site',\n",
        "    'sec-gpc': '1',\n",
        "    'user-agent': 'Mozilla/5.0 (Windows NT 10.0; Win64; x64) AppleWebKit/537.36 (KHTML, like Gecko) Chrome/114.0.0.0 Safari/537.36',\n",
        "    'x-request-client': 'Desktop Web',\n",
        "    'x-request-epoch': '1687148178',\n",
        "  }\n",
        "\n",
        "  params = {\n",
        "    'q': param,\n",
        "  }\n",
        "\n",
        "  response = requests.get('https://api.homely.com.au/search/locations', params=params, headers=headers)\n",
        "\n",
        "  return response\n",
        "\n",
        "unique_homely_names=set()\n",
        "pbar = tqdm(total=17576, desc=\"Processing\", unit=\"entry\")\n",
        "\n",
        "for keyword in keywords:\n",
        "  pbar.update(1)\n",
        "  resp = get_responce(keyword)\n",
        "  if resp.status_code == 200:\n",
        "    data = resp.json()\n",
        "    length_of_data = len(data['locations'])\n",
        "    for i in range(length_of_data):\n",
        "      unique_homely_names.add(data['locations'][i]['slug'])\n"
      ],
      "metadata": {
        "colab": {
          "base_uri": "https://localhost:8080/"
        },
        "id": "M6OPwJXN2UFl",
        "outputId": "2343f895-5b7a-41fb-f22f-e6ddda25d377"
      },
      "execution_count": 12,
      "outputs": [
        {
          "output_type": "stream",
          "name": "stderr",
          "text": [
            "Processing: 100%|██████████| 17576/17576 [4:41:00<00:00,  1.09entry/s]"
          ]
        }
      ]
    },
    {
      "cell_type": "code",
      "source": [
        "print(len(unique_homely_names))"
      ],
      "metadata": {
        "colab": {
          "base_uri": "https://localhost:8080/"
        },
        "id": "QvDg-MbT9e1S",
        "outputId": "f224191d-12e0-4312-8de2-5eab3a6a6eeb"
      },
      "execution_count": 13,
      "outputs": [
        {
          "output_type": "stream",
          "name": "stdout",
          "text": [
            "7601\n"
          ]
        }
      ]
    },
    {
      "cell_type": "code",
      "source": [
        "df = pd.DataFrame(unique_homely_names)\n",
        "df.to_csv('suburbs_homely.csv')"
      ],
      "metadata": {
        "id": "cr1LPOsc9nCq"
      },
      "execution_count": 15,
      "outputs": []
    },
    {
      "cell_type": "markdown",
      "source": [
        "# Domine Header and Request"
      ],
      "metadata": {
        "id": "7d1ZA4js1qA-"
      }
    },
    {
      "cell_type": "code",
      "source": [
        "headers = {\n",
        "    'authority': 'www.domain.com.au',\n",
        "    'accept': '*/*',\n",
        "    'accept-language': 'en-US,en;q=0.9',\n",
        "    'content-type': 'application/json',\n",
        "    # 'cookie': 'domain-mixpanel-id_ab0bde70050c3eabaaf8824402fa01e0=$device:188995b514457e-03d062656d4fe5-26031d51-e0985-188995b5145100b; DEVICE_SESSIONID=a023599d-f7d9-46eb-b321-f121e875624e; searchSOI=nsw; bm_sz=E5C3168193AD41FE541960D95436255D~YAAQX+hUuDpcuJaIAQAA3jpJrhTax8oHVn/x4xpTKyn+pZ3tBypaiFN+fhR/FkbUiUtsbtuptrKHlrQVtLONesMfl+u22kTH6Oe8fVzvoXh0i9/cktskT2ksu8Pl/sK2ke2twQKuLm7o72/j1Zlmj/NztVuvVJHbLx2PWFbJJSVaJroFVp94sNdqGqmQI4m79RXMWA2cJHdE/EMHzxxRm3eeZ0wK365YXrDIM1MggRFMgn8svljDLLWJWCpLyPWBw7cbNNfG4viqhJZSnPCtngE5yd2wCks5OL3m4UX0p2YiWKhVvjefSvZJSq/wRTYWAiQwvgnyyp5HNofRq20=~3421252~4473143; bm_mi=D952F10DCA95880574A8BC722F2EB220~YAAQX+hUuCPXuJaIAQAA0bBarhSxMOjumckKnKAlJGqyac9HJv7nNQQY018qrEOD6li5mlKJJdlDNNnQMNimYXRtxDPmKz5LEZvmj16ofM4zzp1LEoVU9F6EYvK6d4Ip0JJi5ZveAW787x1wVwMpepTQdUBDRpiPzNBKDnV0+8dI12TDQIIgIetF7fMeiQoqfEon4lKfpkhnH1TxQtk4qj2a/LWB2L3d4lue7GxH6gjdtlP2fM1aZcux9RSVPu1DVT/kxVCwUYnQ/rqfYsszfYcWGD+MbOI6nSKiHeuMXKb70P8IDPt9MNraiAvYW9bte2h28jNHksjvzb1xXKvr~1; ak_bmsc=1DE2C239D9A96F1142226B5FA5500183~000000000000000000000000000000~YAAQX+hUuBnYuJaIAQAAcNxarhTQh3sbnvdeNNlrfoGWlFkM3eHfk14mHOm1PZyIU0gmYFxPO9/qdHza1NrXcHuNpWrNwVvbg1dISowLTtF7HsRvUEX7jU+wau+gQjX6thKlHYUF3K50ITyCdJE8dscqRM5NoYZj7uO0M/LIZpD6beritGyU896dEKD/2dPy/o7CGykFe56byEq8XJv3tFoJyQb1fIW8twUkzznRLOKajOXSd/klW/N6rLuvXGJjoFFfWEvBgi4VI4eMtUuGMiQZRQohNzTQ8RbVyI6r+VvPpSIlTqirB6rVBlk2MpvrWdIG6luUwoGnR2ddw6TIAvxcRK2tt3aNdHT84ggGEOn6A+UM+KndYFpWCTHs20VPTUkN2e44Zx5xqTS3zSGMbqvfWarNWtaOtm40CUxLtNdfXgqWJCEytUPJPM0/; bm_sv=A248E62E876DC5FACA1C1B94D0727478~YAAQX+hUuIa9uZaIAQAARvZ7rhQmRelJL4ghZ5opdMFxpF0zmhQLqwSZ2hKhHDu+nS4kBVQLt+JtTF4BO2IMCRWdw76Zsbhp6siOtsux3Rx/s71QUW1TztDbZE/4UyxlV02YXRDKxI2QwV8vQOa9FdGp43thdH3hsqngJNLgI4qBF7/whqCTKRIM23c7wzHh6FMDDWanOVq+Olkac3fGqtE0bH3uK9OxwL5iw7WT6qIbRb9vtC1odx86FasDcBAT5Inf8w==~1; _abck=1DD95BDDF3FCA5D055B5FB003FEBDFF4~0~YAAQX+hUuGW+uZaIAQAAPv97rgokC/jffin+CGwE6ip6uInGb+3nw3Eibix6Nd7g4m/9XzeDvpAJRj3jl30Hp2K6KBS9nLDQrwOx0+O1uxtdrvEu0LRI+e/paHjKnl/Rtmqh2JpWCqTtljFKgjFFr7mVhgDxcSwvuIJZ6YsSOZ05ofNiw9yfkHF0JcAIYYUSNTqgD/GG/RKkcW7xrE1LAxJutk06NJNXOo0WfGpnI+c3Kx6P5YU7nBvve+hi7aeCAwBJY5TSOypVZtDAdCrbUmbzYQjeJcL/DAr6VEGFeL8DOee3iIhi/X7wGnk/gl9cJsOrEQfx54sYX5JlPBMef7GBkKsS/xTbR5HAXHi+hj/OdKa+cwfslumdx7yqTtYKdtqb6jtWQWqQBtQE~-1~-1~1686552014',\n",
        "    'origin': 'https://www.domain.com.au',\n",
        "    'referer': 'https://www.domain.com.au/suburb-profile/',\n",
        "    'sec-ch-ua': '\"Not.A/Brand\";v=\"8\", \"Chromium\";v=\"114\", \"Brave\";v=\"114\"',\n",
        "    'sec-ch-ua-mobile': '?0',\n",
        "    'sec-ch-ua-platform': '\"Windows\"',\n",
        "    'sec-fetch-dest': 'empty',\n",
        "    'sec-fetch-mode': 'cors',\n",
        "    'sec-fetch-site': 'same-origin',\n",
        "    'sec-gpc': '1',\n",
        "    'user-agent': 'Mozilla/5.0 (Windows NT 10.0; Win64; x64) AppleWebKit/537.36 (KHTML, like Gecko) Chrome/114.0.0.0 Safari/537.36',\n",
        "}"
      ],
      "metadata": {
        "id": "G7MP9ohu4Tq3"
      },
      "execution_count": null,
      "outputs": []
    },
    {
      "cell_type": "code",
      "source": [
        "# def extract_first_name(name):\n",
        "#     # Remove special characters using regex\n",
        "#     cleaned_name = re.sub('[^a-zA-Z ]', '', name)\n",
        "#     # Extract the first name\n",
        "#     first_name = cleaned_name.split()[0]\n",
        "#     return first_name\n",
        "\n",
        "# def extract_first_names(names):\n",
        "#     # Split the names by comma\n",
        "#     name_list = names.split(',')\n",
        "#     # Extract the first name from each name\n",
        "#     first_names = [extract_first_name(name) for name in name_list]\n",
        "#     return first_names"
      ],
      "metadata": {
        "id": "P9xuCsVmLoeW"
      },
      "execution_count": null,
      "outputs": []
    },
    {
      "cell_type": "code",
      "source": [
        "unique_names = set()\n",
        "for sub_urb in keywords:\n",
        "\n",
        "  try:\n",
        "    json_data = {\n",
        "        'variables': {\n",
        "            'input': sub_urb[0],\n",
        "            'maxResults': 2000,\n",
        "            'locationTypes': [\n",
        "                'SUBURB',\n",
        "            ],\n",
        "        },\n",
        "        'query': '\\n        query SuggestLocations(\\n          $input: String!\\n          $locationTypes: [LocationSuggestionType!]\\n          $maxResults: Int\\n        ) {\\n          suggestLocations(\\n            prefixText: $input,\\n            locationTypes: $locationTypes,\\n            maxResults: $maxResults,\\n            exactMatchesToTop: true) {\\n            __typename\\n            ... on SuburbSuggestion {\\n              label: displayName\\n              value: nameSlug\\n            }\\n            ... on AreaSuggestion {\\n              label: displayName\\n              value: nameSlug\\n            }\\n            ... on RegionSuggestion {\\n              label: displayName\\n              value: nameSlug\\n            }\\n            ... on SchoolSuggestion {\\n              label: displayName\\n              value: nameSlug\\n            }\\n          }\\n         }\\n       ',\n",
        "    }\n",
        "\n",
        "    response = requests.post('https://www.domain.com.au/graphql', headers=headers, json=json_data)\n",
        "\n",
        "    if response.status_code == 200:\n",
        "        data = response.json()\n",
        "        length_of_data= len(data['data']['suggestLocations'])\n",
        "        for i in range(length_of_data):\n",
        "          value = data['data']['suggestLocations'][i]['value']\n",
        "          unique_names.add(value)\n",
        "  except:\n",
        "    None\n"
      ],
      "metadata": {
        "id": "762kFy3O3jff"
      },
      "execution_count": null,
      "outputs": []
    },
    {
      "cell_type": "markdown",
      "source": [
        "* trying to collect the sugestions we have collected 15879 suburbs instard of 15303"
      ],
      "metadata": {
        "id": "3sDIFf5rjIz-"
      }
    },
    {
      "cell_type": "code",
      "source": [
        "print(len(unique_names))"
      ],
      "metadata": {
        "colab": {
          "base_uri": "https://localhost:8080/"
        },
        "id": "tSlCIRxYFFQ6",
        "outputId": "e6eed04c-9c78-4537-9d9b-b9e310302eb7"
      },
      "execution_count": null,
      "outputs": [
        {
          "output_type": "stream",
          "name": "stdout",
          "text": [
            "15879\n"
          ]
        }
      ]
    },
    {
      "cell_type": "code",
      "source": [
        "df = pd.DataFrame(unique_names)\n",
        "df.to_csv('urls.csv')"
      ],
      "metadata": {
        "id": "6akd9-8VfxNN"
      },
      "execution_count": null,
      "outputs": []
    },
    {
      "cell_type": "markdown",
      "source": [
        "# merging the collected data."
      ],
      "metadata": {
        "id": "u3RRUYyNE9tP"
      }
    },
    {
      "cell_type": "code",
      "source": [
        "gdown.download(id = '1ZpQkXSnusg_YNi1JKJkGvrogkoTyzx2M')\n",
        "gdown.download(id = '1ora1w9y6pabcXclFolP5z_M0kWEJwJVU')\n",
        "gdown.download(id = '1P9cy5guwMUZQREgHYiP_DpMC65aIc5PV')\n",
        "gdown.download(id = '12a95ORHZxNjFkngepugB4DWRVk3UFwq9')\n",
        "gdown.download(id = '11ZPB4RJ_ImpRnls7OpU4Sqx8L0nS6Y62')"
      ],
      "metadata": {
        "colab": {
          "base_uri": "https://localhost:8080/",
          "height": 383
        },
        "id": "7UkxZy2o5vc5",
        "outputId": "6a5619a3-507d-4306-ee03-59412aa7e31c"
      },
      "execution_count": null,
      "outputs": [
        {
          "output_type": "stream",
          "name": "stderr",
          "text": [
            "Downloading...\n",
            "From: https://drive.google.com/uc?id=1ZpQkXSnusg_YNi1JKJkGvrogkoTyzx2M\n",
            "To: /content/df_urbdat1.csv\n",
            "100%|██████████| 6.55k/6.55k [00:00<00:00, 8.39MB/s]\n",
            "Downloading...\n",
            "From: https://drive.google.com/uc?id=1ora1w9y6pabcXclFolP5z_M0kWEJwJVU\n",
            "To: /content/df_urbdat2.csv\n",
            "100%|██████████| 2.41k/2.41k [00:00<00:00, 2.64MB/s]\n",
            "Downloading...\n",
            "From: https://drive.google.com/uc?id=1P9cy5guwMUZQREgHYiP_DpMC65aIc5PV\n",
            "To: /content/df_urbdat3.csv\n",
            "100%|██████████| 3.70k/3.70k [00:00<00:00, 6.93MB/s]\n",
            "Downloading...\n",
            "From: https://drive.google.com/uc?id=12a95ORHZxNjFkngepugB4DWRVk3UFwq9\n",
            "To: /content/df_urbdat4.csv\n",
            "100%|██████████| 1.65k/1.65k [00:00<00:00, 9.10MB/s]\n",
            "Downloading...\n",
            "From: https://drive.google.com/uc?id=11ZPB4RJ_ImpRnls7OpU4Sqx8L0nS6Y62\n",
            "To: /content/df_urbdat5.csv\n",
            "100%|██████████| 1.29k/1.29k [00:00<00:00, 2.60MB/s]\n"
          ]
        },
        {
          "output_type": "execute_result",
          "data": {
            "text/plain": [
              "'df_urbdat5.csv'"
            ],
            "application/vnd.google.colaboratory.intrinsic+json": {
              "type": "string"
            }
          },
          "metadata": {},
          "execution_count": 2
        }
      ]
    },
    {
      "cell_type": "code",
      "source": [
        "df1 = pd.read_csv('/content/df_urbdat1.csv')\n",
        "df2 = pd.read_csv('/content/df_urbdat2.csv')\n",
        "df3 = pd.read_csv('/content/df_urbdat3.csv')\n",
        "df4 = pd.read_csv('/content/df_urbdat4.csv')\n",
        "df5 = pd.read_csv('/content/df_urbdat5.csv')"
      ],
      "metadata": {
        "id": "yeXTUPqgFlkH"
      },
      "execution_count": null,
      "outputs": []
    },
    {
      "cell_type": "code",
      "source": [
        "suburbdf = pd.DataFrame()\n",
        "suburbdf = pd.concat([suburbdf,df1],ignore_index =True)\n",
        "suburbdf = pd.concat([suburbdf,df2],ignore_index =True)\n",
        "suburbdf = pd.concat([suburbdf,df3],ignore_index =True)\n",
        "suburbdf = pd.concat([suburbdf,df4],ignore_index =True)\n",
        "suburbdf = pd.concat([suburbdf,df5],ignore_index =True)\n",
        "suburbdf"
      ],
      "metadata": {
        "colab": {
          "base_uri": "https://localhost:8080/",
          "height": 728
        },
        "id": "RPb8K6yXIvmu",
        "outputId": "d2ed105c-0d74-4bde-e8fa-5ccb02a83acb"
      },
      "execution_count": null,
      "outputs": [
        {
          "output_type": "execute_result",
          "data": {
            "text/plain": [
              "      Bedrooms               Type Median Price Avg Days on Market  \\\n",
              "0            +            Zoom in          NaN                NaN   \n",
              "1            -           Zoom out          NaN                NaN   \n",
              "2         Home   Jump left by 75%          NaN                NaN   \n",
              "3          End  Jump right by 75%          NaN                NaN   \n",
              "4      Page Up     Jump up by 75%          NaN                NaN   \n",
              "..         ...                ...          ...                ...   \n",
              "153          -           Zoom out          NaN                NaN   \n",
              "154       Home   Jump left by 75%          NaN                NaN   \n",
              "155        End  Jump right by 75%          NaN                NaN   \n",
              "156    Page Up     Jump up by 75%          NaN                NaN   \n",
              "157  Page Down   Jump down by 75%          NaN                NaN   \n",
              "\n",
              "    Clearance Rate  Sold This Year POPULATION AVERAGE AGE OWNER RENTER FAMILY  \\\n",
              "0              NaN             NaN        102     5 to 19   82%    18%    57%   \n",
              "1              NaN             NaN        102     5 to 19   82%    18%    57%   \n",
              "2              NaN             NaN        102     5 to 19   82%    18%    57%   \n",
              "3              NaN             NaN        102     5 to 19   82%    18%    57%   \n",
              "4              NaN             NaN        102     5 to 19   82%    18%    57%   \n",
              "..             ...             ...        ...         ...   ...    ...    ...   \n",
              "153            NaN             NaN         91         60+   51%    49%    45%   \n",
              "154            NaN             NaN         91         60+   51%    49%    45%   \n",
              "155            NaN             NaN         91         60+   51%    49%    45%   \n",
              "156            NaN             NaN         91         60+   51%    49%    45%   \n",
              "157            NaN             NaN         91         60+   51%    49%    45%   \n",
              "\n",
              "    SINGLE                 SUBURB                        Time_stamp  \n",
              "0      43%  boomanoomana-nsw-2712  2023-06-17 16:21:48.430790+10:00  \n",
              "1      43%  boomanoomana-nsw-2712  2023-06-17 16:21:48.455540+10:00  \n",
              "2      43%  boomanoomana-nsw-2712  2023-06-17 16:21:48.501814+10:00  \n",
              "3      43%  boomanoomana-nsw-2712  2023-06-17 16:21:48.547480+10:00  \n",
              "4      43%  boomanoomana-nsw-2712  2023-06-17 16:21:48.586855+10:00  \n",
              "..     ...                    ...                               ...  \n",
              "153    55%          marla-sa-5724  2023-06-17 15:35:43.327917+10:00  \n",
              "154    55%          marla-sa-5724  2023-06-17 15:35:43.350329+10:00  \n",
              "155    55%          marla-sa-5724  2023-06-17 15:35:43.372332+10:00  \n",
              "156    55%          marla-sa-5724  2023-06-17 15:35:43.417580+10:00  \n",
              "157    55%          marla-sa-5724  2023-06-17 15:35:43.457220+10:00  \n",
              "\n",
              "[158 rows x 14 columns]"
            ],
            "text/html": [
              "\n",
              "  <div id=\"df-4dde7456-dfbb-43a6-92d6-0227636da508\">\n",
              "    <div class=\"colab-df-container\">\n",
              "      <div>\n",
              "<style scoped>\n",
              "    .dataframe tbody tr th:only-of-type {\n",
              "        vertical-align: middle;\n",
              "    }\n",
              "\n",
              "    .dataframe tbody tr th {\n",
              "        vertical-align: top;\n",
              "    }\n",
              "\n",
              "    .dataframe thead th {\n",
              "        text-align: right;\n",
              "    }\n",
              "</style>\n",
              "<table border=\"1\" class=\"dataframe\">\n",
              "  <thead>\n",
              "    <tr style=\"text-align: right;\">\n",
              "      <th></th>\n",
              "      <th>Bedrooms</th>\n",
              "      <th>Type</th>\n",
              "      <th>Median Price</th>\n",
              "      <th>Avg Days on Market</th>\n",
              "      <th>Clearance Rate</th>\n",
              "      <th>Sold This Year</th>\n",
              "      <th>POPULATION</th>\n",
              "      <th>AVERAGE AGE</th>\n",
              "      <th>OWNER</th>\n",
              "      <th>RENTER</th>\n",
              "      <th>FAMILY</th>\n",
              "      <th>SINGLE</th>\n",
              "      <th>SUBURB</th>\n",
              "      <th>Time_stamp</th>\n",
              "    </tr>\n",
              "  </thead>\n",
              "  <tbody>\n",
              "    <tr>\n",
              "      <th>0</th>\n",
              "      <td>+</td>\n",
              "      <td>Zoom in</td>\n",
              "      <td>NaN</td>\n",
              "      <td>NaN</td>\n",
              "      <td>NaN</td>\n",
              "      <td>NaN</td>\n",
              "      <td>102</td>\n",
              "      <td>5 to 19</td>\n",
              "      <td>82%</td>\n",
              "      <td>18%</td>\n",
              "      <td>57%</td>\n",
              "      <td>43%</td>\n",
              "      <td>boomanoomana-nsw-2712</td>\n",
              "      <td>2023-06-17 16:21:48.430790+10:00</td>\n",
              "    </tr>\n",
              "    <tr>\n",
              "      <th>1</th>\n",
              "      <td>-</td>\n",
              "      <td>Zoom out</td>\n",
              "      <td>NaN</td>\n",
              "      <td>NaN</td>\n",
              "      <td>NaN</td>\n",
              "      <td>NaN</td>\n",
              "      <td>102</td>\n",
              "      <td>5 to 19</td>\n",
              "      <td>82%</td>\n",
              "      <td>18%</td>\n",
              "      <td>57%</td>\n",
              "      <td>43%</td>\n",
              "      <td>boomanoomana-nsw-2712</td>\n",
              "      <td>2023-06-17 16:21:48.455540+10:00</td>\n",
              "    </tr>\n",
              "    <tr>\n",
              "      <th>2</th>\n",
              "      <td>Home</td>\n",
              "      <td>Jump left by 75%</td>\n",
              "      <td>NaN</td>\n",
              "      <td>NaN</td>\n",
              "      <td>NaN</td>\n",
              "      <td>NaN</td>\n",
              "      <td>102</td>\n",
              "      <td>5 to 19</td>\n",
              "      <td>82%</td>\n",
              "      <td>18%</td>\n",
              "      <td>57%</td>\n",
              "      <td>43%</td>\n",
              "      <td>boomanoomana-nsw-2712</td>\n",
              "      <td>2023-06-17 16:21:48.501814+10:00</td>\n",
              "    </tr>\n",
              "    <tr>\n",
              "      <th>3</th>\n",
              "      <td>End</td>\n",
              "      <td>Jump right by 75%</td>\n",
              "      <td>NaN</td>\n",
              "      <td>NaN</td>\n",
              "      <td>NaN</td>\n",
              "      <td>NaN</td>\n",
              "      <td>102</td>\n",
              "      <td>5 to 19</td>\n",
              "      <td>82%</td>\n",
              "      <td>18%</td>\n",
              "      <td>57%</td>\n",
              "      <td>43%</td>\n",
              "      <td>boomanoomana-nsw-2712</td>\n",
              "      <td>2023-06-17 16:21:48.547480+10:00</td>\n",
              "    </tr>\n",
              "    <tr>\n",
              "      <th>4</th>\n",
              "      <td>Page Up</td>\n",
              "      <td>Jump up by 75%</td>\n",
              "      <td>NaN</td>\n",
              "      <td>NaN</td>\n",
              "      <td>NaN</td>\n",
              "      <td>NaN</td>\n",
              "      <td>102</td>\n",
              "      <td>5 to 19</td>\n",
              "      <td>82%</td>\n",
              "      <td>18%</td>\n",
              "      <td>57%</td>\n",
              "      <td>43%</td>\n",
              "      <td>boomanoomana-nsw-2712</td>\n",
              "      <td>2023-06-17 16:21:48.586855+10:00</td>\n",
              "    </tr>\n",
              "    <tr>\n",
              "      <th>...</th>\n",
              "      <td>...</td>\n",
              "      <td>...</td>\n",
              "      <td>...</td>\n",
              "      <td>...</td>\n",
              "      <td>...</td>\n",
              "      <td>...</td>\n",
              "      <td>...</td>\n",
              "      <td>...</td>\n",
              "      <td>...</td>\n",
              "      <td>...</td>\n",
              "      <td>...</td>\n",
              "      <td>...</td>\n",
              "      <td>...</td>\n",
              "      <td>...</td>\n",
              "    </tr>\n",
              "    <tr>\n",
              "      <th>153</th>\n",
              "      <td>-</td>\n",
              "      <td>Zoom out</td>\n",
              "      <td>NaN</td>\n",
              "      <td>NaN</td>\n",
              "      <td>NaN</td>\n",
              "      <td>NaN</td>\n",
              "      <td>91</td>\n",
              "      <td>60+</td>\n",
              "      <td>51%</td>\n",
              "      <td>49%</td>\n",
              "      <td>45%</td>\n",
              "      <td>55%</td>\n",
              "      <td>marla-sa-5724</td>\n",
              "      <td>2023-06-17 15:35:43.327917+10:00</td>\n",
              "    </tr>\n",
              "    <tr>\n",
              "      <th>154</th>\n",
              "      <td>Home</td>\n",
              "      <td>Jump left by 75%</td>\n",
              "      <td>NaN</td>\n",
              "      <td>NaN</td>\n",
              "      <td>NaN</td>\n",
              "      <td>NaN</td>\n",
              "      <td>91</td>\n",
              "      <td>60+</td>\n",
              "      <td>51%</td>\n",
              "      <td>49%</td>\n",
              "      <td>45%</td>\n",
              "      <td>55%</td>\n",
              "      <td>marla-sa-5724</td>\n",
              "      <td>2023-06-17 15:35:43.350329+10:00</td>\n",
              "    </tr>\n",
              "    <tr>\n",
              "      <th>155</th>\n",
              "      <td>End</td>\n",
              "      <td>Jump right by 75%</td>\n",
              "      <td>NaN</td>\n",
              "      <td>NaN</td>\n",
              "      <td>NaN</td>\n",
              "      <td>NaN</td>\n",
              "      <td>91</td>\n",
              "      <td>60+</td>\n",
              "      <td>51%</td>\n",
              "      <td>49%</td>\n",
              "      <td>45%</td>\n",
              "      <td>55%</td>\n",
              "      <td>marla-sa-5724</td>\n",
              "      <td>2023-06-17 15:35:43.372332+10:00</td>\n",
              "    </tr>\n",
              "    <tr>\n",
              "      <th>156</th>\n",
              "      <td>Page Up</td>\n",
              "      <td>Jump up by 75%</td>\n",
              "      <td>NaN</td>\n",
              "      <td>NaN</td>\n",
              "      <td>NaN</td>\n",
              "      <td>NaN</td>\n",
              "      <td>91</td>\n",
              "      <td>60+</td>\n",
              "      <td>51%</td>\n",
              "      <td>49%</td>\n",
              "      <td>45%</td>\n",
              "      <td>55%</td>\n",
              "      <td>marla-sa-5724</td>\n",
              "      <td>2023-06-17 15:35:43.417580+10:00</td>\n",
              "    </tr>\n",
              "    <tr>\n",
              "      <th>157</th>\n",
              "      <td>Page Down</td>\n",
              "      <td>Jump down by 75%</td>\n",
              "      <td>NaN</td>\n",
              "      <td>NaN</td>\n",
              "      <td>NaN</td>\n",
              "      <td>NaN</td>\n",
              "      <td>91</td>\n",
              "      <td>60+</td>\n",
              "      <td>51%</td>\n",
              "      <td>49%</td>\n",
              "      <td>45%</td>\n",
              "      <td>55%</td>\n",
              "      <td>marla-sa-5724</td>\n",
              "      <td>2023-06-17 15:35:43.457220+10:00</td>\n",
              "    </tr>\n",
              "  </tbody>\n",
              "</table>\n",
              "<p>158 rows × 14 columns</p>\n",
              "</div>\n",
              "      <button class=\"colab-df-convert\" onclick=\"convertToInteractive('df-4dde7456-dfbb-43a6-92d6-0227636da508')\"\n",
              "              title=\"Convert this dataframe to an interactive table.\"\n",
              "              style=\"display:none;\">\n",
              "        \n",
              "  <svg xmlns=\"http://www.w3.org/2000/svg\" height=\"24px\"viewBox=\"0 0 24 24\"\n",
              "       width=\"24px\">\n",
              "    <path d=\"M0 0h24v24H0V0z\" fill=\"none\"/>\n",
              "    <path d=\"M18.56 5.44l.94 2.06.94-2.06 2.06-.94-2.06-.94-.94-2.06-.94 2.06-2.06.94zm-11 1L8.5 8.5l.94-2.06 2.06-.94-2.06-.94L8.5 2.5l-.94 2.06-2.06.94zm10 10l.94 2.06.94-2.06 2.06-.94-2.06-.94-.94-2.06-.94 2.06-2.06.94z\"/><path d=\"M17.41 7.96l-1.37-1.37c-.4-.4-.92-.59-1.43-.59-.52 0-1.04.2-1.43.59L10.3 9.45l-7.72 7.72c-.78.78-.78 2.05 0 2.83L4 21.41c.39.39.9.59 1.41.59.51 0 1.02-.2 1.41-.59l7.78-7.78 2.81-2.81c.8-.78.8-2.07 0-2.86zM5.41 20L4 18.59l7.72-7.72 1.47 1.35L5.41 20z\"/>\n",
              "  </svg>\n",
              "      </button>\n",
              "      \n",
              "  <style>\n",
              "    .colab-df-container {\n",
              "      display:flex;\n",
              "      flex-wrap:wrap;\n",
              "      gap: 12px;\n",
              "    }\n",
              "\n",
              "    .colab-df-convert {\n",
              "      background-color: #E8F0FE;\n",
              "      border: none;\n",
              "      border-radius: 50%;\n",
              "      cursor: pointer;\n",
              "      display: none;\n",
              "      fill: #1967D2;\n",
              "      height: 32px;\n",
              "      padding: 0 0 0 0;\n",
              "      width: 32px;\n",
              "    }\n",
              "\n",
              "    .colab-df-convert:hover {\n",
              "      background-color: #E2EBFA;\n",
              "      box-shadow: 0px 1px 2px rgba(60, 64, 67, 0.3), 0px 1px 3px 1px rgba(60, 64, 67, 0.15);\n",
              "      fill: #174EA6;\n",
              "    }\n",
              "\n",
              "    [theme=dark] .colab-df-convert {\n",
              "      background-color: #3B4455;\n",
              "      fill: #D2E3FC;\n",
              "    }\n",
              "\n",
              "    [theme=dark] .colab-df-convert:hover {\n",
              "      background-color: #434B5C;\n",
              "      box-shadow: 0px 1px 3px 1px rgba(0, 0, 0, 0.15);\n",
              "      filter: drop-shadow(0px 1px 2px rgba(0, 0, 0, 0.3));\n",
              "      fill: #FFFFFF;\n",
              "    }\n",
              "  </style>\n",
              "\n",
              "      <script>\n",
              "        const buttonEl =\n",
              "          document.querySelector('#df-4dde7456-dfbb-43a6-92d6-0227636da508 button.colab-df-convert');\n",
              "        buttonEl.style.display =\n",
              "          google.colab.kernel.accessAllowed ? 'block' : 'none';\n",
              "\n",
              "        async function convertToInteractive(key) {\n",
              "          const element = document.querySelector('#df-4dde7456-dfbb-43a6-92d6-0227636da508');\n",
              "          const dataTable =\n",
              "            await google.colab.kernel.invokeFunction('convertToInteractive',\n",
              "                                                     [key], {});\n",
              "          if (!dataTable) return;\n",
              "\n",
              "          const docLinkHtml = 'Like what you see? Visit the ' +\n",
              "            '<a target=\"_blank\" href=https://colab.research.google.com/notebooks/data_table.ipynb>data table notebook</a>'\n",
              "            + ' to learn more about interactive tables.';\n",
              "          element.innerHTML = '';\n",
              "          dataTable['output_type'] = 'display_data';\n",
              "          await google.colab.output.renderOutput(dataTable, element);\n",
              "          const docLink = document.createElement('div');\n",
              "          docLink.innerHTML = docLinkHtml;\n",
              "          element.appendChild(docLink);\n",
              "        }\n",
              "      </script>\n",
              "    </div>\n",
              "  </div>\n",
              "  "
            ]
          },
          "metadata": {},
          "execution_count": 4
        }
      ]
    },
    {
      "cell_type": "markdown",
      "source": [
        "Remember to upload Data_extracted in gdrive.\n",
        "and also count the missing data."
      ],
      "metadata": {
        "id": "mrLofdvgvZC5"
      }
    },
    {
      "cell_type": "code",
      "source": [
        "name = 'DomainData_20230616.csv'\n",
        "suburbdf.to_csv(name, index=False)"
      ],
      "metadata": {
        "id": "_maXvJGUL7Gz"
      },
      "execution_count": null,
      "outputs": []
    },
    {
      "cell_type": "code",
      "source": [
        "len(suburbdf['SUBURB'].unique())"
      ],
      "metadata": {
        "colab": {
          "base_uri": "https://localhost:8080/"
        },
        "id": "aifDJPynK5qE",
        "outputId": "52c8ecb2-0147-4d15-83ed-879a76d4479d"
      },
      "execution_count": null,
      "outputs": [
        {
          "output_type": "execute_result",
          "data": {
            "text/plain": [
              "24"
            ]
          },
          "metadata": {},
          "execution_count": 7
        }
      ]
    },
    {
      "cell_type": "code",
      "source": [
        "# gdown.download(id = '1dQonVWbqhlyBFC5P7z2P2EOt_lHoBilB')\n",
        "# data_extracted = pd.read_csv('/content/data_extracted.csv')\n",
        "# data_extracted = pd.concat([data_extracted,suburbdf],ignore_index =True)\n",
        "\n",
        "gdown.download(id = '1-9f8leKz0Neo-PDn7e6gKLQPtvazpgMG')\n",
        "data_extracted = pd.read_csv('/content/DomainData_20230616.csv')\n",
        "data_extracted = pd.concat([data_extracted,suburbdf],ignore_index =True)"
      ],
      "metadata": {
        "colab": {
          "base_uri": "https://localhost:8080/"
        },
        "id": "t06MRJJiLd61",
        "outputId": "55e421e6-20f9-40e0-9b41-94fc425e02b8"
      },
      "execution_count": null,
      "outputs": [
        {
          "output_type": "stream",
          "name": "stderr",
          "text": [
            "Downloading...\n",
            "From: https://drive.google.com/uc?id=1-9f8leKz0Neo-PDn7e6gKLQPtvazpgMG\n",
            "To: /content/DomainData_20230616.csv\n",
            "100%|██████████| 437k/437k [00:00<00:00, 16.7MB/s]\n"
          ]
        }
      ]
    },
    {
      "cell_type": "code",
      "source": [
        "data_extracted.to_csv(name, index=False)"
      ],
      "metadata": {
        "id": "SgAbn2Q_M6t9"
      },
      "execution_count": null,
      "outputs": []
    }
  ]
}