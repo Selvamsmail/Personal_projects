{
  "nbformat": 4,
  "nbformat_minor": 0,
  "metadata": {
    "colab": {
      "provenance": []
    },
    "kernelspec": {
      "name": "python3",
      "display_name": "Python 3"
    },
    "language_info": {
      "name": "python"
    }
  },
  "cells": [
    {
      "cell_type": "code",
      "execution_count": 1,
      "metadata": {
        "id": "9WpSaBGezAQ7"
      },
      "outputs": [],
      "source": [
        "import os\n",
        "from bs4 import BeautifulSoup\n",
        "import numpy as np\n",
        "import pandas as pd\n",
        "import regex as re\n",
        "import requests\n",
        "import json\n",
        "import gdown\n",
        "import sys\n",
        "from tqdm import tqdm\n",
        "import time\n",
        "import pytz\n",
        "import datetime\n",
        "import logging\n",
        "from tqdm import tqdm\n",
        "import traceback"
      ]
    },
    {
      "cell_type": "code",
      "source": [
        "df = pd.read_excel('/content/DomainExtract_20230616.xlsx')"
      ],
      "metadata": {
        "id": "RvkY1fbazXrc"
      },
      "execution_count": 16,
      "outputs": []
    },
    {
      "cell_type": "code",
      "source": [
        "df['postcode'] = df['postcode'].apply(lambda x: str(x).zfill(4))"
      ],
      "metadata": {
        "id": "ezAdyNPizoxK"
      },
      "execution_count": 19,
      "outputs": []
    },
    {
      "cell_type": "code",
      "source": [
        "df"
      ],
      "metadata": {
        "id": "mt4kuv8o8IOj",
        "outputId": "a1fd5029-ee5b-43de-84f9-3ec61b195756",
        "colab": {
          "base_uri": "https://localhost:8080/",
          "height": 575
        }
      },
      "execution_count": 20,
      "outputs": [
        {
          "output_type": "execute_result",
          "data": {
            "text/plain": [
              "      postcode               state  suburb_name  bedrooms   type median_price  \\\n",
              "0         0800  Northern Territory  Darwin City         2  House            -   \n",
              "1         0800  Northern Territory  Darwin City         3  House            -   \n",
              "2         0800  Northern Territory  Darwin City         4  House            -   \n",
              "3         0800  Northern Territory  Darwin City         1   Unit        $261k   \n",
              "4         0800  Northern Territory  Darwin City         2   Unit        $415k   \n",
              "...        ...                 ...          ...       ...    ...          ...   \n",
              "25126     7470            Tasmania     Rosebery         3  House        $161k   \n",
              "25127     7470            Tasmania     Rosebery         4  House            -   \n",
              "25128     7470            Tasmania     Rosebery         5  House            -   \n",
              "25129     7470            Tasmania     Rosebery         2   Unit            -   \n",
              "25130     7470            Tasmania     Rosebery         3   Unit            -   \n",
              "\n",
              "       median_price_int  rental_median_price rental_yield  avg_days_on_market  \\\n",
              "0                     0                    0           0%                   0   \n",
              "1                     0                    0           0%                   0   \n",
              "2                     0                    0           0%                   0   \n",
              "3                261000                    0           0%                 161   \n",
              "4                415000                    0           0%                 213   \n",
              "...                 ...                  ...          ...                 ...   \n",
              "25126            161000                    0           0%                  50   \n",
              "25127                 0                    0           0%                   0   \n",
              "25128                 0                    0           0%                   0   \n",
              "25129                 0                    0           0%                   0   \n",
              "25130                 0                    0           0%                   0   \n",
              "\n",
              "       ... no_of_sales_2022  median_price_2021  growth_rate_2021  \\\n",
              "0      ...              NaN                NaN               NaN   \n",
              "1      ...              NaN                NaN               NaN   \n",
              "2      ...              NaN                NaN               NaN   \n",
              "3      ...              NaN                NaN               NaN   \n",
              "4      ...              NaN                NaN               NaN   \n",
              "...    ...              ...                ...               ...   \n",
              "25126  ...              NaN                NaN               NaN   \n",
              "25127  ...              NaN                NaN               NaN   \n",
              "25128  ...              NaN                NaN               NaN   \n",
              "25129  ...              NaN                NaN               NaN   \n",
              "25130  ...              NaN                NaN               NaN   \n",
              "\n",
              "      no_of_sales_2021  median_price_2020  growth_rate_2020  no_of_sales_2020  \\\n",
              "0                  NaN                NaN               NaN               NaN   \n",
              "1                  NaN                NaN               NaN               NaN   \n",
              "2                  NaN                NaN               NaN               NaN   \n",
              "3                  NaN                NaN               NaN               NaN   \n",
              "4                  NaN                NaN               NaN               NaN   \n",
              "...                ...                ...               ...               ...   \n",
              "25126              NaN                NaN               NaN               NaN   \n",
              "25127              NaN                NaN               NaN               NaN   \n",
              "25128              NaN                NaN               NaN               NaN   \n",
              "25129              NaN                NaN               NaN               NaN   \n",
              "25130              NaN                NaN               NaN               NaN   \n",
              "\n",
              "       median_price_2019 growth_rate_2019 no_of_sales_2019  \n",
              "0                    NaN              NaN              NaN  \n",
              "1                    NaN              NaN              NaN  \n",
              "2                    NaN              NaN              NaN  \n",
              "3                    NaN              NaN              NaN  \n",
              "4                    NaN              NaN              NaN  \n",
              "...                  ...              ...              ...  \n",
              "25126                NaN              NaN              NaN  \n",
              "25127                NaN              NaN              NaN  \n",
              "25128                NaN              NaN              NaN  \n",
              "25129                NaN              NaN              NaN  \n",
              "25130                NaN              NaN              NaN  \n",
              "\n",
              "[25131 rows x 37 columns]"
            ],
            "text/html": [
              "\n",
              "  <div id=\"df-9c1ac08e-8d00-4fd8-acce-b7c85d6eca4e\">\n",
              "    <div class=\"colab-df-container\">\n",
              "      <div>\n",
              "<style scoped>\n",
              "    .dataframe tbody tr th:only-of-type {\n",
              "        vertical-align: middle;\n",
              "    }\n",
              "\n",
              "    .dataframe tbody tr th {\n",
              "        vertical-align: top;\n",
              "    }\n",
              "\n",
              "    .dataframe thead th {\n",
              "        text-align: right;\n",
              "    }\n",
              "</style>\n",
              "<table border=\"1\" class=\"dataframe\">\n",
              "  <thead>\n",
              "    <tr style=\"text-align: right;\">\n",
              "      <th></th>\n",
              "      <th>postcode</th>\n",
              "      <th>state</th>\n",
              "      <th>suburb_name</th>\n",
              "      <th>bedrooms</th>\n",
              "      <th>type</th>\n",
              "      <th>median_price</th>\n",
              "      <th>median_price_int</th>\n",
              "      <th>rental_median_price</th>\n",
              "      <th>rental_yield</th>\n",
              "      <th>avg_days_on_market</th>\n",
              "      <th>...</th>\n",
              "      <th>no_of_sales_2022</th>\n",
              "      <th>median_price_2021</th>\n",
              "      <th>growth_rate_2021</th>\n",
              "      <th>no_of_sales_2021</th>\n",
              "      <th>median_price_2020</th>\n",
              "      <th>growth_rate_2020</th>\n",
              "      <th>no_of_sales_2020</th>\n",
              "      <th>median_price_2019</th>\n",
              "      <th>growth_rate_2019</th>\n",
              "      <th>no_of_sales_2019</th>\n",
              "    </tr>\n",
              "  </thead>\n",
              "  <tbody>\n",
              "    <tr>\n",
              "      <th>0</th>\n",
              "      <td>0800</td>\n",
              "      <td>Northern Territory</td>\n",
              "      <td>Darwin City</td>\n",
              "      <td>2</td>\n",
              "      <td>House</td>\n",
              "      <td>-</td>\n",
              "      <td>0</td>\n",
              "      <td>0</td>\n",
              "      <td>0%</td>\n",
              "      <td>0</td>\n",
              "      <td>...</td>\n",
              "      <td>NaN</td>\n",
              "      <td>NaN</td>\n",
              "      <td>NaN</td>\n",
              "      <td>NaN</td>\n",
              "      <td>NaN</td>\n",
              "      <td>NaN</td>\n",
              "      <td>NaN</td>\n",
              "      <td>NaN</td>\n",
              "      <td>NaN</td>\n",
              "      <td>NaN</td>\n",
              "    </tr>\n",
              "    <tr>\n",
              "      <th>1</th>\n",
              "      <td>0800</td>\n",
              "      <td>Northern Territory</td>\n",
              "      <td>Darwin City</td>\n",
              "      <td>3</td>\n",
              "      <td>House</td>\n",
              "      <td>-</td>\n",
              "      <td>0</td>\n",
              "      <td>0</td>\n",
              "      <td>0%</td>\n",
              "      <td>0</td>\n",
              "      <td>...</td>\n",
              "      <td>NaN</td>\n",
              "      <td>NaN</td>\n",
              "      <td>NaN</td>\n",
              "      <td>NaN</td>\n",
              "      <td>NaN</td>\n",
              "      <td>NaN</td>\n",
              "      <td>NaN</td>\n",
              "      <td>NaN</td>\n",
              "      <td>NaN</td>\n",
              "      <td>NaN</td>\n",
              "    </tr>\n",
              "    <tr>\n",
              "      <th>2</th>\n",
              "      <td>0800</td>\n",
              "      <td>Northern Territory</td>\n",
              "      <td>Darwin City</td>\n",
              "      <td>4</td>\n",
              "      <td>House</td>\n",
              "      <td>-</td>\n",
              "      <td>0</td>\n",
              "      <td>0</td>\n",
              "      <td>0%</td>\n",
              "      <td>0</td>\n",
              "      <td>...</td>\n",
              "      <td>NaN</td>\n",
              "      <td>NaN</td>\n",
              "      <td>NaN</td>\n",
              "      <td>NaN</td>\n",
              "      <td>NaN</td>\n",
              "      <td>NaN</td>\n",
              "      <td>NaN</td>\n",
              "      <td>NaN</td>\n",
              "      <td>NaN</td>\n",
              "      <td>NaN</td>\n",
              "    </tr>\n",
              "    <tr>\n",
              "      <th>3</th>\n",
              "      <td>0800</td>\n",
              "      <td>Northern Territory</td>\n",
              "      <td>Darwin City</td>\n",
              "      <td>1</td>\n",
              "      <td>Unit</td>\n",
              "      <td>$261k</td>\n",
              "      <td>261000</td>\n",
              "      <td>0</td>\n",
              "      <td>0%</td>\n",
              "      <td>161</td>\n",
              "      <td>...</td>\n",
              "      <td>NaN</td>\n",
              "      <td>NaN</td>\n",
              "      <td>NaN</td>\n",
              "      <td>NaN</td>\n",
              "      <td>NaN</td>\n",
              "      <td>NaN</td>\n",
              "      <td>NaN</td>\n",
              "      <td>NaN</td>\n",
              "      <td>NaN</td>\n",
              "      <td>NaN</td>\n",
              "    </tr>\n",
              "    <tr>\n",
              "      <th>4</th>\n",
              "      <td>0800</td>\n",
              "      <td>Northern Territory</td>\n",
              "      <td>Darwin City</td>\n",
              "      <td>2</td>\n",
              "      <td>Unit</td>\n",
              "      <td>$415k</td>\n",
              "      <td>415000</td>\n",
              "      <td>0</td>\n",
              "      <td>0%</td>\n",
              "      <td>213</td>\n",
              "      <td>...</td>\n",
              "      <td>NaN</td>\n",
              "      <td>NaN</td>\n",
              "      <td>NaN</td>\n",
              "      <td>NaN</td>\n",
              "      <td>NaN</td>\n",
              "      <td>NaN</td>\n",
              "      <td>NaN</td>\n",
              "      <td>NaN</td>\n",
              "      <td>NaN</td>\n",
              "      <td>NaN</td>\n",
              "    </tr>\n",
              "    <tr>\n",
              "      <th>...</th>\n",
              "      <td>...</td>\n",
              "      <td>...</td>\n",
              "      <td>...</td>\n",
              "      <td>...</td>\n",
              "      <td>...</td>\n",
              "      <td>...</td>\n",
              "      <td>...</td>\n",
              "      <td>...</td>\n",
              "      <td>...</td>\n",
              "      <td>...</td>\n",
              "      <td>...</td>\n",
              "      <td>...</td>\n",
              "      <td>...</td>\n",
              "      <td>...</td>\n",
              "      <td>...</td>\n",
              "      <td>...</td>\n",
              "      <td>...</td>\n",
              "      <td>...</td>\n",
              "      <td>...</td>\n",
              "      <td>...</td>\n",
              "      <td>...</td>\n",
              "    </tr>\n",
              "    <tr>\n",
              "      <th>25126</th>\n",
              "      <td>7470</td>\n",
              "      <td>Tasmania</td>\n",
              "      <td>Rosebery</td>\n",
              "      <td>3</td>\n",
              "      <td>House</td>\n",
              "      <td>$161k</td>\n",
              "      <td>161000</td>\n",
              "      <td>0</td>\n",
              "      <td>0%</td>\n",
              "      <td>50</td>\n",
              "      <td>...</td>\n",
              "      <td>NaN</td>\n",
              "      <td>NaN</td>\n",
              "      <td>NaN</td>\n",
              "      <td>NaN</td>\n",
              "      <td>NaN</td>\n",
              "      <td>NaN</td>\n",
              "      <td>NaN</td>\n",
              "      <td>NaN</td>\n",
              "      <td>NaN</td>\n",
              "      <td>NaN</td>\n",
              "    </tr>\n",
              "    <tr>\n",
              "      <th>25127</th>\n",
              "      <td>7470</td>\n",
              "      <td>Tasmania</td>\n",
              "      <td>Rosebery</td>\n",
              "      <td>4</td>\n",
              "      <td>House</td>\n",
              "      <td>-</td>\n",
              "      <td>0</td>\n",
              "      <td>0</td>\n",
              "      <td>0%</td>\n",
              "      <td>0</td>\n",
              "      <td>...</td>\n",
              "      <td>NaN</td>\n",
              "      <td>NaN</td>\n",
              "      <td>NaN</td>\n",
              "      <td>NaN</td>\n",
              "      <td>NaN</td>\n",
              "      <td>NaN</td>\n",
              "      <td>NaN</td>\n",
              "      <td>NaN</td>\n",
              "      <td>NaN</td>\n",
              "      <td>NaN</td>\n",
              "    </tr>\n",
              "    <tr>\n",
              "      <th>25128</th>\n",
              "      <td>7470</td>\n",
              "      <td>Tasmania</td>\n",
              "      <td>Rosebery</td>\n",
              "      <td>5</td>\n",
              "      <td>House</td>\n",
              "      <td>-</td>\n",
              "      <td>0</td>\n",
              "      <td>0</td>\n",
              "      <td>0%</td>\n",
              "      <td>0</td>\n",
              "      <td>...</td>\n",
              "      <td>NaN</td>\n",
              "      <td>NaN</td>\n",
              "      <td>NaN</td>\n",
              "      <td>NaN</td>\n",
              "      <td>NaN</td>\n",
              "      <td>NaN</td>\n",
              "      <td>NaN</td>\n",
              "      <td>NaN</td>\n",
              "      <td>NaN</td>\n",
              "      <td>NaN</td>\n",
              "    </tr>\n",
              "    <tr>\n",
              "      <th>25129</th>\n",
              "      <td>7470</td>\n",
              "      <td>Tasmania</td>\n",
              "      <td>Rosebery</td>\n",
              "      <td>2</td>\n",
              "      <td>Unit</td>\n",
              "      <td>-</td>\n",
              "      <td>0</td>\n",
              "      <td>0</td>\n",
              "      <td>0%</td>\n",
              "      <td>0</td>\n",
              "      <td>...</td>\n",
              "      <td>NaN</td>\n",
              "      <td>NaN</td>\n",
              "      <td>NaN</td>\n",
              "      <td>NaN</td>\n",
              "      <td>NaN</td>\n",
              "      <td>NaN</td>\n",
              "      <td>NaN</td>\n",
              "      <td>NaN</td>\n",
              "      <td>NaN</td>\n",
              "      <td>NaN</td>\n",
              "    </tr>\n",
              "    <tr>\n",
              "      <th>25130</th>\n",
              "      <td>7470</td>\n",
              "      <td>Tasmania</td>\n",
              "      <td>Rosebery</td>\n",
              "      <td>3</td>\n",
              "      <td>Unit</td>\n",
              "      <td>-</td>\n",
              "      <td>0</td>\n",
              "      <td>0</td>\n",
              "      <td>0%</td>\n",
              "      <td>0</td>\n",
              "      <td>...</td>\n",
              "      <td>NaN</td>\n",
              "      <td>NaN</td>\n",
              "      <td>NaN</td>\n",
              "      <td>NaN</td>\n",
              "      <td>NaN</td>\n",
              "      <td>NaN</td>\n",
              "      <td>NaN</td>\n",
              "      <td>NaN</td>\n",
              "      <td>NaN</td>\n",
              "      <td>NaN</td>\n",
              "    </tr>\n",
              "  </tbody>\n",
              "</table>\n",
              "<p>25131 rows × 37 columns</p>\n",
              "</div>\n",
              "      <button class=\"colab-df-convert\" onclick=\"convertToInteractive('df-9c1ac08e-8d00-4fd8-acce-b7c85d6eca4e')\"\n",
              "              title=\"Convert this dataframe to an interactive table.\"\n",
              "              style=\"display:none;\">\n",
              "        \n",
              "  <svg xmlns=\"http://www.w3.org/2000/svg\" height=\"24px\"viewBox=\"0 0 24 24\"\n",
              "       width=\"24px\">\n",
              "    <path d=\"M0 0h24v24H0V0z\" fill=\"none\"/>\n",
              "    <path d=\"M18.56 5.44l.94 2.06.94-2.06 2.06-.94-2.06-.94-.94-2.06-.94 2.06-2.06.94zm-11 1L8.5 8.5l.94-2.06 2.06-.94-2.06-.94L8.5 2.5l-.94 2.06-2.06.94zm10 10l.94 2.06.94-2.06 2.06-.94-2.06-.94-.94-2.06-.94 2.06-2.06.94z\"/><path d=\"M17.41 7.96l-1.37-1.37c-.4-.4-.92-.59-1.43-.59-.52 0-1.04.2-1.43.59L10.3 9.45l-7.72 7.72c-.78.78-.78 2.05 0 2.83L4 21.41c.39.39.9.59 1.41.59.51 0 1.02-.2 1.41-.59l7.78-7.78 2.81-2.81c.8-.78.8-2.07 0-2.86zM5.41 20L4 18.59l7.72-7.72 1.47 1.35L5.41 20z\"/>\n",
              "  </svg>\n",
              "      </button>\n",
              "      \n",
              "  <style>\n",
              "    .colab-df-container {\n",
              "      display:flex;\n",
              "      flex-wrap:wrap;\n",
              "      gap: 12px;\n",
              "    }\n",
              "\n",
              "    .colab-df-convert {\n",
              "      background-color: #E8F0FE;\n",
              "      border: none;\n",
              "      border-radius: 50%;\n",
              "      cursor: pointer;\n",
              "      display: none;\n",
              "      fill: #1967D2;\n",
              "      height: 32px;\n",
              "      padding: 0 0 0 0;\n",
              "      width: 32px;\n",
              "    }\n",
              "\n",
              "    .colab-df-convert:hover {\n",
              "      background-color: #E2EBFA;\n",
              "      box-shadow: 0px 1px 2px rgba(60, 64, 67, 0.3), 0px 1px 3px 1px rgba(60, 64, 67, 0.15);\n",
              "      fill: #174EA6;\n",
              "    }\n",
              "\n",
              "    [theme=dark] .colab-df-convert {\n",
              "      background-color: #3B4455;\n",
              "      fill: #D2E3FC;\n",
              "    }\n",
              "\n",
              "    [theme=dark] .colab-df-convert:hover {\n",
              "      background-color: #434B5C;\n",
              "      box-shadow: 0px 1px 3px 1px rgba(0, 0, 0, 0.15);\n",
              "      filter: drop-shadow(0px 1px 2px rgba(0, 0, 0, 0.3));\n",
              "      fill: #FFFFFF;\n",
              "    }\n",
              "  </style>\n",
              "\n",
              "      <script>\n",
              "        const buttonEl =\n",
              "          document.querySelector('#df-9c1ac08e-8d00-4fd8-acce-b7c85d6eca4e button.colab-df-convert');\n",
              "        buttonEl.style.display =\n",
              "          google.colab.kernel.accessAllowed ? 'block' : 'none';\n",
              "\n",
              "        async function convertToInteractive(key) {\n",
              "          const element = document.querySelector('#df-9c1ac08e-8d00-4fd8-acce-b7c85d6eca4e');\n",
              "          const dataTable =\n",
              "            await google.colab.kernel.invokeFunction('convertToInteractive',\n",
              "                                                     [key], {});\n",
              "          if (!dataTable) return;\n",
              "\n",
              "          const docLinkHtml = 'Like what you see? Visit the ' +\n",
              "            '<a target=\"_blank\" href=https://colab.research.google.com/notebooks/data_table.ipynb>data table notebook</a>'\n",
              "            + ' to learn more about interactive tables.';\n",
              "          element.innerHTML = '';\n",
              "          dataTable['output_type'] = 'display_data';\n",
              "          await google.colab.output.renderOutput(dataTable, element);\n",
              "          const docLink = document.createElement('div');\n",
              "          docLink.innerHTML = docLinkHtml;\n",
              "          element.appendChild(docLink);\n",
              "        }\n",
              "      </script>\n",
              "    </div>\n",
              "  </div>\n",
              "  "
            ]
          },
          "metadata": {},
          "execution_count": 20
        }
      ]
    },
    {
      "cell_type": "code",
      "source": [
        "def convert_to_int(value):\n",
        "    if value == '0.0':\n",
        "        return 0\n",
        "    elif value.endswith(\"%\"):\n",
        "        return float(value[:-1])\n",
        "    elif value.endswith(\"k\"):\n",
        "        return int(float(value[1:-1]) * 1000)\n",
        "    elif value.endswith(\"m\"):\n",
        "        return int(float(value[1:-1]) * 1000000)\n",
        "    elif '.' in value:\n",
        "        try:\n",
        "            return float(value)\n",
        "        except ValueError:\n",
        "            return 0\n",
        "    else:\n",
        "        try:\n",
        "            return int(value)\n",
        "        except ValueError:\n",
        "            return 0\n",
        "\n",
        "def replace_with_zero(x):\n",
        "    if x == '-' or pd.isnull(x):\n",
        "        return 0\n",
        "    else:\n",
        "        return x"
      ],
      "metadata": {
        "id": "DX3lapklTCQe"
      },
      "execution_count": 44,
      "outputs": []
    },
    {
      "cell_type": "code",
      "source": [
        "df['rental_yield'] = [convert_to_int(value) for value in df['rental_yield']]"
      ],
      "metadata": {
        "id": "bFHjqWOiz1ar"
      },
      "execution_count": 23,
      "outputs": []
    },
    {
      "cell_type": "code",
      "source": [
        "df['rental_yield'].unique()"
      ],
      "metadata": {
        "id": "9mWghpsZ0RXX",
        "colab": {
          "base_uri": "https://localhost:8080/"
        },
        "outputId": "57f71fe0-e385-4777-bd29-d6d1cc989d6d"
      },
      "execution_count": 24,
      "outputs": [
        {
          "output_type": "execute_result",
          "data": {
            "text/plain": [
              "array([0., 1., 2., 3., 4., 7., 6.])"
            ]
          },
          "metadata": {},
          "execution_count": 24
        }
      ]
    },
    {
      "cell_type": "code",
      "source": [
        "df.columns"
      ],
      "metadata": {
        "colab": {
          "base_uri": "https://localhost:8080/"
        },
        "id": "jiVb6etuUIal",
        "outputId": "1d68d082-f6da-4c9f-f701-d2980bd0d403"
      },
      "execution_count": 26,
      "outputs": [
        {
          "output_type": "execute_result",
          "data": {
            "text/plain": [
              "Index(['postcode', 'state', 'suburb_name', 'bedrooms', 'type', 'median_price',\n",
              "       'median_price_int', 'rental_median_price', 'rental_yield',\n",
              "       'avg_days_on_market', 'clearance_rate', 'sold_this_year', 'population',\n",
              "       'average_age', 'owner', 'renter', 'family', 'single', 'suburb',\n",
              "       'time_stamp', 'auction_clearance', 'average_days_on_market',\n",
              "       'median_price_2023', 'growth_rate_2023', 'no_of_sales_2023',\n",
              "       'median_price_2022', 'growth_rate_2022', 'no_of_sales_2022',\n",
              "       'median_price_2021', 'growth_rate_2021', 'no_of_sales_2021',\n",
              "       'median_price_2020', 'growth_rate_2020', 'no_of_sales_2020',\n",
              "       'median_price_2019', 'growth_rate_2019', 'no_of_sales_2019'],\n",
              "      dtype='object')"
            ]
          },
          "metadata": {},
          "execution_count": 26
        }
      ]
    },
    {
      "cell_type": "code",
      "source": [
        "df['clearance_rate'] = df['clearance_rate'].apply(lambda x: 0 if x == '-' else x)\n",
        "df['clearance_rate'].unique()"
      ],
      "metadata": {
        "colab": {
          "base_uri": "https://localhost:8080/"
        },
        "id": "SLrRAvA8UxNg",
        "outputId": "a0a53e28-a797-4b81-f7a3-e3054a64ccd2"
      },
      "execution_count": 33,
      "outputs": [
        {
          "output_type": "execute_result",
          "data": {
            "text/plain": [
              "array([0.  , 0.53, 0.62, 0.57, 0.46, 0.42, 0.91, 0.44, 0.49, 0.48, 0.5 ,\n",
              "       0.67, 0.47, 0.4 , 0.71, 0.68, 0.69, 0.63, 0.51, 0.54, 0.59, 0.76,\n",
              "       0.73, 0.65, 0.75, 0.45, 0.38, 0.56, 0.64, 0.55, 0.6 , 0.28, 0.77,\n",
              "       0.83, 0.7 , 0.79, 0.41, 0.36, 0.74, 0.58, 0.84, 0.89, 0.82, 0.52,\n",
              "       0.39, 0.35, 0.3 , 0.95, 0.61, 0.85, 0.43, 0.8 , 0.81, 0.78, 0.72,\n",
              "       0.88, 0.27, 0.9 , 0.33, 0.37, 0.66, 0.86, 0.25, 0.15, 0.2 , 0.92,\n",
              "       0.17, 0.31, 0.34, 0.22, 0.94, 0.18, 0.19, 0.23, 1.  , 0.08, 0.32,\n",
              "       0.29, 0.24, 0.26, 0.87, 0.21, 0.14, 0.93, 0.13, 0.16, 0.05, 0.09,\n",
              "       0.06])"
            ]
          },
          "metadata": {},
          "execution_count": 33
        }
      ]
    },
    {
      "cell_type": "code",
      "source": [
        "int_cols = ['bedrooms', 'median_price_int', 'rental_median_price', 'rental_yield',\n",
        "       'avg_days_on_market', 'clearance_rate', 'sold_this_year', 'population',\n",
        "       'owner', 'renter', 'family', 'single', 'auction_clearance', 'average_days_on_market',\n",
        "       'median_price_2023', 'growth_rate_2023', 'no_of_sales_2023',\n",
        "       'median_price_2022', 'growth_rate_2022', 'no_of_sales_2022',\n",
        "       'median_price_2021', 'growth_rate_2021', 'no_of_sales_2021',\n",
        "       'median_price_2020', 'growth_rate_2020', 'no_of_sales_2020',\n",
        "       'median_price_2019', 'growth_rate_2019', 'no_of_sales_2019']"
      ],
      "metadata": {
        "id": "e7_RVws3V21e"
      },
      "execution_count": 36,
      "outputs": []
    },
    {
      "cell_type": "code",
      "source": [
        "for cols in int_cols:\n",
        "  df[cols] = [replace_with_zero(value) for value in df[cols]]\n",
        "  df[cols] = df[cols].astype('str')\n",
        "  df[cols] = [convert_to_int(value) for value in df[cols]]"
      ],
      "metadata": {
        "id": "xMAxPlN4YpDn"
      },
      "execution_count": 45,
      "outputs": []
    },
    {
      "cell_type": "code",
      "source": [
        "df.columns"
      ],
      "metadata": {
        "colab": {
          "base_uri": "https://localhost:8080/"
        },
        "id": "1IYJd9IBfhdW",
        "outputId": "4050d827-494d-4025-f815-55958de3325a"
      },
      "execution_count": 52,
      "outputs": [
        {
          "output_type": "execute_result",
          "data": {
            "text/plain": [
              "Index(['postcode', 'state', 'suburb_name', 'bedrooms', 'type', 'median_price',\n",
              "       'median_price_int', 'rental_median_price', 'rental_yield',\n",
              "       'avg_days_on_market', 'clearance_rate', 'sold_this_year', 'population',\n",
              "       'average_age', 'owner', 'renter', 'family', 'single', 'suburb',\n",
              "       'time_stamp', 'auction_clearance', 'average_days_on_market',\n",
              "       'median_price_2023', 'growth_rate_2023', 'no_of_sales_2023',\n",
              "       'median_price_2022', 'growth_rate_2022', 'no_of_sales_2022',\n",
              "       'median_price_2021', 'growth_rate_2021', 'no_of_sales_2021',\n",
              "       'median_price_2020', 'growth_rate_2020', 'no_of_sales_2020',\n",
              "       'median_price_2019', 'growth_rate_2019', 'no_of_sales_2019'],\n",
              "      dtype='object')"
            ]
          },
          "metadata": {},
          "execution_count": 52
        }
      ]
    },
    {
      "cell_type": "code",
      "source": [
        "new_column_names = {\n",
        "    'time_stamp':'timestamp',\n",
        "    'suburb': 'domain_search_string'\n",
        "}\n",
        "df = df.rename(columns=new_column_names)"
      ],
      "metadata": {
        "id": "BhH4ABeof3Uv"
      },
      "execution_count": 53,
      "outputs": []
    },
    {
      "cell_type": "code",
      "source": [
        "df.columns"
      ],
      "metadata": {
        "colab": {
          "base_uri": "https://localhost:8080/"
        },
        "id": "Yb4hF9uYgarQ",
        "outputId": "7fbab3dc-19e1-4f69-fe17-9349b3291344"
      },
      "execution_count": 55,
      "outputs": [
        {
          "output_type": "execute_result",
          "data": {
            "text/plain": [
              "Index(['postcode', 'state', 'suburb_name', 'bedrooms', 'type', 'median_price',\n",
              "       'median_price_int', 'rental_median_price', 'rental_yield',\n",
              "       'avg_days_on_market', 'clearance_rate', 'sold_this_year', 'population',\n",
              "       'average_age', 'owner', 'renter', 'family', 'single',\n",
              "       'domain_search_string', 'timestamp', 'auction_clearance',\n",
              "       'average_days_on_market', 'median_price_2023', 'growth_rate_2023',\n",
              "       'no_of_sales_2023', 'median_price_2022', 'growth_rate_2022',\n",
              "       'no_of_sales_2022', 'median_price_2021', 'growth_rate_2021',\n",
              "       'no_of_sales_2021', 'median_price_2020', 'growth_rate_2020',\n",
              "       'no_of_sales_2020', 'median_price_2019', 'growth_rate_2019',\n",
              "       'no_of_sales_2019'],\n",
              "      dtype='object')"
            ]
          },
          "metadata": {},
          "execution_count": 55
        }
      ]
    },
    {
      "cell_type": "code",
      "source": [
        "df.to_excel('DomainExtract_20230616.xlsx',index = False)"
      ],
      "metadata": {
        "id": "25b1HLWDeKiH"
      },
      "execution_count": 56,
      "outputs": []
    }
  ]
}